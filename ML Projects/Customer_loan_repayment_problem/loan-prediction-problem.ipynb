{
 "cells": [
  {
   "cell_type": "markdown",
   "execution_count": null,
   "metadata": {
    "papermill": {
     "duration": 0.021928,
     "end_time": "2020-09-08T03:15:55.361283",
     "exception": false,
     "start_time": "2020-09-08T03:15:55.339355",
     "status": "completed"
    },
    "tags": []
   },
   "source": [
    "# Predicting Loan Repayment\n",
    "\n",
    "\n",
    "The dataset for this project is retrieved from kaggle, the home of Data Science.\n",
    "\n",
    "The major aim of this project is to predict whether the customers will have their loan paid or not. Therefore, this is a supervised classification problem to be trained."
   ]
  },
  {
   "cell_type": "markdown",
   "execution_count": null,
   "metadata": {
    "papermill": {
     "duration": 0.02001,
     "end_time": "2020-09-08T03:15:55.401984",
     "exception": false,
     "start_time": "2020-09-08T03:15:55.381974",
     "status": "completed"
    },
    "tags": []
   },
   "source": [
    "### **1- Importing Libraries**"
   ]
  },
  {
   "cell_type": "code",
   "execution_count": 1,
   "metadata": {
    "execution": {
     "iopub.execute_input": "2020-09-08T03:15:55.456123Z",
     "iopub.status.busy": "2020-09-08T03:15:55.455295Z",
     "iopub.status.idle": "2020-09-08T03:15:58.502367Z",
     "shell.execute_reply": "2020-09-08T03:15:58.501676Z"
    },
    "papermill": {
     "duration": 3.080197,
     "end_time": "2020-09-08T03:15:58.502515",
     "exception": false,
     "start_time": "2020-09-08T03:15:55.422318",
     "status": "completed"
    },
    "tags": []
   },
   "outputs": [],
   "source": [
    "import numpy as np\n",
    "import pandas as pd\n",
    "import matplotlib.pyplot as plt\n",
    "import seaborn as sns\n",
    "%matplotlib inline\n",
    "from sklearn.preprocessing import LabelEncoder\n",
    "from sklearn.model_selection import train_test_split\n",
    "from sklearn.linear_model import LogisticRegression\n",
    "from sklearn.metrics import confusion_matrix, classification_report,accuracy_score\n",
    "from sklearn.tree import DecisionTreeClassifier\n",
    "from sklearn.ensemble import RandomForestClassifier\n",
    "from sklearn.neighbors import KNeighborsClassifier\n",
    "from sklearn.svm import SVC\n",
    "from sklearn.model_selection import GridSearchCV\n",
    "import plotly.express as px"
   ]
  },
  {
   "cell_type": "markdown",
   "execution_count": null,
   "metadata": {
    "papermill": {
     "duration": 0.0203,
     "end_time": "2020-09-08T03:15:58.543518",
     "exception": false,
     "start_time": "2020-09-08T03:15:58.523218",
     "status": "completed"
    },
    "tags": []
   },
   "source": [
    "### **2- Getting Data**"
   ]
  },
  {
   "cell_type": "code",
   "execution_count": 2,
   "metadata": {
    "execution": {
     "iopub.execute_input": "2020-09-08T03:15:58.596255Z",
     "iopub.status.busy": "2020-09-08T03:15:58.594912Z",
     "iopub.status.idle": "2020-09-08T03:15:58.615955Z",
     "shell.execute_reply": "2020-09-08T03:15:58.616654Z"
    },
    "papermill": {
     "duration": 0.052871,
     "end_time": "2020-09-08T03:15:58.616870",
     "exception": false,
     "start_time": "2020-09-08T03:15:58.563999",
     "status": "completed"
    },
    "tags": []
   },
   "outputs": [],
   "source": [
    "df=pd.read_csv('../input/loan-prediction-problem-dataset/train_u6lujuX_CVtuZ9i.csv')"
   ]
  },
  {
   "cell_type": "code",
   "execution_count": 3,
   "metadata": {
    "execution": {
     "iopub.execute_input": "2020-09-08T03:15:58.702993Z",
     "iopub.status.busy": "2020-09-08T03:15:58.701710Z",
     "iopub.status.idle": "2020-09-08T03:15:58.726499Z",
     "shell.execute_reply": "2020-09-08T03:15:58.727470Z"
    },
    "papermill": {
     "duration": 0.08401,
     "end_time": "2020-09-08T03:15:58.727718",
     "exception": false,
     "start_time": "2020-09-08T03:15:58.643708",
     "status": "completed"
    },
    "tags": []
   },
   "outputs": [
    {
     "data": {
      "text/html": [
       "<div>\n",
       "<style scoped>\n",
       "    .dataframe tbody tr th:only-of-type {\n",
       "        vertical-align: middle;\n",
       "    }\n",
       "\n",
       "    .dataframe tbody tr th {\n",
       "        vertical-align: top;\n",
       "    }\n",
       "\n",
       "    .dataframe thead th {\n",
       "        text-align: right;\n",
       "    }\n",
       "</style>\n",
       "<table border=\"1\" class=\"dataframe\">\n",
       "  <thead>\n",
       "    <tr style=\"text-align: right;\">\n",
       "      <th></th>\n",
       "      <th>Loan_ID</th>\n",
       "      <th>Gender</th>\n",
       "      <th>Married</th>\n",
       "      <th>Dependents</th>\n",
       "      <th>Education</th>\n",
       "      <th>Self_Employed</th>\n",
       "      <th>ApplicantIncome</th>\n",
       "      <th>CoapplicantIncome</th>\n",
       "      <th>LoanAmount</th>\n",
       "      <th>Loan_Amount_Term</th>\n",
       "      <th>Credit_History</th>\n",
       "      <th>Property_Area</th>\n",
       "      <th>Loan_Status</th>\n",
       "    </tr>\n",
       "  </thead>\n",
       "  <tbody>\n",
       "    <tr>\n",
       "      <th>0</th>\n",
       "      <td>LP001002</td>\n",
       "      <td>Male</td>\n",
       "      <td>No</td>\n",
       "      <td>0</td>\n",
       "      <td>Graduate</td>\n",
       "      <td>No</td>\n",
       "      <td>5849</td>\n",
       "      <td>0.0</td>\n",
       "      <td>NaN</td>\n",
       "      <td>360.0</td>\n",
       "      <td>1.0</td>\n",
       "      <td>Urban</td>\n",
       "      <td>Y</td>\n",
       "    </tr>\n",
       "    <tr>\n",
       "      <th>1</th>\n",
       "      <td>LP001003</td>\n",
       "      <td>Male</td>\n",
       "      <td>Yes</td>\n",
       "      <td>1</td>\n",
       "      <td>Graduate</td>\n",
       "      <td>No</td>\n",
       "      <td>4583</td>\n",
       "      <td>1508.0</td>\n",
       "      <td>128.0</td>\n",
       "      <td>360.0</td>\n",
       "      <td>1.0</td>\n",
       "      <td>Rural</td>\n",
       "      <td>N</td>\n",
       "    </tr>\n",
       "    <tr>\n",
       "      <th>2</th>\n",
       "      <td>LP001005</td>\n",
       "      <td>Male</td>\n",
       "      <td>Yes</td>\n",
       "      <td>0</td>\n",
       "      <td>Graduate</td>\n",
       "      <td>Yes</td>\n",
       "      <td>3000</td>\n",
       "      <td>0.0</td>\n",
       "      <td>66.0</td>\n",
       "      <td>360.0</td>\n",
       "      <td>1.0</td>\n",
       "      <td>Urban</td>\n",
       "      <td>Y</td>\n",
       "    </tr>\n",
       "    <tr>\n",
       "      <th>3</th>\n",
       "      <td>LP001006</td>\n",
       "      <td>Male</td>\n",
       "      <td>Yes</td>\n",
       "      <td>0</td>\n",
       "      <td>Not Graduate</td>\n",
       "      <td>No</td>\n",
       "      <td>2583</td>\n",
       "      <td>2358.0</td>\n",
       "      <td>120.0</td>\n",
       "      <td>360.0</td>\n",
       "      <td>1.0</td>\n",
       "      <td>Urban</td>\n",
       "      <td>Y</td>\n",
       "    </tr>\n",
       "    <tr>\n",
       "      <th>4</th>\n",
       "      <td>LP001008</td>\n",
       "      <td>Male</td>\n",
       "      <td>No</td>\n",
       "      <td>0</td>\n",
       "      <td>Graduate</td>\n",
       "      <td>No</td>\n",
       "      <td>6000</td>\n",
       "      <td>0.0</td>\n",
       "      <td>141.0</td>\n",
       "      <td>360.0</td>\n",
       "      <td>1.0</td>\n",
       "      <td>Urban</td>\n",
       "      <td>Y</td>\n",
       "    </tr>\n",
       "  </tbody>\n",
       "</table>\n",
       "</div>"
      ],
      "text/plain": [
       "    Loan_ID Gender Married Dependents     Education Self_Employed  \\\n",
       "0  LP001002   Male      No          0      Graduate            No   \n",
       "1  LP001003   Male     Yes          1      Graduate            No   \n",
       "2  LP001005   Male     Yes          0      Graduate           Yes   \n",
       "3  LP001006   Male     Yes          0  Not Graduate            No   \n",
       "4  LP001008   Male      No          0      Graduate            No   \n",
       "\n",
       "   ApplicantIncome  CoapplicantIncome  LoanAmount  Loan_Amount_Term  \\\n",
       "0             5849                0.0         NaN             360.0   \n",
       "1             4583             1508.0       128.0             360.0   \n",
       "2             3000                0.0        66.0             360.0   \n",
       "3             2583             2358.0       120.0             360.0   \n",
       "4             6000                0.0       141.0             360.0   \n",
       "\n",
       "   Credit_History Property_Area Loan_Status  \n",
       "0             1.0         Urban           Y  \n",
       "1             1.0         Rural           N  \n",
       "2             1.0         Urban           Y  \n",
       "3             1.0         Urban           Y  \n",
       "4             1.0         Urban           Y  "
      ]
     },
     "execution_count": 3,
     "metadata": {},
     "output_type": "execute_result"
    }
   ],
   "source": [
    "df.head()"
   ]
  },
  {
   "cell_type": "code",
   "execution_count": 4,
   "metadata": {
    "execution": {
     "iopub.execute_input": "2020-09-08T03:15:58.790142Z",
     "iopub.status.busy": "2020-09-08T03:15:58.789253Z",
     "iopub.status.idle": "2020-09-08T03:15:58.794164Z",
     "shell.execute_reply": "2020-09-08T03:15:58.793540Z"
    },
    "papermill": {
     "duration": 0.035154,
     "end_time": "2020-09-08T03:15:58.794299",
     "exception": false,
     "start_time": "2020-09-08T03:15:58.759145",
     "status": "completed"
    },
    "tags": []
   },
   "outputs": [
    {
     "data": {
      "text/plain": [
       "(614, 13)"
      ]
     },
     "execution_count": 4,
     "metadata": {},
     "output_type": "execute_result"
    }
   ],
   "source": [
    "df.shape"
   ]
  },
  {
   "cell_type": "markdown",
   "execution_count": null,
   "metadata": {
    "papermill": {
     "duration": 0.02076,
     "end_time": "2020-09-08T03:15:58.836898",
     "exception": false,
     "start_time": "2020-09-08T03:15:58.816138",
     "status": "completed"
    },
    "tags": []
   },
   "source": [
    "##### 2-1-Renaming columns"
   ]
  },
  {
   "cell_type": "code",
   "execution_count": 5,
   "metadata": {
    "execution": {
     "iopub.execute_input": "2020-09-08T03:15:58.887370Z",
     "iopub.status.busy": "2020-09-08T03:15:58.886315Z",
     "iopub.status.idle": "2020-09-08T03:15:58.889371Z",
     "shell.execute_reply": "2020-09-08T03:15:58.889919Z"
    },
    "papermill": {
     "duration": 0.031593,
     "end_time": "2020-09-08T03:15:58.890108",
     "exception": false,
     "start_time": "2020-09-08T03:15:58.858515",
     "status": "completed"
    },
    "tags": []
   },
   "outputs": [],
   "source": [
    "df.columns=df.columns.str.lower()"
   ]
  },
  {
   "cell_type": "code",
   "execution_count": 6,
   "metadata": {
    "execution": {
     "iopub.execute_input": "2020-09-08T03:15:58.941867Z",
     "iopub.status.busy": "2020-09-08T03:15:58.941080Z",
     "iopub.status.idle": "2020-09-08T03:15:58.944879Z",
     "shell.execute_reply": "2020-09-08T03:15:58.944242Z"
    },
    "papermill": {
     "duration": 0.032546,
     "end_time": "2020-09-08T03:15:58.945013",
     "exception": false,
     "start_time": "2020-09-08T03:15:58.912467",
     "status": "completed"
    },
    "tags": []
   },
   "outputs": [],
   "source": [
    "df.columns=['loan_id', 'gender', 'married', 'dependents', 'education','self_employed', 'applicant_income', 'co-applicant_income', 'loan_amount', 'loan_amount_term', 'credit_history', 'property_area', 'loan_status']"
   ]
  },
  {
   "cell_type": "markdown",
   "execution_count": null,
   "metadata": {
    "papermill": {
     "duration": 0.0218,
     "end_time": "2020-09-08T03:15:58.989112",
     "exception": false,
     "start_time": "2020-09-08T03:15:58.967312",
     "status": "completed"
    },
    "tags": []
   },
   "source": [
    "##### 2-2-Checking null values"
   ]
  },
  {
   "cell_type": "code",
   "execution_count": 7,
   "metadata": {
    "execution": {
     "iopub.execute_input": "2020-09-08T03:15:59.043901Z",
     "iopub.status.busy": "2020-09-08T03:15:59.042741Z",
     "iopub.status.idle": "2020-09-08T03:15:59.048249Z",
     "shell.execute_reply": "2020-09-08T03:15:59.047450Z"
    },
    "papermill": {
     "duration": 0.036876,
     "end_time": "2020-09-08T03:15:59.048378",
     "exception": false,
     "start_time": "2020-09-08T03:15:59.011502",
     "status": "completed"
    },
    "tags": []
   },
   "outputs": [
    {
     "data": {
      "text/plain": [
       "loan_id                 0\n",
       "gender                 13\n",
       "married                 3\n",
       "dependents             15\n",
       "education               0\n",
       "self_employed          32\n",
       "applicant_income        0\n",
       "co-applicant_income     0\n",
       "loan_amount            22\n",
       "loan_amount_term       14\n",
       "credit_history         50\n",
       "property_area           0\n",
       "loan_status             0\n",
       "dtype: int64"
      ]
     },
     "execution_count": 7,
     "metadata": {},
     "output_type": "execute_result"
    }
   ],
   "source": [
    "df.isnull().sum()"
   ]
  },
  {
   "cell_type": "markdown",
   "execution_count": null,
   "metadata": {
    "papermill": {
     "duration": 0.021552,
     "end_time": "2020-09-08T03:15:59.091701",
     "exception": false,
     "start_time": "2020-09-08T03:15:59.070149",
     "status": "completed"
    },
    "tags": []
   },
   "source": [
    "we take care of missing values in \"loan_amount\" and \"credit_history\".\n",
    "For other null values, we either delete a particular row if it has a null value for a particular feature and a particular column if it has more than 70-75% of missing values. This method is advised only when there are enough samples in the data set. "
   ]
  },
  {
   "cell_type": "code",
   "execution_count": 8,
   "metadata": {
    "execution": {
     "iopub.execute_input": "2020-09-08T03:15:59.142140Z",
     "iopub.status.busy": "2020-09-08T03:15:59.141318Z",
     "iopub.status.idle": "2020-09-08T03:15:59.144823Z",
     "shell.execute_reply": "2020-09-08T03:15:59.144224Z"
    },
    "papermill": {
     "duration": 0.031739,
     "end_time": "2020-09-08T03:15:59.144958",
     "exception": false,
     "start_time": "2020-09-08T03:15:59.113219",
     "status": "completed"
    },
    "tags": []
   },
   "outputs": [],
   "source": [
    "df['loan_amount']=df['loan_amount'].fillna(df['loan_amount'].mean())   "
   ]
  },
  {
   "cell_type": "code",
   "execution_count": 9,
   "metadata": {
    "execution": {
     "iopub.execute_input": "2020-09-08T03:15:59.195412Z",
     "iopub.status.busy": "2020-09-08T03:15:59.194541Z",
     "iopub.status.idle": "2020-09-08T03:15:59.198957Z",
     "shell.execute_reply": "2020-09-08T03:15:59.198291Z"
    },
    "papermill": {
     "duration": 0.032463,
     "end_time": "2020-09-08T03:15:59.199089",
     "exception": false,
     "start_time": "2020-09-08T03:15:59.166626",
     "status": "completed"
    },
    "tags": []
   },
   "outputs": [],
   "source": [
    "df['credit_history']=df['credit_history'].fillna(df['credit_history'].median())   "
   ]
  },
  {
   "cell_type": "code",
   "execution_count": 10,
   "metadata": {
    "execution": {
     "iopub.execute_input": "2020-09-08T03:15:59.253265Z",
     "iopub.status.busy": "2020-09-08T03:15:59.252455Z",
     "iopub.status.idle": "2020-09-08T03:15:59.289669Z",
     "shell.execute_reply": "2020-09-08T03:15:59.288991Z"
    },
    "papermill": {
     "duration": 0.068028,
     "end_time": "2020-09-08T03:15:59.289838",
     "exception": false,
     "start_time": "2020-09-08T03:15:59.221810",
     "status": "completed"
    },
    "tags": []
   },
   "outputs": [],
   "source": [
    "df.dropna(axis=0, inplace=True)"
   ]
  },
  {
   "cell_type": "code",
   "execution_count": 11,
   "metadata": {
    "execution": {
     "iopub.execute_input": "2020-09-08T03:15:59.344025Z",
     "iopub.status.busy": "2020-09-08T03:15:59.342998Z",
     "iopub.status.idle": "2020-09-08T03:15:59.347710Z",
     "shell.execute_reply": "2020-09-08T03:15:59.347105Z"
    },
    "papermill": {
     "duration": 0.035464,
     "end_time": "2020-09-08T03:15:59.347860",
     "exception": false,
     "start_time": "2020-09-08T03:15:59.312396",
     "status": "completed"
    },
    "tags": []
   },
   "outputs": [
    {
     "data": {
      "text/plain": [
       "loan_id                0\n",
       "gender                 0\n",
       "married                0\n",
       "dependents             0\n",
       "education              0\n",
       "self_employed          0\n",
       "applicant_income       0\n",
       "co-applicant_income    0\n",
       "loan_amount            0\n",
       "loan_amount_term       0\n",
       "credit_history         0\n",
       "property_area          0\n",
       "loan_status            0\n",
       "dtype: int64"
      ]
     },
     "execution_count": 11,
     "metadata": {},
     "output_type": "execute_result"
    }
   ],
   "source": [
    "df.isnull().sum()"
   ]
  },
  {
   "cell_type": "code",
   "execution_count": 12,
   "metadata": {
    "execution": {
     "iopub.execute_input": "2020-09-08T03:15:59.416516Z",
     "iopub.status.busy": "2020-09-08T03:15:59.415574Z",
     "iopub.status.idle": "2020-09-08T03:15:59.419983Z",
     "shell.execute_reply": "2020-09-08T03:15:59.420509Z"
    },
    "papermill": {
     "duration": 0.050696,
     "end_time": "2020-09-08T03:15:59.420689",
     "exception": false,
     "start_time": "2020-09-08T03:15:59.369993",
     "status": "completed"
    },
    "tags": []
   },
   "outputs": [
    {
     "data": {
      "text/html": [
       "<div>\n",
       "<style scoped>\n",
       "    .dataframe tbody tr th:only-of-type {\n",
       "        vertical-align: middle;\n",
       "    }\n",
       "\n",
       "    .dataframe tbody tr th {\n",
       "        vertical-align: top;\n",
       "    }\n",
       "\n",
       "    .dataframe thead th {\n",
       "        text-align: right;\n",
       "    }\n",
       "</style>\n",
       "<table border=\"1\" class=\"dataframe\">\n",
       "  <thead>\n",
       "    <tr style=\"text-align: right;\">\n",
       "      <th></th>\n",
       "      <th>loan_id</th>\n",
       "      <th>gender</th>\n",
       "      <th>married</th>\n",
       "      <th>dependents</th>\n",
       "      <th>education</th>\n",
       "      <th>self_employed</th>\n",
       "      <th>applicant_income</th>\n",
       "      <th>co-applicant_income</th>\n",
       "      <th>loan_amount</th>\n",
       "      <th>loan_amount_term</th>\n",
       "      <th>credit_history</th>\n",
       "      <th>property_area</th>\n",
       "      <th>loan_status</th>\n",
       "    </tr>\n",
       "  </thead>\n",
       "  <tbody>\n",
       "    <tr>\n",
       "      <th>0</th>\n",
       "      <td>LP001002</td>\n",
       "      <td>Male</td>\n",
       "      <td>No</td>\n",
       "      <td>0</td>\n",
       "      <td>Graduate</td>\n",
       "      <td>No</td>\n",
       "      <td>5849</td>\n",
       "      <td>0.0</td>\n",
       "      <td>146.412162</td>\n",
       "      <td>360.0</td>\n",
       "      <td>1.0</td>\n",
       "      <td>Urban</td>\n",
       "      <td>Y</td>\n",
       "    </tr>\n",
       "    <tr>\n",
       "      <th>1</th>\n",
       "      <td>LP001003</td>\n",
       "      <td>Male</td>\n",
       "      <td>Yes</td>\n",
       "      <td>1</td>\n",
       "      <td>Graduate</td>\n",
       "      <td>No</td>\n",
       "      <td>4583</td>\n",
       "      <td>1508.0</td>\n",
       "      <td>128.000000</td>\n",
       "      <td>360.0</td>\n",
       "      <td>1.0</td>\n",
       "      <td>Rural</td>\n",
       "      <td>N</td>\n",
       "    </tr>\n",
       "    <tr>\n",
       "      <th>2</th>\n",
       "      <td>LP001005</td>\n",
       "      <td>Male</td>\n",
       "      <td>Yes</td>\n",
       "      <td>0</td>\n",
       "      <td>Graduate</td>\n",
       "      <td>Yes</td>\n",
       "      <td>3000</td>\n",
       "      <td>0.0</td>\n",
       "      <td>66.000000</td>\n",
       "      <td>360.0</td>\n",
       "      <td>1.0</td>\n",
       "      <td>Urban</td>\n",
       "      <td>Y</td>\n",
       "    </tr>\n",
       "    <tr>\n",
       "      <th>3</th>\n",
       "      <td>LP001006</td>\n",
       "      <td>Male</td>\n",
       "      <td>Yes</td>\n",
       "      <td>0</td>\n",
       "      <td>Not Graduate</td>\n",
       "      <td>No</td>\n",
       "      <td>2583</td>\n",
       "      <td>2358.0</td>\n",
       "      <td>120.000000</td>\n",
       "      <td>360.0</td>\n",
       "      <td>1.0</td>\n",
       "      <td>Urban</td>\n",
       "      <td>Y</td>\n",
       "    </tr>\n",
       "    <tr>\n",
       "      <th>4</th>\n",
       "      <td>LP001008</td>\n",
       "      <td>Male</td>\n",
       "      <td>No</td>\n",
       "      <td>0</td>\n",
       "      <td>Graduate</td>\n",
       "      <td>No</td>\n",
       "      <td>6000</td>\n",
       "      <td>0.0</td>\n",
       "      <td>141.000000</td>\n",
       "      <td>360.0</td>\n",
       "      <td>1.0</td>\n",
       "      <td>Urban</td>\n",
       "      <td>Y</td>\n",
       "    </tr>\n",
       "  </tbody>\n",
       "</table>\n",
       "</div>"
      ],
      "text/plain": [
       "    loan_id gender married dependents     education self_employed  \\\n",
       "0  LP001002   Male      No          0      Graduate            No   \n",
       "1  LP001003   Male     Yes          1      Graduate            No   \n",
       "2  LP001005   Male     Yes          0      Graduate           Yes   \n",
       "3  LP001006   Male     Yes          0  Not Graduate            No   \n",
       "4  LP001008   Male      No          0      Graduate            No   \n",
       "\n",
       "   applicant_income  co-applicant_income  loan_amount  loan_amount_term  \\\n",
       "0              5849                  0.0   146.412162             360.0   \n",
       "1              4583               1508.0   128.000000             360.0   \n",
       "2              3000                  0.0    66.000000             360.0   \n",
       "3              2583               2358.0   120.000000             360.0   \n",
       "4              6000                  0.0   141.000000             360.0   \n",
       "\n",
       "   credit_history property_area loan_status  \n",
       "0             1.0         Urban           Y  \n",
       "1             1.0         Rural           N  \n",
       "2             1.0         Urban           Y  \n",
       "3             1.0         Urban           Y  \n",
       "4             1.0         Urban           Y  "
      ]
     },
     "execution_count": 12,
     "metadata": {},
     "output_type": "execute_result"
    }
   ],
   "source": [
    "df.head()"
   ]
  },
  {
   "cell_type": "code",
   "execution_count": 13,
   "metadata": {
    "execution": {
     "iopub.execute_input": "2020-09-08T03:15:59.472812Z",
     "iopub.status.busy": "2020-09-08T03:15:59.471696Z",
     "iopub.status.idle": "2020-09-08T03:15:59.479183Z",
     "shell.execute_reply": "2020-09-08T03:15:59.478506Z"
    },
    "papermill": {
     "duration": 0.036258,
     "end_time": "2020-09-08T03:15:59.479328",
     "exception": false,
     "start_time": "2020-09-08T03:15:59.443070",
     "status": "completed"
    },
    "tags": []
   },
   "outputs": [
    {
     "data": {
      "text/plain": [
       "(542, 13)"
      ]
     },
     "execution_count": 13,
     "metadata": {},
     "output_type": "execute_result"
    }
   ],
   "source": [
    "df.shape"
   ]
  },
  {
   "cell_type": "code",
   "execution_count": 14,
   "metadata": {
    "execution": {
     "iopub.execute_input": "2020-09-08T03:15:59.549428Z",
     "iopub.status.busy": "2020-09-08T03:15:59.548466Z",
     "iopub.status.idle": "2020-09-08T03:15:59.553767Z",
     "shell.execute_reply": "2020-09-08T03:15:59.552929Z"
    },
    "papermill": {
     "duration": 0.051843,
     "end_time": "2020-09-08T03:15:59.553962",
     "exception": false,
     "start_time": "2020-09-08T03:15:59.502119",
     "status": "completed"
    },
    "tags": []
   },
   "outputs": [
    {
     "name": "stdout",
     "output_type": "stream",
     "text": [
      "<class 'pandas.core.frame.DataFrame'>\n",
      "Int64Index: 542 entries, 0 to 613\n",
      "Data columns (total 13 columns):\n",
      " #   Column               Non-Null Count  Dtype  \n",
      "---  ------               --------------  -----  \n",
      " 0   loan_id              542 non-null    object \n",
      " 1   gender               542 non-null    object \n",
      " 2   married              542 non-null    object \n",
      " 3   dependents           542 non-null    object \n",
      " 4   education            542 non-null    object \n",
      " 5   self_employed        542 non-null    object \n",
      " 6   applicant_income     542 non-null    int64  \n",
      " 7   co-applicant_income  542 non-null    float64\n",
      " 8   loan_amount          542 non-null    float64\n",
      " 9   loan_amount_term     542 non-null    float64\n",
      " 10  credit_history       542 non-null    float64\n",
      " 11  property_area        542 non-null    object \n",
      " 12  loan_status          542 non-null    object \n",
      "dtypes: float64(4), int64(1), object(8)\n",
      "memory usage: 59.3+ KB\n"
     ]
    }
   ],
   "source": [
    "df.info()"
   ]
  },
  {
   "cell_type": "code",
   "execution_count": 15,
   "metadata": {
    "execution": {
     "iopub.execute_input": "2020-09-08T03:15:59.610508Z",
     "iopub.status.busy": "2020-09-08T03:15:59.609688Z",
     "iopub.status.idle": "2020-09-08T03:15:59.639407Z",
     "shell.execute_reply": "2020-09-08T03:15:59.638581Z"
    },
    "papermill": {
     "duration": 0.061133,
     "end_time": "2020-09-08T03:15:59.639535",
     "exception": false,
     "start_time": "2020-09-08T03:15:59.578402",
     "status": "completed"
    },
    "tags": []
   },
   "outputs": [
    {
     "data": {
      "text/html": [
       "<div>\n",
       "<style scoped>\n",
       "    .dataframe tbody tr th:only-of-type {\n",
       "        vertical-align: middle;\n",
       "    }\n",
       "\n",
       "    .dataframe tbody tr th {\n",
       "        vertical-align: top;\n",
       "    }\n",
       "\n",
       "    .dataframe thead th {\n",
       "        text-align: right;\n",
       "    }\n",
       "</style>\n",
       "<table border=\"1\" class=\"dataframe\">\n",
       "  <thead>\n",
       "    <tr style=\"text-align: right;\">\n",
       "      <th></th>\n",
       "      <th>applicant_income</th>\n",
       "      <th>co-applicant_income</th>\n",
       "      <th>loan_amount</th>\n",
       "      <th>loan_amount_term</th>\n",
       "      <th>credit_history</th>\n",
       "    </tr>\n",
       "  </thead>\n",
       "  <tbody>\n",
       "    <tr>\n",
       "      <th>count</th>\n",
       "      <td>542.000000</td>\n",
       "      <td>542.000000</td>\n",
       "      <td>542.000000</td>\n",
       "      <td>542.000000</td>\n",
       "      <td>542.000000</td>\n",
       "    </tr>\n",
       "    <tr>\n",
       "      <th>mean</th>\n",
       "      <td>5291.911439</td>\n",
       "      <td>1590.699114</td>\n",
       "      <td>145.518139</td>\n",
       "      <td>341.955720</td>\n",
       "      <td>0.863469</td>\n",
       "    </tr>\n",
       "    <tr>\n",
       "      <th>std</th>\n",
       "      <td>5506.461371</td>\n",
       "      <td>2543.801628</td>\n",
       "      <td>81.749385</td>\n",
       "      <td>65.441582</td>\n",
       "      <td>0.343669</td>\n",
       "    </tr>\n",
       "    <tr>\n",
       "      <th>min</th>\n",
       "      <td>150.000000</td>\n",
       "      <td>0.000000</td>\n",
       "      <td>9.000000</td>\n",
       "      <td>12.000000</td>\n",
       "      <td>0.000000</td>\n",
       "    </tr>\n",
       "    <tr>\n",
       "      <th>25%</th>\n",
       "      <td>2843.750000</td>\n",
       "      <td>0.000000</td>\n",
       "      <td>100.000000</td>\n",
       "      <td>360.000000</td>\n",
       "      <td>1.000000</td>\n",
       "    </tr>\n",
       "    <tr>\n",
       "      <th>50%</th>\n",
       "      <td>3848.000000</td>\n",
       "      <td>1149.000000</td>\n",
       "      <td>129.500000</td>\n",
       "      <td>360.000000</td>\n",
       "      <td>1.000000</td>\n",
       "    </tr>\n",
       "    <tr>\n",
       "      <th>75%</th>\n",
       "      <td>5820.500000</td>\n",
       "      <td>2281.000000</td>\n",
       "      <td>167.750000</td>\n",
       "      <td>360.000000</td>\n",
       "      <td>1.000000</td>\n",
       "    </tr>\n",
       "    <tr>\n",
       "      <th>max</th>\n",
       "      <td>81000.000000</td>\n",
       "      <td>33837.000000</td>\n",
       "      <td>650.000000</td>\n",
       "      <td>480.000000</td>\n",
       "      <td>1.000000</td>\n",
       "    </tr>\n",
       "  </tbody>\n",
       "</table>\n",
       "</div>"
      ],
      "text/plain": [
       "       applicant_income  co-applicant_income  loan_amount  loan_amount_term  \\\n",
       "count        542.000000           542.000000   542.000000        542.000000   \n",
       "mean        5291.911439          1590.699114   145.518139        341.955720   \n",
       "std         5506.461371          2543.801628    81.749385         65.441582   \n",
       "min          150.000000             0.000000     9.000000         12.000000   \n",
       "25%         2843.750000             0.000000   100.000000        360.000000   \n",
       "50%         3848.000000          1149.000000   129.500000        360.000000   \n",
       "75%         5820.500000          2281.000000   167.750000        360.000000   \n",
       "max        81000.000000         33837.000000   650.000000        480.000000   \n",
       "\n",
       "       credit_history  \n",
       "count      542.000000  \n",
       "mean         0.863469  \n",
       "std          0.343669  \n",
       "min          0.000000  \n",
       "25%          1.000000  \n",
       "50%          1.000000  \n",
       "75%          1.000000  \n",
       "max          1.000000  "
      ]
     },
     "execution_count": 15,
     "metadata": {},
     "output_type": "execute_result"
    }
   ],
   "source": [
    "df.describe()"
   ]
  },
  {
   "cell_type": "markdown",
   "execution_count": null,
   "metadata": {
    "papermill": {
     "duration": 0.024751,
     "end_time": "2020-09-08T03:15:59.689267",
     "exception": false,
     "start_time": "2020-09-08T03:15:59.664516",
     "status": "completed"
    },
    "tags": []
   },
   "source": [
    "##### 2-3-Label Encoder for Dependents"
   ]
  },
  {
   "cell_type": "code",
   "execution_count": 16,
   "metadata": {
    "execution": {
     "iopub.execute_input": "2020-09-08T03:15:59.742308Z",
     "iopub.status.busy": "2020-09-08T03:15:59.741262Z",
     "iopub.status.idle": "2020-09-08T03:15:59.746797Z",
     "shell.execute_reply": "2020-09-08T03:15:59.746101Z"
    },
    "papermill": {
     "duration": 0.034653,
     "end_time": "2020-09-08T03:15:59.746933",
     "exception": false,
     "start_time": "2020-09-08T03:15:59.712280",
     "status": "completed"
    },
    "tags": []
   },
   "outputs": [
    {
     "data": {
      "text/plain": [
       "str"
      ]
     },
     "execution_count": 16,
     "metadata": {},
     "output_type": "execute_result"
    }
   ],
   "source": [
    "type(df['dependents'].iloc[0])"
   ]
  },
  {
   "cell_type": "code",
   "execution_count": 17,
   "metadata": {
    "execution": {
     "iopub.execute_input": "2020-09-08T03:15:59.801541Z",
     "iopub.status.busy": "2020-09-08T03:15:59.800397Z",
     "iopub.status.idle": "2020-09-08T03:15:59.804824Z",
     "shell.execute_reply": "2020-09-08T03:15:59.805505Z"
    },
    "papermill": {
     "duration": 0.035452,
     "end_time": "2020-09-08T03:15:59.805675",
     "exception": false,
     "start_time": "2020-09-08T03:15:59.770223",
     "status": "completed"
    },
    "tags": []
   },
   "outputs": [
    {
     "data": {
      "text/plain": [
       "array(['0', '1', '2', '3+'], dtype=object)"
      ]
     },
     "execution_count": 17,
     "metadata": {},
     "output_type": "execute_result"
    }
   ],
   "source": [
    "df['dependents'].unique()"
   ]
  },
  {
   "cell_type": "code",
   "execution_count": 18,
   "metadata": {
    "execution": {
     "iopub.execute_input": "2020-09-08T03:15:59.859345Z",
     "iopub.status.busy": "2020-09-08T03:15:59.858497Z",
     "iopub.status.idle": "2020-09-08T03:15:59.862150Z",
     "shell.execute_reply": "2020-09-08T03:15:59.861333Z"
    },
    "papermill": {
     "duration": 0.032559,
     "end_time": "2020-09-08T03:15:59.862281",
     "exception": false,
     "start_time": "2020-09-08T03:15:59.829722",
     "status": "completed"
    },
    "tags": []
   },
   "outputs": [],
   "source": [
    "model6=LabelEncoder()"
   ]
  },
  {
   "cell_type": "code",
   "execution_count": 19,
   "metadata": {
    "execution": {
     "iopub.execute_input": "2020-09-08T03:15:59.915463Z",
     "iopub.status.busy": "2020-09-08T03:15:59.914653Z",
     "iopub.status.idle": "2020-09-08T03:15:59.921627Z",
     "shell.execute_reply": "2020-09-08T03:15:59.922176Z"
    },
    "papermill": {
     "duration": 0.036395,
     "end_time": "2020-09-08T03:15:59.922345",
     "exception": false,
     "start_time": "2020-09-08T03:15:59.885950",
     "status": "completed"
    },
    "tags": []
   },
   "outputs": [
    {
     "data": {
      "text/plain": [
       "LabelEncoder()"
      ]
     },
     "execution_count": 19,
     "metadata": {},
     "output_type": "execute_result"
    }
   ],
   "source": [
    "model6.fit(df['dependents'])"
   ]
  },
  {
   "cell_type": "code",
   "execution_count": 20,
   "metadata": {
    "execution": {
     "iopub.execute_input": "2020-09-08T03:15:59.976684Z",
     "iopub.status.busy": "2020-09-08T03:15:59.975944Z",
     "iopub.status.idle": "2020-09-08T03:15:59.979542Z",
     "shell.execute_reply": "2020-09-08T03:15:59.978814Z"
    },
    "papermill": {
     "duration": 0.033869,
     "end_time": "2020-09-08T03:15:59.979667",
     "exception": false,
     "start_time": "2020-09-08T03:15:59.945798",
     "status": "completed"
    },
    "tags": []
   },
   "outputs": [],
   "source": [
    "df['dependents']= model6.transform(df['dependents'])"
   ]
  },
  {
   "cell_type": "markdown",
   "execution_count": null,
   "metadata": {
    "papermill": {
     "duration": 0.02391,
     "end_time": "2020-09-08T03:16:00.027992",
     "exception": false,
     "start_time": "2020-09-08T03:16:00.004082",
     "status": "completed"
    },
    "tags": []
   },
   "source": [
    "### 3-Exploratory Data Analysis"
   ]
  },
  {
   "cell_type": "markdown",
   "execution_count": null,
   "metadata": {
    "papermill": {
     "duration": 0.024019,
     "end_time": "2020-09-08T03:16:00.076251",
     "exception": false,
     "start_time": "2020-09-08T03:16:00.052232",
     "status": "completed"
    },
    "tags": []
   },
   "source": [
    "##### 3-1- Visualization"
   ]
  },
  {
   "cell_type": "code",
   "execution_count": 21,
   "metadata": {
    "execution": {
     "iopub.execute_input": "2020-09-08T03:16:00.133918Z",
     "iopub.status.busy": "2020-09-08T03:16:00.131797Z",
     "iopub.status.idle": "2020-09-08T03:16:00.138910Z",
     "shell.execute_reply": "2020-09-08T03:16:00.138164Z"
    },
    "papermill": {
     "duration": 0.038611,
     "end_time": "2020-09-08T03:16:00.139035",
     "exception": false,
     "start_time": "2020-09-08T03:16:00.100424",
     "status": "completed"
    },
    "tags": []
   },
   "outputs": [
    {
     "data": {
      "text/plain": [
       "376"
      ]
     },
     "execution_count": 21,
     "metadata": {},
     "output_type": "execute_result"
    }
   ],
   "source": [
    "df[df['loan_status']=='Y'].count()['loan_status']"
   ]
  },
  {
   "cell_type": "code",
   "execution_count": 22,
   "metadata": {
    "execution": {
     "iopub.execute_input": "2020-09-08T03:16:00.197358Z",
     "iopub.status.busy": "2020-09-08T03:16:00.196382Z",
     "iopub.status.idle": "2020-09-08T03:16:00.201381Z",
     "shell.execute_reply": "2020-09-08T03:16:00.201964Z"
    },
    "papermill": {
     "duration": 0.038971,
     "end_time": "2020-09-08T03:16:00.202132",
     "exception": false,
     "start_time": "2020-09-08T03:16:00.163161",
     "status": "completed"
    },
    "tags": []
   },
   "outputs": [
    {
     "data": {
      "text/plain": [
       "166"
      ]
     },
     "execution_count": 22,
     "metadata": {},
     "output_type": "execute_result"
    }
   ],
   "source": [
    "df[df['loan_status']=='N'].count()['loan_status']"
   ]
  },
  {
   "cell_type": "code",
   "execution_count": 23,
   "metadata": {
    "execution": {
     "iopub.execute_input": "2020-09-08T03:16:00.258249Z",
     "iopub.status.busy": "2020-09-08T03:16:00.257475Z",
     "iopub.status.idle": "2020-09-08T03:16:00.424512Z",
     "shell.execute_reply": "2020-09-08T03:16:00.423608Z"
    },
    "papermill": {
     "duration": 0.198042,
     "end_time": "2020-09-08T03:16:00.424659",
     "exception": false,
     "start_time": "2020-09-08T03:16:00.226617",
     "status": "completed"
    },
    "tags": []
   },
   "outputs": [
    {
     "data": {
      "text/plain": [
       "Text(0.5, 1.0, 'Distribution of Loan Status')"
      ]
     },
     "execution_count": 23,
     "metadata": {},
     "output_type": "execute_result"
    },
    {
     "data": {
      "image/png": "[encoded data removed]",
      "text/plain": [
       "<Figure size 576x576 with 1 Axes>"
      ]
     },
     "metadata": {},
     "output_type": "display_data"
    }
   ],
   "source": [
    "plt.figure(figsize=(8,8))\n",
    "plt.pie(x=[376,166], labels=['Yes','No'], autopct='%1.0f%%', pctdistance=0.5,labeldistance=0.7,colors=['g','r'])\n",
    "plt.title('Distribution of Loan Status')"
   ]
  },
  {
   "cell_type": "markdown",
   "execution_count": null,
   "metadata": {
    "papermill": {
     "duration": 0.027202,
     "end_time": "2020-09-08T03:16:00.477382",
     "exception": false,
     "start_time": "2020-09-08T03:16:00.450180",
     "status": "completed"
    },
    "tags": []
   },
   "source": [
    "69% of applicants repay the loan and 39% do not repay the loan."
   ]
  },
  {
   "cell_type": "code",
   "execution_count": 24,
   "metadata": {
    "execution": {
     "iopub.execute_input": "2020-09-08T03:16:00.551383Z",
     "iopub.status.busy": "2020-09-08T03:16:00.547949Z",
     "iopub.status.idle": "2020-09-08T03:16:01.327763Z",
     "shell.execute_reply": "2020-09-08T03:16:01.328440Z"
    },
    "papermill": {
     "duration": 0.823691,
     "end_time": "2020-09-08T03:16:01.328675",
     "exception": false,
     "start_time": "2020-09-08T03:16:00.504984",
     "status": "completed"
    },
    "tags": []
   },
   "outputs": [
    {
     "data": {
      "text/plain": [
       "([], <a list of 0 Text major ticklabel objects>)"
      ]
     },
     "execution_count": 24,
     "metadata": {},
     "output_type": "execute_result"
    },
    {
     "data": {
      "image/png": "[encoded data removed]",
      "text/plain": [
       "<Figure size 1080x720 with 6 Axes>"
      ]
     },
     "metadata": {
      "needs_background": "light"
     },
     "output_type": "display_data"
    }
   ],
   "source": [
    "plt.figure(figsize=(15,10))\n",
    "\n",
    "plt.subplot(2,3,1)\n",
    "sns.countplot(x='gender' ,hue='loan_status', data=df,palette='plasma')\n",
    "\n",
    "plt.subplot(2,3,2)\n",
    "sns.countplot(x='married',hue='loan_status',data=df,palette='viridis')\n",
    "plt.ylabel(' ')\n",
    "plt.yticks([ ])\n",
    "\n",
    "plt.subplot(2,3,3)\n",
    "sns.countplot(x='education',hue='loan_status',data=df,palette='copper')\n",
    "plt.ylabel(' ')\n",
    "plt.yticks([ ])\n",
    "\n",
    "plt.subplot(2,3,4)\n",
    "sns.countplot(x='credit_history', data=df,hue='loan_status',palette='summer')\n",
    "\n",
    "plt.subplot(2,3,5)\n",
    "sns.countplot(x='self_employed',hue='loan_status',data=df,palette='autumn')\n",
    "plt.ylabel(' ')\n",
    "plt.yticks([ ])\n",
    "\n",
    "plt.subplot(2,3,6)\n",
    "sns.countplot(x='property_area',data=df,hue='loan_status',palette='PuBuGn')\n",
    "plt.ylabel(' ')\n",
    "plt.yticks([ ])"
   ]
  },
  {
   "cell_type": "markdown",
   "execution_count": null,
   "metadata": {
    "papermill": {
     "duration": 0.025504,
     "end_time": "2020-09-08T03:16:01.381656",
     "exception": false,
     "start_time": "2020-09-08T03:16:01.356152",
     "status": "completed"
    },
    "tags": []
   },
   "source": [
    "Comparison between Genders in getting the Loan shows that a Male Individual has more chance of repaying the Loan.\n",
    "\n",
    "Comparison between Married Status in getting the Loan shows that a Married Individual has more chance of repaying the Loan.\n",
    "   \n",
    "Comparison between Education Status of an Individual in getting the Loan shows that a Graduate Individual has more chance of repaying the Loan.\n",
    "    \n",
    "Comparison between Self-Employed or Not in getting the Loan shows that Not Self-Employed has more chance of repaying the Loan.\n",
    "\n",
    "Comparison between Credit History for getting the Loan shows that an individual with a credit history has more chance of repaying the Loan.\n",
    "    \n",
    "Comparison between Property Area for getting the Loan shows that People living in Semi-Urban Area have more chance to repay the Loan."
   ]
  },
  {
   "cell_type": "code",
   "execution_count": 25,
   "metadata": {
    "execution": {
     "iopub.execute_input": "2020-09-08T03:16:01.441150Z",
     "iopub.status.busy": "2020-09-08T03:16:01.440328Z",
     "iopub.status.idle": "2020-09-08T03:16:03.154754Z",
     "shell.execute_reply": "2020-09-08T03:16:03.153921Z"
    },
    "papermill": {
     "duration": 1.7457,
     "end_time": "2020-09-08T03:16:03.154913",
     "exception": false,
     "start_time": "2020-09-08T03:16:01.409213",
     "status": "completed"
    },
    "tags": []
   },
   "outputs": [
    {
     "data": {
      "text/html": [
       "        <script type=\"text/javascript\">\n",
       "        window.PlotlyConfig = {MathJaxConfig: 'local'};\n",
       "        if (window.MathJax) {MathJax.Hub.Config({SVG: {font: \"STIX-Web\"}});}\n",
       "        if (typeof require !== 'undefined') {\n",
       "        require.undef(\"plotly\");\n",
       "        requirejs.config({\n",
       "            paths: {\n",
       "                'plotly': ['https://cdn.plot.ly/plotly-latest.min']\n",
       "            }\n",
       "        });\n",
       "        require(['plotly'], function(Plotly) {\n",
       "            window._Plotly = Plotly;\n",
       "        });\n",
       "        }\n",
       "        </script>\n",
       "        "
      ]
     },
     "metadata": {},
     "output_type": "display_data"
    },
    {
     "data": {
      "text/html": [
       "<div>\n",
       "        \n",
       "        \n",
       "            <div id=\"e75e2c20-c125-48b8-abc8-6813a05f0858\" class=\"plotly-graph-div\" style=\"height:525px; width:100%;\"></div>\n",
       "            <script type=\"text/javascript\">\n",
       "                require([\"plotly\"], function(Plotly) {\n",
       "                    window.PLOTLYENV=window.PLOTLYENV || {};\n",
       "                    \n",
       "                if (document.getElementById(\"e75e2c20-c125-48b8-abc8-6813a05f0858\")) {\n",
       "                    Plotly.newPlot(\n",
       "                        'e75e2c20-c125-48b8-abc8-6813a05f0858',\n",
       "                        [{\"branchvalues\": \"total\", \"customdata\": [[123.37612612612612], [160.29856736435684], [127.77557172557172], [145.2549752324672], [126.29412575841147], [149.76127647918187]], \"domain\": {\"x\": [0.0, 1.0], \"y\": [0.0, 1.0]}, \"hovertemplate\": \"labels=%{label}<br>count=%{value}<br>parent=%{parent}<br>id=%{id}<br>loan_amount=%{color}<extra></extra>\", \"ids\": [\"Female/N\", \"Male/N\", \"Female/Y\", \"Male/Y\", \"Female\", \"Male\"], \"labels\": [\"N\", \"N\", \"Y\", \"Y\", \"Female\", \"Male\"], \"marker\": {\"coloraxis\": \"coloraxis\", \"colors\": [123.37612612612612, 160.29856736435684, 127.77557172557172, 145.2549752324672, 126.29412575841147, 149.76127647918187]}, \"name\": \"\", \"parents\": [\"Female\", \"Male\", \"Female\", \"Male\", \"\", \"\"], \"type\": \"sunburst\", \"values\": [33, 133, 65, 311, 98, 444]}],\n",
       "                        {\"coloraxis\": {\"colorbar\": {\"title\": {\"text\": \"loan_amount\"}}, \"colorscale\": [[0.0, \"#0d0887\"], [0.1111111111111111, \"#46039f\"], [0.2222222222222222, \"#7201a8\"], [0.3333333333333333, \"#9c179e\"], [0.4444444444444444, \"#bd3786\"], [0.5555555555555556, \"#d8576b\"], [0.6666666666666666, \"#ed7953\"], [0.7777777777777778, \"#fb9f3a\"], [0.8888888888888888, \"#fdca26\"], [1.0, \"#f0f921\"]]}, \"legend\": {\"tracegroupgap\": 0}, \"margin\": {\"t\": 60}, \"template\": {\"data\": {\"bar\": [{\"error_x\": {\"color\": \"#2a3f5f\"}, \"error_y\": {\"color\": \"#2a3f5f\"}, \"marker\": {\"line\": {\"color\": \"#E5ECF6\", \"width\": 0.5}}, \"type\": \"bar\"}], \"barpolar\": [{\"marker\": {\"line\": {\"color\": \"#E5ECF6\", \"width\": 0.5}}, \"type\": \"barpolar\"}], \"carpet\": [{\"aaxis\": {\"endlinecolor\": \"#2a3f5f\", \"gridcolor\": \"white\", \"linecolor\": \"white\", \"minorgridcolor\": \"white\", \"startlinecolor\": \"#2a3f5f\"}, \"baxis\": {\"endlinecolor\": \"#2a3f5f\", \"gridcolor\": \"white\", \"linecolor\": \"white\", \"minorgridcolor\": \"white\", \"startlinecolor\": \"#2a3f5f\"}, \"type\": \"carpet\"}], \"choropleth\": [{\"colorbar\": {\"outlinewidth\": 0, \"ticks\": \"\"}, \"type\": \"choropleth\"}], \"contour\": [{\"colorbar\": {\"outlinewidth\": 0, \"ticks\": \"\"}, \"colorscale\": [[0.0, \"#0d0887\"], [0.1111111111111111, \"#46039f\"], [0.2222222222222222, \"#7201a8\"], [0.3333333333333333, \"#9c179e\"], [0.4444444444444444, \"#bd3786\"], [0.5555555555555556, \"#d8576b\"], [0.6666666666666666, \"#ed7953\"], [0.7777777777777778, \"#fb9f3a\"], [0.8888888888888888, \"#fdca26\"], [1.0, \"#f0f921\"]], \"type\": \"contour\"}], \"contourcarpet\": [{\"colorbar\": {\"outlinewidth\": 0, \"ticks\": \"\"}, \"type\": \"contourcarpet\"}], \"heatmap\": [{\"colorbar\": {\"outlinewidth\": 0, \"ticks\": \"\"}, \"colorscale\": [[0.0, \"#0d0887\"], [0.1111111111111111, \"#46039f\"], [0.2222222222222222, \"#7201a8\"], [0.3333333333333333, \"#9c179e\"], [0.4444444444444444, \"#bd3786\"], [0.5555555555555556, \"#d8576b\"], [0.6666666666666666, \"#ed7953\"], [0.7777777777777778, \"#fb9f3a\"], [0.8888888888888888, \"#fdca26\"], [1.0, \"#f0f921\"]], \"type\": \"heatmap\"}], \"heatmapgl\": [{\"colorbar\": {\"outlinewidth\": 0, \"ticks\": \"\"}, \"colorscale\": [[0.0, \"#0d0887\"], [0.1111111111111111, \"#46039f\"], [0.2222222222222222, \"#7201a8\"], [0.3333333333333333, \"#9c179e\"], [0.4444444444444444, \"#bd3786\"], [0.5555555555555556, \"#d8576b\"], [0.6666666666666666, \"#ed7953\"], [0.7777777777777778, \"#fb9f3a\"], [0.8888888888888888, \"#fdca26\"], [1.0, \"#f0f921\"]], \"type\": \"heatmapgl\"}], \"histogram\": [{\"marker\": {\"colorbar\": {\"outlinewidth\": 0, \"ticks\": \"\"}}, \"type\": \"histogram\"}], \"histogram2d\": [{\"colorbar\": {\"outlinewidth\": 0, \"ticks\": \"\"}, \"colorscale\": [[0.0, \"#0d0887\"], [0.1111111111111111, \"#46039f\"], [0.2222222222222222, \"#7201a8\"], [0.3333333333333333, \"#9c179e\"], [0.4444444444444444, \"#bd3786\"], [0.5555555555555556, \"#d8576b\"], [0.6666666666666666, \"#ed7953\"], [0.7777777777777778, \"#fb9f3a\"], [0.8888888888888888, \"#fdca26\"], [1.0, \"#f0f921\"]], \"type\": \"histogram2d\"}], \"histogram2dcontour\": [{\"colorbar\": {\"outlinewidth\": 0, \"ticks\": \"\"}, \"colorscale\": [[0.0, \"#0d0887\"], [0.1111111111111111, \"#46039f\"], [0.2222222222222222, \"#7201a8\"], [0.3333333333333333, \"#9c179e\"], [0.4444444444444444, \"#bd3786\"], [0.5555555555555556, \"#d8576b\"], [0.6666666666666666, \"#ed7953\"], [0.7777777777777778, \"#fb9f3a\"], [0.8888888888888888, \"#fdca26\"], [1.0, \"#f0f921\"]], \"type\": \"histogram2dcontour\"}], \"mesh3d\": [{\"colorbar\": {\"outlinewidth\": 0, \"ticks\": \"\"}, \"type\": \"mesh3d\"}], \"parcoords\": [{\"line\": {\"colorbar\": {\"outlinewidth\": 0, \"ticks\": \"\"}}, \"type\": \"parcoords\"}], \"pie\": [{\"automargin\": true, \"type\": \"pie\"}], \"scatter\": [{\"marker\": {\"colorbar\": {\"outlinewidth\": 0, \"ticks\": \"\"}}, \"type\": \"scatter\"}], \"scatter3d\": [{\"line\": {\"colorbar\": {\"outlinewidth\": 0, \"ticks\": \"\"}}, \"marker\": {\"colorbar\": {\"outlinewidth\": 0, \"ticks\": \"\"}}, \"type\": \"scatter3d\"}], \"scattercarpet\": [{\"marker\": {\"colorbar\": {\"outlinewidth\": 0, \"ticks\": \"\"}}, \"type\": \"scattercarpet\"}], \"scattergeo\": [{\"marker\": {\"colorbar\": {\"outlinewidth\": 0, \"ticks\": \"\"}}, \"type\": \"scattergeo\"}], \"scattergl\": [{\"marker\": {\"colorbar\": {\"outlinewidth\": 0, \"ticks\": \"\"}}, \"type\": \"scattergl\"}], \"scattermapbox\": [{\"marker\": {\"colorbar\": {\"outlinewidth\": 0, \"ticks\": \"\"}}, \"type\": \"scattermapbox\"}], \"scatterpolar\": [{\"marker\": {\"colorbar\": {\"outlinewidth\": 0, \"ticks\": \"\"}}, \"type\": \"scatterpolar\"}], \"scatterpolargl\": [{\"marker\": {\"colorbar\": {\"outlinewidth\": 0, \"ticks\": \"\"}}, \"type\": \"scatterpolargl\"}], \"scatterternary\": [{\"marker\": {\"colorbar\": {\"outlinewidth\": 0, \"ticks\": \"\"}}, \"type\": \"scatterternary\"}], \"surface\": [{\"colorbar\": {\"outlinewidth\": 0, \"ticks\": \"\"}, \"colorscale\": [[0.0, \"#0d0887\"], [0.1111111111111111, \"#46039f\"], [0.2222222222222222, \"#7201a8\"], [0.3333333333333333, \"#9c179e\"], [0.4444444444444444, \"#bd3786\"], [0.5555555555555556, \"#d8576b\"], [0.6666666666666666, \"#ed7953\"], [0.7777777777777778, \"#fb9f3a\"], [0.8888888888888888, \"#fdca26\"], [1.0, \"#f0f921\"]], \"type\": \"surface\"}], \"table\": [{\"cells\": {\"fill\": {\"color\": \"#EBF0F8\"}, \"line\": {\"color\": \"white\"}}, \"header\": {\"fill\": {\"color\": \"#C8D4E3\"}, \"line\": {\"color\": \"white\"}}, \"type\": \"table\"}]}, \"layout\": {\"annotationdefaults\": {\"arrowcolor\": \"#2a3f5f\", \"arrowhead\": 0, \"arrowwidth\": 1}, \"coloraxis\": {\"colorbar\": {\"outlinewidth\": 0, \"ticks\": \"\"}}, \"colorscale\": {\"diverging\": [[0, \"#8e0152\"], [0.1, \"#c51b7d\"], [0.2, \"#de77ae\"], [0.3, \"#f1b6da\"], [0.4, \"#fde0ef\"], [0.5, \"#f7f7f7\"], [0.6, \"#e6f5d0\"], [0.7, \"#b8e186\"], [0.8, \"#7fbc41\"], [0.9, \"#4d9221\"], [1, \"#276419\"]], \"sequential\": [[0.0, \"#0d0887\"], [0.1111111111111111, \"#46039f\"], [0.2222222222222222, \"#7201a8\"], [0.3333333333333333, \"#9c179e\"], [0.4444444444444444, \"#bd3786\"], [0.5555555555555556, \"#d8576b\"], [0.6666666666666666, \"#ed7953\"], [0.7777777777777778, \"#fb9f3a\"], [0.8888888888888888, \"#fdca26\"], [1.0, \"#f0f921\"]], \"sequentialminus\": [[0.0, \"#0d0887\"], [0.1111111111111111, \"#46039f\"], [0.2222222222222222, \"#7201a8\"], [0.3333333333333333, \"#9c179e\"], [0.4444444444444444, \"#bd3786\"], [0.5555555555555556, \"#d8576b\"], [0.6666666666666666, \"#ed7953\"], [0.7777777777777778, \"#fb9f3a\"], [0.8888888888888888, \"#fdca26\"], [1.0, \"#f0f921\"]]}, \"colorway\": [\"#636efa\", \"#EF553B\", \"#00cc96\", \"#ab63fa\", \"#FFA15A\", \"#19d3f3\", \"#FF6692\", \"#B6E880\", \"#FF97FF\", \"#FECB52\"], \"font\": {\"color\": \"#2a3f5f\"}, \"geo\": {\"bgcolor\": \"white\", \"lakecolor\": \"white\", \"landcolor\": \"#E5ECF6\", \"showlakes\": true, \"showland\": true, \"subunitcolor\": \"white\"}, \"hoverlabel\": {\"align\": \"left\"}, \"hovermode\": \"closest\", \"mapbox\": {\"style\": \"light\"}, \"paper_bgcolor\": \"white\", \"plot_bgcolor\": \"#E5ECF6\", \"polar\": {\"angularaxis\": {\"gridcolor\": \"white\", \"linecolor\": \"white\", \"ticks\": \"\"}, \"bgcolor\": \"#E5ECF6\", \"radialaxis\": {\"gridcolor\": \"white\", \"linecolor\": \"white\", \"ticks\": \"\"}}, \"scene\": {\"xaxis\": {\"backgroundcolor\": \"#E5ECF6\", \"gridcolor\": \"white\", \"gridwidth\": 2, \"linecolor\": \"white\", \"showbackground\": true, \"ticks\": \"\", \"zerolinecolor\": \"white\"}, \"yaxis\": {\"backgroundcolor\": \"#E5ECF6\", \"gridcolor\": \"white\", \"gridwidth\": 2, \"linecolor\": \"white\", \"showbackground\": true, \"ticks\": \"\", \"zerolinecolor\": \"white\"}, \"zaxis\": {\"backgroundcolor\": \"#E5ECF6\", \"gridcolor\": \"white\", \"gridwidth\": 2, \"linecolor\": \"white\", \"showbackground\": true, \"ticks\": \"\", \"zerolinecolor\": \"white\"}}, \"shapedefaults\": {\"line\": {\"color\": \"#2a3f5f\"}}, \"ternary\": {\"aaxis\": {\"gridcolor\": \"white\", \"linecolor\": \"white\", \"ticks\": \"\"}, \"baxis\": {\"gridcolor\": \"white\", \"linecolor\": \"white\", \"ticks\": \"\"}, \"bgcolor\": \"#E5ECF6\", \"caxis\": {\"gridcolor\": \"white\", \"linecolor\": \"white\", \"ticks\": \"\"}}, \"title\": {\"x\": 0.05}, \"xaxis\": {\"automargin\": true, \"gridcolor\": \"white\", \"linecolor\": \"white\", \"ticks\": \"\", \"title\": {\"standoff\": 15}, \"zerolinecolor\": \"white\", \"zerolinewidth\": 2}, \"yaxis\": {\"automargin\": true, \"gridcolor\": \"white\", \"linecolor\": \"white\", \"ticks\": \"\", \"title\": {\"standoff\": 15}, \"zerolinecolor\": \"white\", \"zerolinewidth\": 2}}}},\n",
       "                        {\"responsive\": true}\n",
       "                    ).then(function(){\n",
       "                            \n",
       "var gd = document.getElementById('e75e2c20-c125-48b8-abc8-6813a05f0858');\n",
       "var x = new MutationObserver(function (mutations, observer) {{\n",
       "        var display = window.getComputedStyle(gd).display;\n",
       "        if (!display || display === 'none') {{\n",
       "            console.log([gd, 'removed!']);\n",
       "            Plotly.purge(gd);\n",
       "            observer.disconnect();\n",
       "        }}\n",
       "}});\n",
       "\n",
       "// Listen for the removal of the full notebook cells\n",
       "var notebookContainer = gd.closest('#notebook-container');\n",
       "if (notebookContainer) {{\n",
       "    x.observe(notebookContainer, {childList: true});\n",
       "}}\n",
       "\n",
       "// Listen for the clearing of the current output cell\n",
       "var outputEl = gd.closest('.output');\n",
       "if (outputEl) {{\n",
       "    x.observe(outputEl, {childList: true});\n",
       "}}\n",
       "\n",
       "                        })\n",
       "                };\n",
       "                });\n",
       "            </script>\n",
       "        </div>"
      ]
     },
     "metadata": {},
     "output_type": "display_data"
    }
   ],
   "source": [
    "px.sunburst( data_frame=df,path=['gender','loan_status'], color='loan_amount')"
   ]
  },
  {
   "cell_type": "code",
   "execution_count": 26,
   "metadata": {
    "execution": {
     "iopub.execute_input": "2020-09-08T03:16:03.284219Z",
     "iopub.status.busy": "2020-09-08T03:16:03.282805Z",
     "iopub.status.idle": "2020-09-08T03:16:04.624134Z",
     "shell.execute_reply": "2020-09-08T03:16:04.623223Z"
    },
    "papermill": {
     "duration": 1.392117,
     "end_time": "2020-09-08T03:16:04.624290",
     "exception": false,
     "start_time": "2020-09-08T03:16:03.232173",
     "status": "completed"
    },
    "tags": []
   },
   "outputs": [
    {
     "data": {
      "text/plain": [
       "([], <a list of 0 Text major ticklabel objects>)"
      ]
     },
     "execution_count": 26,
     "metadata": {},
     "output_type": "execute_result"
    },
    {
     "data": {
      "image/png": "[encoded data removed]",
      "text/plain": [
       "<Figure size 1080x720 with 6 Axes>"
      ]
     },
     "metadata": {
      "needs_background": "light"
     },
     "output_type": "display_data"
    }
   ],
   "source": [
    "plt.figure(figsize=(15,10))\n",
    "\n",
    "plt.subplot(2,3,1)\n",
    "sns.violinplot(x='gender', y='loan_amount',hue='loan_status', data=df,palette='plasma')\n",
    "\n",
    "plt.subplot(2,3,2)\n",
    "sns.violinplot(x='married',y='loan_amount',hue='loan_status',data=df,palette='viridis')\n",
    "plt.ylabel(' ')\n",
    "plt.yticks([ ])\n",
    "\n",
    "plt.subplot(2,3,3)\n",
    "sns.violinplot(x='education',y='loan_amount',hue='loan_status',data=df,palette='copper')\n",
    "plt.ylabel(' ')\n",
    "plt.yticks([ ])\n",
    "\n",
    "plt.subplot(2,3,4)\n",
    "sns.violinplot(x='credit_history',y='loan_amount', data=df,hue='loan_status',palette='summer')\n",
    "\n",
    "plt.subplot(2,3,5)\n",
    "sns.violinplot(x='self_employed',y='loan_amount',hue='loan_status',data=df,palette='autumn')\n",
    "plt.ylabel(' ')\n",
    "plt.yticks([ ])\n",
    "\n",
    "plt.subplot(2,3,6)\n",
    "sns.violinplot(x='property_area', y='loan_amount',data=df,hue='loan_status',palette='PuBuGn')\n",
    "plt.ylabel(' ')\n",
    "plt.yticks([ ])"
   ]
  },
  {
   "cell_type": "code",
   "execution_count": 27,
   "metadata": {
    "execution": {
     "iopub.execute_input": "2020-09-08T03:16:04.708238Z",
     "iopub.status.busy": "2020-09-08T03:16:04.703360Z",
     "iopub.status.idle": "2020-09-08T03:16:05.525060Z",
     "shell.execute_reply": "2020-09-08T03:16:05.525759Z"
    },
    "papermill": {
     "duration": 0.869293,
     "end_time": "2020-09-08T03:16:05.525969",
     "exception": false,
     "start_time": "2020-09-08T03:16:04.656676",
     "status": "completed"
    },
    "tags": []
   },
   "outputs": [
    {
     "data": {
      "text/plain": [
       "<matplotlib.axes._subplots.AxesSubplot at 0x7fd866681610>"
      ]
     },
     "execution_count": 27,
     "metadata": {},
     "output_type": "execute_result"
    },
    {
     "data": {
      "image/png": "[encoded data removed]",
      "text/plain": [
       "<Figure size 1296x360 with 3 Axes>"
      ]
     },
     "metadata": {
      "needs_background": "light"
     },
     "output_type": "display_data"
    }
   ],
   "source": [
    "plt.figure(figsize=(18,5))\n",
    "\n",
    "\n",
    "plt.subplot(1,3,1)\n",
    "sns.distplot(df['applicant_income'],bins=30,color='r',hist_kws=dict(edgecolor='white'))\n",
    "plt.ylabel('frequency')\n",
    "\n",
    "plt.subplot(1,3,2)\n",
    "sns.distplot(df['co-applicant_income'],bins=30,color='blue',hist_kws=dict(edgecolor='white'))\n",
    "\n",
    "plt.subplot(1,3,3)\n",
    "sns.distplot(df['loan_amount'],bins=30,color='black',hist_kws=dict(edgecolor='white'))"
   ]
  },
  {
   "cell_type": "code",
   "execution_count": 28,
   "metadata": {
    "execution": {
     "iopub.execute_input": "2020-09-08T03:16:05.598242Z",
     "iopub.status.busy": "2020-09-08T03:16:05.597077Z",
     "iopub.status.idle": "2020-09-08T03:16:05.764662Z",
     "shell.execute_reply": "2020-09-08T03:16:05.763869Z"
    },
    "papermill": {
     "duration": 0.206593,
     "end_time": "2020-09-08T03:16:05.764820",
     "exception": false,
     "start_time": "2020-09-08T03:16:05.558227",
     "status": "completed"
    },
    "tags": []
   },
   "outputs": [
    {
     "data": {
      "text/html": [
       "<div>\n",
       "        \n",
       "        \n",
       "            <div id=\"2060c050-a50b-477c-8cb9-650bd950b35d\" class=\"plotly-graph-div\" style=\"height:525px; width:100%;\"></div>\n",
       "            <script type=\"text/javascript\">\n",
       "                require([\"plotly\"], function(Plotly) {\n",
       "                    window.PLOTLYENV=window.PLOTLYENV || {};\n",
       "                    \n",
       "                if (document.getElementById(\"2060c050-a50b-477c-8cb9-650bd950b35d\")) {\n",
       "                    Plotly.newPlot(\n",
       "                        '2060c050-a50b-477c-8cb9-650bd950b35d',\n",
       "                        [{\"hovertemplate\": \"loan_status=Y<br>applicant_income=%{x}<br>co-applicant_income=%{y}<br>loan_amount=%{z}<extra></extra>\", \"legendgroup\": \"Y\", \"marker\": {\"color\": \"#636efa\", \"symbol\": \"circle\"}, \"mode\": \"markers\", \"name\": \"Y\", \"scene\": \"scene\", \"showlegend\": true, \"type\": \"scatter3d\", \"x\": [5849, 3000, 2583, 6000, 5417, 2333, 4006, 3200, 3073, 1299, 4950, 3596, 5955, 9560, 2799, 4226, 3500, 2275, 3667, 4166, 3748, 1800, 2400, 3941, 5649, 5821, 4000, 1928, 3086, 2708, 2132, 8080, 3357, 2500, 3029, 10750, 7100, 3208, 1875, 3500, 5266, 3333, 3846, 2395, 3988, 2366, 3333, 2500, 8566, 5695, 2958, 6250, 3273, 4133, 3620, 2484, 1977, 4188, 1759, 4288, 4843, 4652, 3052, 11417, 2071, 5316, 7451, 14583, 3167, 2214, 10408, 4166, 2137, 2957, 4300, 3692, 3865, 20166, 2014, 2718, 3459, 4895, 3316, 5417, 6950, 2698, 11757, 2330, 14866, 1538, 4860, 2577, 3254, 39999, 6000, 9538, 4583, 1863, 4167, 9323, 2439, 8000, 5708, 3497, 2045, 3750, 4600, 3625, 39147, 2383, 9328, 4885, 3858, 4191, 8333, 3416, 2600, 4923, 3500, 3917, 4408, 3244, 3975, 2479, 7787, 5703, 3173, 3850, 3727, 4283, 4009, 2971, 6250, 6250, 6400, 2491, 8333, 3155, 5500, 3463, 3812, 3315, 5819, 2965, 6250, 3406, 9703, 6608, 2882, 1809, 2583, 2661, 3083, 6083, 2060, 7200, 5166, 4095, 4708, 4333, 2876, 3237, 11146, 2833, 2620, 3900, 2750, 3993, 3103, 14583, 4100, 3927, 2301, 1811, 3158, 3704, 4124, 9508, 3075, 3153, 2383, 6875, 4666, 5000, 1625, 4000, 3762, 7667, 2917, 2927, 2507, 5746, 3399, 3717, 2058, 3541, 2400, 4342, 3601, 3166, 15000, 4917, 5818, 2500, 4384, 2935, 2500, 4160, 4554, 3173, 2499, 3083, 6333, 2625, 9083, 2666, 2423, 8333, 5167, 5000, 4750, 3013, 6822, 6325, 15759, 5185, 9323, 4817, 8750, 4310, 5391, 5941, 6000, 7167, 2346, 2333, 5488, 9167, 9504, 2583, 1993, 3100, 3276, 3033, 3902, 2500, 1963, 4547, 2167, 2213, 2253, 2995, 1025, 3246, 5829, 1820, 14880, 2666, 5935, 2920, 2717, 8624, 2425, 3750, 1926, 2213, 7142, 3660, 7901, 4707, 37719, 7333, 3466, 4652, 1958, 2483, 7085, 3859, 4301, 4354, 7740, 3015, 6000, 3450, 4691, 2500, 5532, 16525, 6700, 16667, 4350, 3095, 2083, 10833, 8333, 1958, 4583, 2699, 5333, 3691, 17263, 3326, 2600, 4625, 2895, 645, 3159, 4865, 3814, 3510, 20833, 2479, 13262, 6065, 3283, 3466, 2031, 2192, 2500, 5677, 7948, 17500, 3775, 5285, 2679, 6783, 1025, 4281, 18165, 6133, 3617, 6417, 4608, 2239, 3017, 2768, 2526, 2785, 2492, 3333, 5468, 2667, 10139, 3887, 4180, 3675, 19484, 5923, 5800, 4467, 3333, 3417, 16666, 3159, 3229, 1782, 6540, 3166, 2297, 2165, 3000, 3859, 16120, 3833, 9963, 5780, 5703, 3676, 12000, 3400, 3987, 3232, 2900, 4106, 8072, 7583], \"y\": [0.0, 0.0, 2358.0, 0.0, 4196.0, 1516.0, 1526.0, 700.0, 8106.0, 1086.0, 0.0, 0.0, 5625.0, 0.0, 2253.0, 1040.0, 1667.0, 2067.0, 1459.0, 7210.0, 1668.0, 1213.0, 0.0, 2336.0, 0.0, 0.0, 2275.0, 1644.0, 0.0, 1167.0, 1591.0, 2250.0, 2859.0, 3796.0, 0.0, 0.0, 0.0, 3066.0, 1875.0, 0.0, 1774.0, 2166.0, 0.0, 0.0, 0.0, 2531.0, 2000.0, 2118.0, 0.0, 4167.0, 2900.0, 5654.0, 1820.0, 0.0, 0.0, 2302.0, 997.0, 0.0, 3541.0, 3263.0, 3806.0, 3583.0, 1030.0, 1126.0, 754.0, 0.0, 0.0, 0.0, 2283.0, 1398.0, 0.0, 0.0, 8980.0, 0.0, 2014.0, 0.0, 1640.0, 0.0, 1929.0, 0.0, 0.0, 0.0, 3500.0, 0.0, 0.0, 2034.0, 0.0, 4486.0, 0.0, 1425.0, 830.0, 3750.0, 0.0, 0.0, 0.0, 0.0, 5625.0, 1041.0, 1447.0, 0.0, 3333.0, 0.0, 5625.0, 1964.0, 1619.0, 0.0, 0.0, 0.0, 4750.0, 2138.0, 0.0, 0.0, 0.0, 0.0, 3750.0, 2816.0, 2500.0, 0.0, 1083.0, 0.0, 0.0, 0.0, 2531.0, 0.0, 0.0, 0.0, 3021.0, 983.0, 1775.0, 2383.0, 1717.0, 2791.0, 0.0, 1695.0, 0.0, 2054.0, 0.0, 1779.0, 1260.0, 0.0, 0.0, 0.0, 5000.0, 5701.0, 1300.0, 4417.0, 0.0, 0.0, 1843.0, 1868.0, 2167.0, 7101.0, 0.0, 4250.0, 2209.0, 0.0, 0.0, 3447.0, 1387.0, 1811.0, 1560.0, 0.0, 0.0, 1857.0, 2223.0, 0.0, 1842.0, 3274.0, 1300.0, 0.0, 0.0, 800.0, 985.7999877999998, 1666.0, 3053.0, 2000.0, 0.0, 0.0, 2416.0, 1560.0, 3334.0, 0.0, 0.0, 0.0, 1803.0, 2500.0, 1666.0, 0.0, 0.0, 2405.0, 0.0, 0.0, 1640.0, 0.0, 2134.0, 0.0, 2167.0, 189.0, 1590.0, 2985.0, 0.0, 0.0, 2160.0, 0.0, 1793.0, 0.0, 4600.0, 0.0, 1229.0, 0.0, 2458.0, 2168.0, 4583.0, 6250.0, 0.0, 2083.0, 505.0, 3167.0, 3167.0, 3667.0, 2333.0, 3033.0, 0.0, 0.0, 0.0, 0.0, 7873.0, 923.0, 4996.0, 0.0, 0.0, 4232.0, 0.0, 0.0, 1600.0, 2417.0, 0.0, 0.0, 0.0, 2115.0, 1625.0, 1400.0, 484.0, 1459.0, 1666.0, 20000.0, 0.0, 0.0, 2400.0, 0.0, 2033.0, 0.0, 2773.0, 1417.0, 0.0, 1719.0, 0.0, 4300.0, 0.0, 16.12000084, 0.0, 0.0, 2340.0, 0.0, 1851.0, 1125.0, 0.0, 5064.0, 1833.0, 1993.0, 0.0, 8333.0, 1210.0, 0.0, 1456.0, 2466.0, 0.0, 0.0, 0.0, 0.0, 0.0, 2188.0, 0.0, 2079.0, 0.0, 0.0, 4648.0, 1014.0, 1750.0, 2250.0, 0.0, 0.0, 3150.0, 0.0, 0.0, 2436.0, 2083.0, 2785.0, 1131.0, 0.0, 0.0, 913.0, 1700.0, 2857.0, 0.0, 3683.0, 0.0, 5624.0, 1483.0, 4416.0, 6667.0, 3013.0, 0.0, 2004.0, 2035.0, 3428.0, 1632.0, 1742.0, 0.0, 1424.0, 7166.0, 0.0, 0.0, 1430.0, 1302.0, 0.0, 5500.0, 0.0, 0.0, 3906.0, 0.0, 0.0, 2845.0, 2524.0, 663.0, 1950.0, 1783.0, 2016.0, 2375.0, 3250.0, 1032.0, 1625.0, 0.0, 2669.0, 2306.0, 242.0, 0.0, 2054.0, 0.0, 0.0, 0.0, 1750.0, 0.0, 461.0, 2739.0, 2232.0, 0.0, 0.0, 1522.0, 0.0, 3416.0, 3300.0, 0.0, 0.0, 0.0, 0.0, 0.0, 4301.0, 0.0, 2500.0, 1411.0, 1950.0, 0.0, 0.0, 240.0, 0.0], \"z\": [146.41216216216216, 66.0, 120.0, 141.0, 267.0, 95.0, 168.0, 70.0, 200.0, 17.0, 125.0, 100.0, 315.0, 191.0, 122.0, 110.0, 114.0, 146.41216216216216, 144.0, 184.0, 110.0, 47.0, 75.0, 134.0, 44.0, 144.0, 144.0, 100.0, 120.0, 97.0, 96.0, 180.0, 144.0, 120.0, 99.0, 312.0, 125.0, 172.0, 97.0, 81.0, 187.0, 130.0, 111.0, 146.41216216216216, 50.0, 136.0, 99.0, 104.0, 210.0, 175.0, 131.0, 188.0, 81.0, 122.0, 25.0, 137.0, 50.0, 115.0, 131.0, 133.0, 151.0, 146.41216216216216, 100.0, 225.0, 94.0, 136.0, 146.41216216216216, 185.0, 154.0, 85.0, 259.0, 44.0, 137.0, 81.0, 194.0, 93.0, 146.41216216216216, 650.0, 74.0, 70.0, 25.0, 102.0, 88.0, 168.0, 175.0, 122.0, 187.0, 100.0, 70.0, 30.0, 125.0, 152.0, 50.0, 600.0, 160.0, 187.0, 255.0, 98.0, 158.0, 75.0, 129.0, 200.0, 187.0, 116.0, 101.0, 116.0, 73.0, 108.0, 120.0, 58.0, 188.0, 48.0, 76.0, 120.0, 187.0, 113.0, 90.0, 166.0, 135.0, 124.0, 120.0, 80.0, 55.0, 59.0, 240.0, 130.0, 137.0, 100.0, 131.0, 127.0, 116.0, 144.0, 128.0, 210.0, 200.0, 104.0, 280.0, 140.0, 170.0, 122.0, 112.0, 96.0, 120.0, 155.0, 108.0, 123.0, 112.0, 137.0, 123.0, 90.0, 104.0, 279.0, 255.0, 330.0, 134.0, 120.0, 128.0, 151.0, 150.0, 160.0, 90.0, 30.0, 136.0, 126.0, 150.0, 90.0, 115.0, 207.0, 80.0, 436.0, 124.0, 112.0, 78.0, 54.0, 89.0, 120.0, 115.0, 187.0, 139.0, 134.0, 172.0, 200.0, 135.0, 132.0, 96.0, 140.0, 135.0, 185.0, 84.0, 111.0, 56.0, 144.0, 111.0, 120.0, 88.0, 112.0, 115.0, 124.0, 146.41216216216216, 132.0, 300.0, 130.0, 184.0, 67.0, 117.0, 98.0, 176.0, 71.0, 158.0, 74.0, 160.0, 126.0, 259.0, 187.0, 228.0, 95.0, 130.0, 165.0, 200.0, 236.0, 130.0, 95.0, 141.0, 175.0, 55.0, 155.0, 380.0, 120.0, 130.0, 130.0, 130.0, 296.0, 156.0, 128.0, 132.0, 136.0, 125.0, 185.0, 275.0, 120.0, 113.0, 113.0, 135.0, 95.0, 109.0, 103.0, 53.0, 115.0, 115.0, 66.0, 110.0, 60.0, 112.0, 138.0, 138.0, 100.0, 96.0, 121.0, 133.0, 87.0, 60.0, 150.0, 143.0, 100.0, 50.0, 146.41216216216216, 138.0, 187.0, 180.0, 148.0, 152.0, 175.0, 130.0, 110.0, 60.0, 90.0, 84.0, 96.0, 118.0, 136.0, 128.0, 153.0, 140.0, 162.0, 100.0, 93.0, 162.0, 150.0, 230.0, 86.0, 154.0, 113.0, 128.0, 234.0, 246.0, 131.0, 160.0, 96.0, 186.0, 110.0, 225.0, 105.0, 107.0, 111.0, 95.0, 113.0, 100.0, 208.0, 124.0, 243.0, 480.0, 188.0, 40.0, 250.0, 148.0, 150.0, 113.0, 45.0, 55.0, 100.0, 480.0, 400.0, 110.0, 161.0, 94.0, 130.0, 216.0, 100.0, 125.0, 324.0, 107.0, 157.0, 140.0, 128.0, 102.0, 155.0, 145.0, 110.0, 146.41216216216216, 158.0, 26.0, 84.0, 260.0, 162.0, 182.0, 108.0, 600.0, 211.0, 132.0, 120.0, 70.0, 186.0, 275.0, 108.0, 110.0, 107.0, 205.0, 36.0, 104.0, 70.0, 56.0, 142.0, 260.0, 110.0, 180.0, 192.0, 128.0, 172.0, 496.0, 173.0, 157.0, 108.0, 71.0, 40.0, 253.0, 187.0]}, {\"hovertemplate\": \"loan_status=N<br>applicant_income=%{x}<br>co-applicant_income=%{y}<br>loan_amount=%{z}<extra></extra>\", \"legendgroup\": \"N\", \"marker\": {\"color\": \"#EF553B\", \"symbol\": \"circle\"}, \"mode\": \"markers\", \"name\": \"N\", \"scene\": \"scene\", \"showlegend\": true, \"type\": \"scatter3d\", \"x\": [4583, 3036, 12841, 1853, 3510, 4887, 7660, 2600, 1442, 3167, 4692, 12500, 3600, 2645, 4230, 4616, 11500, 3366, 2609, 4945, 4166, 5726, 3200, 4300, 3750, 3750, 1000, 3167, 1378, 6000, 3800, 5568, 10513, 6080, 4000, 4583, 14999, 4200, 5042, 10000, 6277, 9166, 2281, 7933, 3089, 4583, 2237, 3522, 4344, 5516, 2333, 6400, 1916, 33846, 2178, 12000, 6033, 3125, 11000, 3992, 3418, 10000, 3430, 150, 2221, 3250, 2510, 6050, 1668, 3427, 16250, 6045, 5250, 14683, 4931, 3481, 4053, 20667, 2600, 4400, 5000, 2014, 1800, 2000, 2400, 20233, 10000, 8666, 4333, 1830, 2647, 2378, 8750, 5500, 3875, 3000, 4723, 6216, 2500, 19730, 3062, 3069, 4566, 3010, 3180, 1500, 2889, 2755, 7441, 8300, 81000, 3867, 6096, 2149, 2600, 1600, 4606, 6500, 10416, 3340, 2769, 2309, 3948, 3708, 8334, 4166, 2947, 4333, 2653, 2947, 3547, 18333, 2435, 3597, 6283, 4050, 3598, 2130, 5815, 4683, 3400, 4680, 3588, 11250, 2917, 2138, 3358, 5000, 6633, 2454, 3593, 8799, 3400, 2378, 3166, 6125, 6406, 1836, 1880, 2787, 4283, 2726, 6000, 6383, 2400, 4583], \"y\": [1508.0, 2504.0, 10968.0, 2840.0, 0.0, 0.0, 0.0, 1911.0, 0.0, 0.0, 0.0, 3000.0, 0.0, 3440.0, 0.0, 0.0, 0.0, 2200.0, 3449.0, 0.0, 0.0, 4595.0, 2254.0, 0.0, 0.0, 4750.0, 3022.0, 4000.0, 1881.0, 2250.0, 3600.0, 2142.0, 3850.0, 2569.0, 7750.0, 0.0, 0.0, 1430.0, 2083.0, 1666.0, 0.0, 0.0, 0.0, 0.0, 1280.0, 0.0, 0.0, 0.0, 736.0, 11300.0, 1451.0, 7250.0, 5063.0, 0.0, 0.0, 0.0, 0.0, 2583.0, 0.0, 0.0, 0.0, 0.0, 1250.0, 1800.0, 0.0, 0.0, 1983.0, 4333.0, 3890.0, 0.0, 0.0, 0.0, 0.0, 2100.0, 0.0, 0.0, 2426.0, 0.0, 1717.0, 0.0, 2541.0, 2925.0, 2934.0, 0.0, 1863.0, 0.0, 0.0, 4983.0, 2451.0, 0.0, 1587.0, 0.0, 4167.0, 0.0, 0.0, 1666.0, 0.0, 0.0, 0.0, 5266.0, 1987.0, 0.0, 0.0, 3136.0, 0.0, 1800.0, 0.0, 0.0, 0.0, 0.0, 0.0, 0.0, 0.0, 3237.0, 0.0, 20000.0, 0.0, 0.0, 0.0, 1710.0, 1542.0, 1255.0, 1733.0, 2569.0, 0.0, 0.0, 1664.0, 2451.0, 1500.0, 1603.0, 0.0, 0.0, 0.0, 2157.0, 4416.0, 5302.0, 1287.0, 6666.0, 3666.0, 1915.0, 0.0, 2087.0, 0.0, 0.0, 536.0, 0.0, 0.0, 0.0, 0.0, 2333.0, 4266.0, 0.0, 2500.0, 0.0, 2064.0, 1625.0, 0.0, 33837.0, 0.0, 1917.0, 3000.0, 0.0, 0.0, 1000.0, 3800.0, 0.0], \"z\": [128.0, 158.0, 349.0, 114.0, 76.0, 133.0, 104.0, 116.0, 35.0, 74.0, 106.0, 320.0, 80.0, 120.0, 112.0, 134.0, 286.0, 135.0, 165.0, 146.41216216216216, 116.0, 258.0, 126.0, 136.0, 113.0, 176.0, 110.0, 180.0, 167.0, 265.0, 216.0, 175.0, 160.0, 182.0, 290.0, 84.0, 242.0, 129.0, 185.0, 225.0, 118.0, 244.0, 113.0, 275.0, 121.0, 112.0, 63.0, 81.0, 87.0, 495.0, 102.0, 180.0, 67.0, 260.0, 66.0, 164.0, 160.0, 170.0, 83.0, 146.41216216216216, 127.0, 214.0, 128.0, 135.0, 60.0, 170.0, 140.0, 120.0, 201.0, 138.0, 192.0, 115.0, 94.0, 304.0, 128.0, 155.0, 158.0, 146.41216216216216, 99.0, 127.0, 151.0, 113.0, 93.0, 146.41216216216216, 104.0, 480.0, 155.0, 376.0, 110.0, 146.41216216216216, 173.0, 46.0, 308.0, 105.0, 67.0, 100.0, 81.0, 133.0, 96.0, 570.0, 111.0, 71.0, 100.0, 146.41216216216216, 71.0, 103.0, 45.0, 65.0, 194.0, 152.0, 360.0, 62.0, 218.0, 178.0, 160.0, 239.0, 81.0, 105.0, 187.0, 150.0, 190.0, 125.0, 149.0, 173.0, 160.0, 98.0, 70.0, 110.0, 113.0, 146.41216216216216, 80.0, 500.0, 75.0, 119.0, 209.0, 138.0, 100.0, 70.0, 311.0, 185.0, 95.0, 146.41216216216216, 110.0, 196.0, 66.0, 99.0, 80.0, 103.0, 146.41216216216216, 181.0, 132.0, 258.0, 123.0, 9.0, 104.0, 187.0, 150.0, 90.0, 61.0, 146.0, 172.0, 106.0, 205.0, 187.0, 146.41216216216216, 133.0]}],\n",
       "                        {\"legend\": {\"title\": {\"text\": \"loan_status\"}, \"tracegroupgap\": 0}, \"margin\": {\"t\": 60}, \"scene\": {\"domain\": {\"x\": [0.0, 1.0], \"y\": [0.0, 1.0]}, \"xaxis\": {\"title\": {\"text\": \"applicant_income\"}}, \"yaxis\": {\"title\": {\"text\": \"co-applicant_income\"}}, \"zaxis\": {\"title\": {\"text\": \"loan_amount\"}}}, \"template\": {\"data\": {\"bar\": [{\"error_x\": {\"color\": \"#2a3f5f\"}, \"error_y\": {\"color\": \"#2a3f5f\"}, \"marker\": {\"line\": {\"color\": \"#E5ECF6\", \"width\": 0.5}}, \"type\": \"bar\"}], \"barpolar\": [{\"marker\": {\"line\": {\"color\": \"#E5ECF6\", \"width\": 0.5}}, \"type\": \"barpolar\"}], \"carpet\": [{\"aaxis\": {\"endlinecolor\": \"#2a3f5f\", \"gridcolor\": \"white\", \"linecolor\": \"white\", \"minorgridcolor\": \"white\", \"startlinecolor\": \"#2a3f5f\"}, \"baxis\": {\"endlinecolor\": \"#2a3f5f\", \"gridcolor\": \"white\", \"linecolor\": \"white\", \"minorgridcolor\": \"white\", \"startlinecolor\": \"#2a3f5f\"}, \"type\": \"carpet\"}], \"choropleth\": [{\"colorbar\": {\"outlinewidth\": 0, \"ticks\": \"\"}, \"type\": \"choropleth\"}], \"contour\": [{\"colorbar\": {\"outlinewidth\": 0, \"ticks\": \"\"}, \"colorscale\": [[0.0, \"#0d0887\"], [0.1111111111111111, \"#46039f\"], [0.2222222222222222, \"#7201a8\"], [0.3333333333333333, \"#9c179e\"], [0.4444444444444444, \"#bd3786\"], [0.5555555555555556, \"#d8576b\"], [0.6666666666666666, \"#ed7953\"], [0.7777777777777778, \"#fb9f3a\"], [0.8888888888888888, \"#fdca26\"], [1.0, \"#f0f921\"]], \"type\": \"contour\"}], \"contourcarpet\": [{\"colorbar\": {\"outlinewidth\": 0, \"ticks\": \"\"}, \"type\": \"contourcarpet\"}], \"heatmap\": [{\"colorbar\": {\"outlinewidth\": 0, \"ticks\": \"\"}, \"colorscale\": [[0.0, \"#0d0887\"], [0.1111111111111111, \"#46039f\"], [0.2222222222222222, \"#7201a8\"], [0.3333333333333333, \"#9c179e\"], [0.4444444444444444, \"#bd3786\"], [0.5555555555555556, \"#d8576b\"], [0.6666666666666666, \"#ed7953\"], [0.7777777777777778, \"#fb9f3a\"], [0.8888888888888888, \"#fdca26\"], [1.0, \"#f0f921\"]], \"type\": \"heatmap\"}], \"heatmapgl\": [{\"colorbar\": {\"outlinewidth\": 0, \"ticks\": \"\"}, \"colorscale\": [[0.0, \"#0d0887\"], [0.1111111111111111, \"#46039f\"], [0.2222222222222222, \"#7201a8\"], [0.3333333333333333, \"#9c179e\"], [0.4444444444444444, \"#bd3786\"], [0.5555555555555556, \"#d8576b\"], [0.6666666666666666, \"#ed7953\"], [0.7777777777777778, \"#fb9f3a\"], [0.8888888888888888, \"#fdca26\"], [1.0, \"#f0f921\"]], \"type\": \"heatmapgl\"}], \"histogram\": [{\"marker\": {\"colorbar\": {\"outlinewidth\": 0, \"ticks\": \"\"}}, \"type\": \"histogram\"}], \"histogram2d\": [{\"colorbar\": {\"outlinewidth\": 0, \"ticks\": \"\"}, \"colorscale\": [[0.0, \"#0d0887\"], [0.1111111111111111, \"#46039f\"], [0.2222222222222222, \"#7201a8\"], [0.3333333333333333, \"#9c179e\"], [0.4444444444444444, \"#bd3786\"], [0.5555555555555556, \"#d8576b\"], [0.6666666666666666, \"#ed7953\"], [0.7777777777777778, \"#fb9f3a\"], [0.8888888888888888, \"#fdca26\"], [1.0, \"#f0f921\"]], \"type\": \"histogram2d\"}], \"histogram2dcontour\": [{\"colorbar\": {\"outlinewidth\": 0, \"ticks\": \"\"}, \"colorscale\": [[0.0, \"#0d0887\"], [0.1111111111111111, \"#46039f\"], [0.2222222222222222, \"#7201a8\"], [0.3333333333333333, \"#9c179e\"], [0.4444444444444444, \"#bd3786\"], [0.5555555555555556, \"#d8576b\"], [0.6666666666666666, \"#ed7953\"], [0.7777777777777778, \"#fb9f3a\"], [0.8888888888888888, \"#fdca26\"], [1.0, \"#f0f921\"]], \"type\": \"histogram2dcontour\"}], \"mesh3d\": [{\"colorbar\": {\"outlinewidth\": 0, \"ticks\": \"\"}, \"type\": \"mesh3d\"}], \"parcoords\": [{\"line\": {\"colorbar\": {\"outlinewidth\": 0, \"ticks\": \"\"}}, \"type\": \"parcoords\"}], \"pie\": [{\"automargin\": true, \"type\": \"pie\"}], \"scatter\": [{\"marker\": {\"colorbar\": {\"outlinewidth\": 0, \"ticks\": \"\"}}, \"type\": \"scatter\"}], \"scatter3d\": [{\"line\": {\"colorbar\": {\"outlinewidth\": 0, \"ticks\": \"\"}}, \"marker\": {\"colorbar\": {\"outlinewidth\": 0, \"ticks\": \"\"}}, \"type\": \"scatter3d\"}], \"scattercarpet\": [{\"marker\": {\"colorbar\": {\"outlinewidth\": 0, \"ticks\": \"\"}}, \"type\": \"scattercarpet\"}], \"scattergeo\": [{\"marker\": {\"colorbar\": {\"outlinewidth\": 0, \"ticks\": \"\"}}, \"type\": \"scattergeo\"}], \"scattergl\": [{\"marker\": {\"colorbar\": {\"outlinewidth\": 0, \"ticks\": \"\"}}, \"type\": \"scattergl\"}], \"scattermapbox\": [{\"marker\": {\"colorbar\": {\"outlinewidth\": 0, \"ticks\": \"\"}}, \"type\": \"scattermapbox\"}], \"scatterpolar\": [{\"marker\": {\"colorbar\": {\"outlinewidth\": 0, \"ticks\": \"\"}}, \"type\": \"scatterpolar\"}], \"scatterpolargl\": [{\"marker\": {\"colorbar\": {\"outlinewidth\": 0, \"ticks\": \"\"}}, \"type\": \"scatterpolargl\"}], \"scatterternary\": [{\"marker\": {\"colorbar\": {\"outlinewidth\": 0, \"ticks\": \"\"}}, \"type\": \"scatterternary\"}], \"surface\": [{\"colorbar\": {\"outlinewidth\": 0, \"ticks\": \"\"}, \"colorscale\": [[0.0, \"#0d0887\"], [0.1111111111111111, \"#46039f\"], [0.2222222222222222, \"#7201a8\"], [0.3333333333333333, \"#9c179e\"], [0.4444444444444444, \"#bd3786\"], [0.5555555555555556, \"#d8576b\"], [0.6666666666666666, \"#ed7953\"], [0.7777777777777778, \"#fb9f3a\"], [0.8888888888888888, \"#fdca26\"], [1.0, \"#f0f921\"]], \"type\": \"surface\"}], \"table\": [{\"cells\": {\"fill\": {\"color\": \"#EBF0F8\"}, \"line\": {\"color\": \"white\"}}, \"header\": {\"fill\": {\"color\": \"#C8D4E3\"}, \"line\": {\"color\": \"white\"}}, \"type\": \"table\"}]}, \"layout\": {\"annotationdefaults\": {\"arrowcolor\": \"#2a3f5f\", \"arrowhead\": 0, \"arrowwidth\": 1}, \"coloraxis\": {\"colorbar\": {\"outlinewidth\": 0, \"ticks\": \"\"}}, \"colorscale\": {\"diverging\": [[0, \"#8e0152\"], [0.1, \"#c51b7d\"], [0.2, \"#de77ae\"], [0.3, \"#f1b6da\"], [0.4, \"#fde0ef\"], [0.5, \"#f7f7f7\"], [0.6, \"#e6f5d0\"], [0.7, \"#b8e186\"], [0.8, \"#7fbc41\"], [0.9, \"#4d9221\"], [1, \"#276419\"]], \"sequential\": [[0.0, \"#0d0887\"], [0.1111111111111111, \"#46039f\"], [0.2222222222222222, \"#7201a8\"], [0.3333333333333333, \"#9c179e\"], [0.4444444444444444, \"#bd3786\"], [0.5555555555555556, \"#d8576b\"], [0.6666666666666666, \"#ed7953\"], [0.7777777777777778, \"#fb9f3a\"], [0.8888888888888888, \"#fdca26\"], [1.0, \"#f0f921\"]], \"sequentialminus\": [[0.0, \"#0d0887\"], [0.1111111111111111, \"#46039f\"], [0.2222222222222222, \"#7201a8\"], [0.3333333333333333, \"#9c179e\"], [0.4444444444444444, \"#bd3786\"], [0.5555555555555556, \"#d8576b\"], [0.6666666666666666, \"#ed7953\"], [0.7777777777777778, \"#fb9f3a\"], [0.8888888888888888, \"#fdca26\"], [1.0, \"#f0f921\"]]}, \"colorway\": [\"#636efa\", \"#EF553B\", \"#00cc96\", \"#ab63fa\", \"#FFA15A\", \"#19d3f3\", \"#FF6692\", \"#B6E880\", \"#FF97FF\", \"#FECB52\"], \"font\": {\"color\": \"#2a3f5f\"}, \"geo\": {\"bgcolor\": \"white\", \"lakecolor\": \"white\", \"landcolor\": \"#E5ECF6\", \"showlakes\": true, \"showland\": true, \"subunitcolor\": \"white\"}, \"hoverlabel\": {\"align\": \"left\"}, \"hovermode\": \"closest\", \"mapbox\": {\"style\": \"light\"}, \"paper_bgcolor\": \"white\", \"plot_bgcolor\": \"#E5ECF6\", \"polar\": {\"angularaxis\": {\"gridcolor\": \"white\", \"linecolor\": \"white\", \"ticks\": \"\"}, \"bgcolor\": \"#E5ECF6\", \"radialaxis\": {\"gridcolor\": \"white\", \"linecolor\": \"white\", \"ticks\": \"\"}}, \"scene\": {\"xaxis\": {\"backgroundcolor\": \"#E5ECF6\", \"gridcolor\": \"white\", \"gridwidth\": 2, \"linecolor\": \"white\", \"showbackground\": true, \"ticks\": \"\", \"zerolinecolor\": \"white\"}, \"yaxis\": {\"backgroundcolor\": \"#E5ECF6\", \"gridcolor\": \"white\", \"gridwidth\": 2, \"linecolor\": \"white\", \"showbackground\": true, \"ticks\": \"\", \"zerolinecolor\": \"white\"}, \"zaxis\": {\"backgroundcolor\": \"#E5ECF6\", \"gridcolor\": \"white\", \"gridwidth\": 2, \"linecolor\": \"white\", \"showbackground\": true, \"ticks\": \"\", \"zerolinecolor\": \"white\"}}, \"shapedefaults\": {\"line\": {\"color\": \"#2a3f5f\"}}, \"ternary\": {\"aaxis\": {\"gridcolor\": \"white\", \"linecolor\": \"white\", \"ticks\": \"\"}, \"baxis\": {\"gridcolor\": \"white\", \"linecolor\": \"white\", \"ticks\": \"\"}, \"bgcolor\": \"#E5ECF6\", \"caxis\": {\"gridcolor\": \"white\", \"linecolor\": \"white\", \"ticks\": \"\"}}, \"title\": {\"x\": 0.05}, \"xaxis\": {\"automargin\": true, \"gridcolor\": \"white\", \"linecolor\": \"white\", \"ticks\": \"\", \"title\": {\"standoff\": 15}, \"zerolinecolor\": \"white\", \"zerolinewidth\": 2}, \"yaxis\": {\"automargin\": true, \"gridcolor\": \"white\", \"linecolor\": \"white\", \"ticks\": \"\", \"title\": {\"standoff\": 15}, \"zerolinecolor\": \"white\", \"zerolinewidth\": 2}}}},\n",
       "                        {\"responsive\": true}\n",
       "                    ).then(function(){\n",
       "                            \n",
       "var gd = document.getElementById('2060c050-a50b-477c-8cb9-650bd950b35d');\n",
       "var x = new MutationObserver(function (mutations, observer) {{\n",
       "        var display = window.getComputedStyle(gd).display;\n",
       "        if (!display || display === 'none') {{\n",
       "            console.log([gd, 'removed!']);\n",
       "            Plotly.purge(gd);\n",
       "            observer.disconnect();\n",
       "        }}\n",
       "}});\n",
       "\n",
       "// Listen for the removal of the full notebook cells\n",
       "var notebookContainer = gd.closest('#notebook-container');\n",
       "if (notebookContainer) {{\n",
       "    x.observe(notebookContainer, {childList: true});\n",
       "}}\n",
       "\n",
       "// Listen for the clearing of the current output cell\n",
       "var outputEl = gd.closest('.output');\n",
       "if (outputEl) {{\n",
       "    x.observe(outputEl, {childList: true});\n",
       "}}\n",
       "\n",
       "                        })\n",
       "                };\n",
       "                });\n",
       "            </script>\n",
       "        </div>"
      ]
     },
     "metadata": {},
     "output_type": "display_data"
    }
   ],
   "source": [
    "px.scatter_3d(data_frame=df,x='applicant_income',y='co-applicant_income',z='loan_amount',color='loan_status')"
   ]
  },
  {
   "cell_type": "markdown",
   "execution_count": null,
   "metadata": {
    "papermill": {
     "duration": 0.02967,
     "end_time": "2020-09-08T03:16:05.823612",
     "exception": false,
     "start_time": "2020-09-08T03:16:05.793942",
     "status": "completed"
    },
    "tags": []
   },
   "source": [
    "##### 3-2-Encoding"
   ]
  },
  {
   "cell_type": "markdown",
   "execution_count": null,
   "metadata": {
    "papermill": {
     "duration": 0.032563,
     "end_time": "2020-09-08T03:16:05.885144",
     "exception": false,
     "start_time": "2020-09-08T03:16:05.852581",
     "status": "completed"
    },
    "tags": []
   },
   "source": [
    "###### 3-2-1-gender"
   ]
  },
  {
   "cell_type": "code",
   "execution_count": 29,
   "metadata": {
    "execution": {
     "iopub.execute_input": "2020-09-08T03:16:05.949285Z",
     "iopub.status.busy": "2020-09-08T03:16:05.948498Z",
     "iopub.status.idle": "2020-09-08T03:16:05.952191Z",
     "shell.execute_reply": "2020-09-08T03:16:05.951396Z"
    },
    "papermill": {
     "duration": 0.03787,
     "end_time": "2020-09-08T03:16:05.952327",
     "exception": false,
     "start_time": "2020-09-08T03:16:05.914457",
     "status": "completed"
    },
    "tags": []
   },
   "outputs": [],
   "source": [
    "model1=LabelEncoder()"
   ]
  },
  {
   "cell_type": "code",
   "execution_count": 30,
   "metadata": {
    "execution": {
     "iopub.execute_input": "2020-09-08T03:16:06.019197Z",
     "iopub.status.busy": "2020-09-08T03:16:06.018016Z",
     "iopub.status.idle": "2020-09-08T03:16:06.023852Z",
     "shell.execute_reply": "2020-09-08T03:16:06.023070Z"
    },
    "papermill": {
     "duration": 0.042876,
     "end_time": "2020-09-08T03:16:06.023983",
     "exception": false,
     "start_time": "2020-09-08T03:16:05.981107",
     "status": "completed"
    },
    "tags": []
   },
   "outputs": [
    {
     "data": {
      "text/plain": [
       "LabelEncoder()"
      ]
     },
     "execution_count": 30,
     "metadata": {},
     "output_type": "execute_result"
    }
   ],
   "source": [
    "model1.fit(df['gender'])"
   ]
  },
  {
   "cell_type": "code",
   "execution_count": 31,
   "metadata": {
    "execution": {
     "iopub.execute_input": "2020-09-08T03:16:06.094072Z",
     "iopub.status.busy": "2020-09-08T03:16:06.093112Z",
     "iopub.status.idle": "2020-09-08T03:16:06.096744Z",
     "shell.execute_reply": "2020-09-08T03:16:06.096070Z"
    },
    "papermill": {
     "duration": 0.043284,
     "end_time": "2020-09-08T03:16:06.096910",
     "exception": false,
     "start_time": "2020-09-08T03:16:06.053626",
     "status": "completed"
    },
    "tags": []
   },
   "outputs": [],
   "source": [
    "df['gender']= model1.transform(df['gender'])"
   ]
  },
  {
   "cell_type": "markdown",
   "execution_count": null,
   "metadata": {
    "papermill": {
     "duration": 0.029729,
     "end_time": "2020-09-08T03:16:06.155847",
     "exception": false,
     "start_time": "2020-09-08T03:16:06.126118",
     "status": "completed"
    },
    "tags": []
   },
   "source": [
    "###### 3-2-2-married"
   ]
  },
  {
   "cell_type": "code",
   "execution_count": 32,
   "metadata": {
    "execution": {
     "iopub.execute_input": "2020-09-08T03:16:06.222196Z",
     "iopub.status.busy": "2020-09-08T03:16:06.221004Z",
     "iopub.status.idle": "2020-09-08T03:16:06.224732Z",
     "shell.execute_reply": "2020-09-08T03:16:06.223978Z"
    },
    "papermill": {
     "duration": 0.04018,
     "end_time": "2020-09-08T03:16:06.224884",
     "exception": false,
     "start_time": "2020-09-08T03:16:06.184704",
     "status": "completed"
    },
    "tags": []
   },
   "outputs": [],
   "source": [
    "model2=LabelEncoder()"
   ]
  },
  {
   "cell_type": "code",
   "execution_count": 33,
   "metadata": {
    "execution": {
     "iopub.execute_input": "2020-09-08T03:16:06.295821Z",
     "iopub.status.busy": "2020-09-08T03:16:06.294988Z",
     "iopub.status.idle": "2020-09-08T03:16:06.299327Z",
     "shell.execute_reply": "2020-09-08T03:16:06.298561Z"
    },
    "papermill": {
     "duration": 0.044075,
     "end_time": "2020-09-08T03:16:06.299454",
     "exception": false,
     "start_time": "2020-09-08T03:16:06.255379",
     "status": "completed"
    },
    "tags": []
   },
   "outputs": [
    {
     "data": {
      "text/plain": [
       "LabelEncoder()"
      ]
     },
     "execution_count": 33,
     "metadata": {},
     "output_type": "execute_result"
    }
   ],
   "source": [
    "model2.fit(df['married'])"
   ]
  },
  {
   "cell_type": "code",
   "execution_count": 34,
   "metadata": {
    "execution": {
     "iopub.execute_input": "2020-09-08T03:16:06.367967Z",
     "iopub.status.busy": "2020-09-08T03:16:06.366916Z",
     "iopub.status.idle": "2020-09-08T03:16:06.370583Z",
     "shell.execute_reply": "2020-09-08T03:16:06.369948Z"
    },
    "papermill": {
     "duration": 0.040351,
     "end_time": "2020-09-08T03:16:06.370713",
     "exception": false,
     "start_time": "2020-09-08T03:16:06.330362",
     "status": "completed"
    },
    "tags": []
   },
   "outputs": [],
   "source": [
    "df['married']= model2.transform(df['married'])"
   ]
  },
  {
   "cell_type": "markdown",
   "execution_count": null,
   "metadata": {
    "papermill": {
     "duration": 0.031241,
     "end_time": "2020-09-08T03:16:06.432897",
     "exception": false,
     "start_time": "2020-09-08T03:16:06.401656",
     "status": "completed"
    },
    "tags": []
   },
   "source": [
    "###### 3-2-3-education"
   ]
  },
  {
   "cell_type": "code",
   "execution_count": 35,
   "metadata": {
    "execution": {
     "iopub.execute_input": "2020-09-08T03:16:06.504427Z",
     "iopub.status.busy": "2020-09-08T03:16:06.503566Z",
     "iopub.status.idle": "2020-09-08T03:16:06.507525Z",
     "shell.execute_reply": "2020-09-08T03:16:06.506682Z"
    },
    "papermill": {
     "duration": 0.041005,
     "end_time": "2020-09-08T03:16:06.507659",
     "exception": false,
     "start_time": "2020-09-08T03:16:06.466654",
     "status": "completed"
    },
    "tags": []
   },
   "outputs": [],
   "source": [
    "model3=LabelEncoder()"
   ]
  },
  {
   "cell_type": "code",
   "execution_count": 36,
   "metadata": {
    "execution": {
     "iopub.execute_input": "2020-09-08T03:16:06.574611Z",
     "iopub.status.busy": "2020-09-08T03:16:06.573448Z",
     "iopub.status.idle": "2020-09-08T03:16:06.578526Z",
     "shell.execute_reply": "2020-09-08T03:16:06.577945Z"
    },
    "papermill": {
     "duration": 0.041678,
     "end_time": "2020-09-08T03:16:06.578667",
     "exception": false,
     "start_time": "2020-09-08T03:16:06.536989",
     "status": "completed"
    },
    "tags": []
   },
   "outputs": [
    {
     "data": {
      "text/plain": [
       "LabelEncoder()"
      ]
     },
     "execution_count": 36,
     "metadata": {},
     "output_type": "execute_result"
    }
   ],
   "source": [
    "model3.fit(df['education'])"
   ]
  },
  {
   "cell_type": "code",
   "execution_count": 37,
   "metadata": {
    "execution": {
     "iopub.execute_input": "2020-09-08T03:16:06.647661Z",
     "iopub.status.busy": "2020-09-08T03:16:06.646476Z",
     "iopub.status.idle": "2020-09-08T03:16:06.649387Z",
     "shell.execute_reply": "2020-09-08T03:16:06.649995Z"
    },
    "papermill": {
     "duration": 0.041559,
     "end_time": "2020-09-08T03:16:06.650166",
     "exception": false,
     "start_time": "2020-09-08T03:16:06.608607",
     "status": "completed"
    },
    "tags": []
   },
   "outputs": [],
   "source": [
    "df['education']= model3.transform(df['education'])"
   ]
  },
  {
   "cell_type": "markdown",
   "execution_count": null,
   "metadata": {
    "papermill": {
     "duration": 0.029583,
     "end_time": "2020-09-08T03:16:06.709183",
     "exception": false,
     "start_time": "2020-09-08T03:16:06.679600",
     "status": "completed"
    },
    "tags": []
   },
   "source": [
    "###### 3-2-4-self_employed"
   ]
  },
  {
   "cell_type": "code",
   "execution_count": 38,
   "metadata": {
    "execution": {
     "iopub.execute_input": "2020-09-08T03:16:06.775569Z",
     "iopub.status.busy": "2020-09-08T03:16:06.774514Z",
     "iopub.status.idle": "2020-09-08T03:16:06.777409Z",
     "shell.execute_reply": "2020-09-08T03:16:06.777964Z"
    },
    "papermill": {
     "duration": 0.039598,
     "end_time": "2020-09-08T03:16:06.778140",
     "exception": false,
     "start_time": "2020-09-08T03:16:06.738542",
     "status": "completed"
    },
    "tags": []
   },
   "outputs": [],
   "source": [
    "model4=LabelEncoder()"
   ]
  },
  {
   "cell_type": "code",
   "execution_count": 39,
   "metadata": {
    "execution": {
     "iopub.execute_input": "2020-09-08T03:16:06.846303Z",
     "iopub.status.busy": "2020-09-08T03:16:06.845098Z",
     "iopub.status.idle": "2020-09-08T03:16:06.850215Z",
     "shell.execute_reply": "2020-09-08T03:16:06.849498Z"
    },
    "papermill": {
     "duration": 0.042008,
     "end_time": "2020-09-08T03:16:06.850339",
     "exception": false,
     "start_time": "2020-09-08T03:16:06.808331",
     "status": "completed"
    },
    "tags": []
   },
   "outputs": [
    {
     "data": {
      "text/plain": [
       "LabelEncoder()"
      ]
     },
     "execution_count": 39,
     "metadata": {},
     "output_type": "execute_result"
    }
   ],
   "source": [
    "model4.fit(df['self_employed'])"
   ]
  },
  {
   "cell_type": "code",
   "execution_count": 40,
   "metadata": {
    "execution": {
     "iopub.execute_input": "2020-09-08T03:16:06.917673Z",
     "iopub.status.busy": "2020-09-08T03:16:06.916924Z",
     "iopub.status.idle": "2020-09-08T03:16:06.920588Z",
     "shell.execute_reply": "2020-09-08T03:16:06.919849Z"
    },
    "papermill": {
     "duration": 0.040144,
     "end_time": "2020-09-08T03:16:06.920711",
     "exception": false,
     "start_time": "2020-09-08T03:16:06.880567",
     "status": "completed"
    },
    "tags": []
   },
   "outputs": [],
   "source": [
    "df['self_employed']= model4.transform(df['self_employed'])"
   ]
  },
  {
   "cell_type": "markdown",
   "execution_count": null,
   "metadata": {
    "papermill": {
     "duration": 0.029232,
     "end_time": "2020-09-08T03:16:06.979610",
     "exception": false,
     "start_time": "2020-09-08T03:16:06.950378",
     "status": "completed"
    },
    "tags": []
   },
   "source": [
    "###### 3-2-5-property_area"
   ]
  },
  {
   "cell_type": "code",
   "execution_count": 41,
   "metadata": {
    "execution": {
     "iopub.execute_input": "2020-09-08T03:16:07.049537Z",
     "iopub.status.busy": "2020-09-08T03:16:07.048731Z",
     "iopub.status.idle": "2020-09-08T03:16:07.052665Z",
     "shell.execute_reply": "2020-09-08T03:16:07.051866Z"
    },
    "papermill": {
     "duration": 0.040401,
     "end_time": "2020-09-08T03:16:07.052818",
     "exception": false,
     "start_time": "2020-09-08T03:16:07.012417",
     "status": "completed"
    },
    "tags": []
   },
   "outputs": [],
   "source": [
    "model5=LabelEncoder()"
   ]
  },
  {
   "cell_type": "code",
   "execution_count": 42,
   "metadata": {
    "execution": {
     "iopub.execute_input": "2020-09-08T03:16:07.122699Z",
     "iopub.status.busy": "2020-09-08T03:16:07.121879Z",
     "iopub.status.idle": "2020-09-08T03:16:07.126525Z",
     "shell.execute_reply": "2020-09-08T03:16:07.125827Z"
    },
    "papermill": {
     "duration": 0.042427,
     "end_time": "2020-09-08T03:16:07.126658",
     "exception": false,
     "start_time": "2020-09-08T03:16:07.084231",
     "status": "completed"
    },
    "tags": []
   },
   "outputs": [
    {
     "data": {
      "text/plain": [
       "LabelEncoder()"
      ]
     },
     "execution_count": 42,
     "metadata": {},
     "output_type": "execute_result"
    }
   ],
   "source": [
    "model5.fit(df['property_area'])"
   ]
  },
  {
   "cell_type": "code",
   "execution_count": 43,
   "metadata": {
    "execution": {
     "iopub.execute_input": "2020-09-08T03:16:07.194181Z",
     "iopub.status.busy": "2020-09-08T03:16:07.193280Z",
     "iopub.status.idle": "2020-09-08T03:16:07.196891Z",
     "shell.execute_reply": "2020-09-08T03:16:07.196151Z"
    },
    "papermill": {
     "duration": 0.040125,
     "end_time": "2020-09-08T03:16:07.197050",
     "exception": false,
     "start_time": "2020-09-08T03:16:07.156925",
     "status": "completed"
    },
    "tags": []
   },
   "outputs": [],
   "source": [
    "df['property_area']= model5.transform(df['property_area'])"
   ]
  },
  {
   "cell_type": "markdown",
   "execution_count": null,
   "metadata": {
    "papermill": {
     "duration": 0.030197,
     "end_time": "2020-09-08T03:16:07.259319",
     "exception": false,
     "start_time": "2020-09-08T03:16:07.229122",
     "status": "completed"
    },
    "tags": []
   },
   "source": [
    "###### 3-2-6-loan status"
   ]
  },
  {
   "cell_type": "code",
   "execution_count": 44,
   "metadata": {
    "execution": {
     "iopub.execute_input": "2020-09-08T03:16:07.328214Z",
     "iopub.status.busy": "2020-09-08T03:16:07.327234Z",
     "iopub.status.idle": "2020-09-08T03:16:07.330547Z",
     "shell.execute_reply": "2020-09-08T03:16:07.329812Z"
    },
    "papermill": {
     "duration": 0.039562,
     "end_time": "2020-09-08T03:16:07.330672",
     "exception": false,
     "start_time": "2020-09-08T03:16:07.291110",
     "status": "completed"
    },
    "tags": []
   },
   "outputs": [],
   "source": [
    "model6=LabelEncoder()"
   ]
  },
  {
   "cell_type": "code",
   "execution_count": 45,
   "metadata": {
    "execution": {
     "iopub.execute_input": "2020-09-08T03:16:07.399955Z",
     "iopub.status.busy": "2020-09-08T03:16:07.398962Z",
     "iopub.status.idle": "2020-09-08T03:16:07.403168Z",
     "shell.execute_reply": "2020-09-08T03:16:07.403831Z"
    },
    "papermill": {
     "duration": 0.043225,
     "end_time": "2020-09-08T03:16:07.403994",
     "exception": false,
     "start_time": "2020-09-08T03:16:07.360769",
     "status": "completed"
    },
    "tags": []
   },
   "outputs": [
    {
     "data": {
      "text/plain": [
       "LabelEncoder()"
      ]
     },
     "execution_count": 45,
     "metadata": {},
     "output_type": "execute_result"
    }
   ],
   "source": [
    "model6.fit(df['loan_status'])"
   ]
  },
  {
   "cell_type": "code",
   "execution_count": 46,
   "metadata": {
    "execution": {
     "iopub.execute_input": "2020-09-08T03:16:07.474101Z",
     "iopub.status.busy": "2020-09-08T03:16:07.472978Z",
     "iopub.status.idle": "2020-09-08T03:16:07.476673Z",
     "shell.execute_reply": "2020-09-08T03:16:07.475890Z"
    },
    "papermill": {
     "duration": 0.042488,
     "end_time": "2020-09-08T03:16:07.476824",
     "exception": false,
     "start_time": "2020-09-08T03:16:07.434336",
     "status": "completed"
    },
    "tags": []
   },
   "outputs": [],
   "source": [
    "df['loan_status']= model6.transform(df['loan_status'])"
   ]
  },
  {
   "cell_type": "code",
   "execution_count": 47,
   "metadata": {
    "execution": {
     "iopub.execute_input": "2020-09-08T03:16:07.562874Z",
     "iopub.status.busy": "2020-09-08T03:16:07.561806Z",
     "iopub.status.idle": "2020-09-08T03:16:07.568836Z",
     "shell.execute_reply": "2020-09-08T03:16:07.568038Z"
    },
    "papermill": {
     "duration": 0.059515,
     "end_time": "2020-09-08T03:16:07.568966",
     "exception": false,
     "start_time": "2020-09-08T03:16:07.509451",
     "status": "completed"
    },
    "scrolled": true,
    "tags": []
   },
   "outputs": [
    {
     "data": {
      "text/html": [
       "<div>\n",
       "<style scoped>\n",
       "    .dataframe tbody tr th:only-of-type {\n",
       "        vertical-align: middle;\n",
       "    }\n",
       "\n",
       "    .dataframe tbody tr th {\n",
       "        vertical-align: top;\n",
       "    }\n",
       "\n",
       "    .dataframe thead th {\n",
       "        text-align: right;\n",
       "    }\n",
       "</style>\n",
       "<table border=\"1\" class=\"dataframe\">\n",
       "  <thead>\n",
       "    <tr style=\"text-align: right;\">\n",
       "      <th></th>\n",
       "      <th>loan_id</th>\n",
       "      <th>gender</th>\n",
       "      <th>married</th>\n",
       "      <th>dependents</th>\n",
       "      <th>education</th>\n",
       "      <th>self_employed</th>\n",
       "      <th>applicant_income</th>\n",
       "      <th>co-applicant_income</th>\n",
       "      <th>loan_amount</th>\n",
       "      <th>loan_amount_term</th>\n",
       "      <th>credit_history</th>\n",
       "      <th>property_area</th>\n",
       "      <th>loan_status</th>\n",
       "    </tr>\n",
       "  </thead>\n",
       "  <tbody>\n",
       "    <tr>\n",
       "      <th>0</th>\n",
       "      <td>LP001002</td>\n",
       "      <td>1</td>\n",
       "      <td>0</td>\n",
       "      <td>0</td>\n",
       "      <td>0</td>\n",
       "      <td>0</td>\n",
       "      <td>5849</td>\n",
       "      <td>0.0</td>\n",
       "      <td>146.412162</td>\n",
       "      <td>360.0</td>\n",
       "      <td>1.0</td>\n",
       "      <td>2</td>\n",
       "      <td>1</td>\n",
       "    </tr>\n",
       "    <tr>\n",
       "      <th>1</th>\n",
       "      <td>LP001003</td>\n",
       "      <td>1</td>\n",
       "      <td>1</td>\n",
       "      <td>1</td>\n",
       "      <td>0</td>\n",
       "      <td>0</td>\n",
       "      <td>4583</td>\n",
       "      <td>1508.0</td>\n",
       "      <td>128.000000</td>\n",
       "      <td>360.0</td>\n",
       "      <td>1.0</td>\n",
       "      <td>0</td>\n",
       "      <td>0</td>\n",
       "    </tr>\n",
       "    <tr>\n",
       "      <th>2</th>\n",
       "      <td>LP001005</td>\n",
       "      <td>1</td>\n",
       "      <td>1</td>\n",
       "      <td>0</td>\n",
       "      <td>0</td>\n",
       "      <td>1</td>\n",
       "      <td>3000</td>\n",
       "      <td>0.0</td>\n",
       "      <td>66.000000</td>\n",
       "      <td>360.0</td>\n",
       "      <td>1.0</td>\n",
       "      <td>2</td>\n",
       "      <td>1</td>\n",
       "    </tr>\n",
       "    <tr>\n",
       "      <th>3</th>\n",
       "      <td>LP001006</td>\n",
       "      <td>1</td>\n",
       "      <td>1</td>\n",
       "      <td>0</td>\n",
       "      <td>1</td>\n",
       "      <td>0</td>\n",
       "      <td>2583</td>\n",
       "      <td>2358.0</td>\n",
       "      <td>120.000000</td>\n",
       "      <td>360.0</td>\n",
       "      <td>1.0</td>\n",
       "      <td>2</td>\n",
       "      <td>1</td>\n",
       "    </tr>\n",
       "    <tr>\n",
       "      <th>4</th>\n",
       "      <td>LP001008</td>\n",
       "      <td>1</td>\n",
       "      <td>0</td>\n",
       "      <td>0</td>\n",
       "      <td>0</td>\n",
       "      <td>0</td>\n",
       "      <td>6000</td>\n",
       "      <td>0.0</td>\n",
       "      <td>141.000000</td>\n",
       "      <td>360.0</td>\n",
       "      <td>1.0</td>\n",
       "      <td>2</td>\n",
       "      <td>1</td>\n",
       "    </tr>\n",
       "  </tbody>\n",
       "</table>\n",
       "</div>"
      ],
      "text/plain": [
       "    loan_id  gender  married  dependents  education  self_employed  \\\n",
       "0  LP001002       1        0           0          0              0   \n",
       "1  LP001003       1        1           1          0              0   \n",
       "2  LP001005       1        1           0          0              1   \n",
       "3  LP001006       1        1           0          1              0   \n",
       "4  LP001008       1        0           0          0              0   \n",
       "\n",
       "   applicant_income  co-applicant_income  loan_amount  loan_amount_term  \\\n",
       "0              5849                  0.0   146.412162             360.0   \n",
       "1              4583               1508.0   128.000000             360.0   \n",
       "2              3000                  0.0    66.000000             360.0   \n",
       "3              2583               2358.0   120.000000             360.0   \n",
       "4              6000                  0.0   141.000000             360.0   \n",
       "\n",
       "   credit_history  property_area  loan_status  \n",
       "0             1.0              2            1  \n",
       "1             1.0              0            0  \n",
       "2             1.0              2            1  \n",
       "3             1.0              2            1  \n",
       "4             1.0              2            1  "
      ]
     },
     "execution_count": 47,
     "metadata": {},
     "output_type": "execute_result"
    }
   ],
   "source": [
    "df.head()"
   ]
  },
  {
   "cell_type": "code",
   "execution_count": 48,
   "metadata": {
    "execution": {
     "iopub.execute_input": "2020-09-08T03:16:07.647936Z",
     "iopub.status.busy": "2020-09-08T03:16:07.646703Z",
     "iopub.status.idle": "2020-09-08T03:16:08.549734Z",
     "shell.execute_reply": "2020-09-08T03:16:08.548510Z"
    },
    "papermill": {
     "duration": 0.949081,
     "end_time": "2020-09-08T03:16:08.549911",
     "exception": false,
     "start_time": "2020-09-08T03:16:07.600830",
     "status": "completed"
    },
    "tags": []
   },
   "outputs": [
    {
     "data": {
      "text/plain": [
       "Text(0.5, 1.0, 'Correlation Matrix for Loan Status')"
      ]
     },
     "execution_count": 48,
     "metadata": {},
     "output_type": "execute_result"
    },
    {
     "data": {
      "image/png": "[encoded data removed]",
      "text/plain": [
       "<Figure size 864x576 with 2 Axes>"
      ]
     },
     "metadata": {
      "needs_background": "light"
     },
     "output_type": "display_data"
    }
   ],
   "source": [
    "plt.figure(figsize=(12,8))\n",
    "\n",
    "corr = df.corr()\n",
    "mask = np.zeros_like(corr)\n",
    "mask[np.triu_indices_from(mask)] = True\n",
    "with sns.axes_style(\"white\"):\n",
    "    ax = sns.heatmap(corr, mask=mask, square=True,annot=True,linewidths=2, cmap='viridis')\n",
    "plt.title('Correlation Matrix for Loan Status')"
   ]
  },
  {
   "cell_type": "markdown",
   "execution_count": null,
   "metadata": {
    "papermill": {
     "duration": 0.03998,
     "end_time": "2020-09-08T03:16:08.627145",
     "exception": false,
     "start_time": "2020-09-08T03:16:08.587165",
     "status": "completed"
    },
    "tags": []
   },
   "source": [
    "From the above figure, we can see that Credit_History (Independent Variable) has the maximum correlation with Loan_Status (Dependent Variable). Which denotes that the Loan_Status is heavily dependent on the Credit_History."
   ]
  },
  {
   "cell_type": "markdown",
   "execution_count": null,
   "metadata": {
    "papermill": {
     "duration": 0.033935,
     "end_time": "2020-09-08T03:16:08.695352",
     "exception": false,
     "start_time": "2020-09-08T03:16:08.661417",
     "status": "completed"
    },
    "tags": []
   },
   "source": [
    "### 4-Prediction"
   ]
  },
  {
   "cell_type": "markdown",
   "execution_count": null,
   "metadata": {
    "papermill": {
     "duration": 0.032031,
     "end_time": "2020-09-08T03:16:08.760801",
     "exception": false,
     "start_time": "2020-09-08T03:16:08.728770",
     "status": "completed"
    },
    "tags": []
   },
   "source": [
    "##### 4-1-LogisticRegression"
   ]
  },
  {
   "cell_type": "code",
   "execution_count": 49,
   "metadata": {
    "execution": {
     "iopub.execute_input": "2020-09-08T03:16:08.836085Z",
     "iopub.status.busy": "2020-09-08T03:16:08.834968Z",
     "iopub.status.idle": "2020-09-08T03:16:08.838649Z",
     "shell.execute_reply": "2020-09-08T03:16:08.837901Z"
    },
    "papermill": {
     "duration": 0.046169,
     "end_time": "2020-09-08T03:16:08.838802",
     "exception": false,
     "start_time": "2020-09-08T03:16:08.792633",
     "status": "completed"
    },
    "tags": []
   },
   "outputs": [],
   "source": [
    "X=df.drop(['loan_id','loan_status'],axis=1)\n",
    "y=df['loan_status']"
   ]
  },
  {
   "cell_type": "code",
   "execution_count": 50,
   "metadata": {
    "execution": {
     "iopub.execute_input": "2020-09-08T03:16:08.914572Z",
     "iopub.status.busy": "2020-09-08T03:16:08.912890Z",
     "iopub.status.idle": "2020-09-08T03:16:08.916930Z",
     "shell.execute_reply": "2020-09-08T03:16:08.916185Z"
    },
    "papermill": {
     "duration": 0.045963,
     "end_time": "2020-09-08T03:16:08.917063",
     "exception": false,
     "start_time": "2020-09-08T03:16:08.871100",
     "status": "completed"
    },
    "tags": []
   },
   "outputs": [],
   "source": [
    "X_train, X_test, y_train, y_test = train_test_split(X, y, test_size=0.2,random_state=0)"
   ]
  },
  {
   "cell_type": "code",
   "execution_count": 51,
   "metadata": {
    "execution": {
     "iopub.execute_input": "2020-09-08T03:16:08.999826Z",
     "iopub.status.busy": "2020-09-08T03:16:08.998594Z",
     "iopub.status.idle": "2020-09-08T03:16:09.004496Z",
     "shell.execute_reply": "2020-09-08T03:16:09.003657Z"
    },
    "papermill": {
     "duration": 0.050464,
     "end_time": "2020-09-08T03:16:09.004682",
     "exception": false,
     "start_time": "2020-09-08T03:16:08.954218",
     "status": "completed"
    },
    "tags": []
   },
   "outputs": [],
   "source": [
    "lr=LogisticRegression()"
   ]
  },
  {
   "cell_type": "code",
   "execution_count": 52,
   "metadata": {
    "execution": {
     "iopub.execute_input": "2020-09-08T03:16:09.083738Z",
     "iopub.status.busy": "2020-09-08T03:16:09.082561Z",
     "iopub.status.idle": "2020-09-08T03:16:09.138437Z",
     "shell.execute_reply": "2020-09-08T03:16:09.139113Z"
    },
    "papermill": {
     "duration": 0.101714,
     "end_time": "2020-09-08T03:16:09.139285",
     "exception": false,
     "start_time": "2020-09-08T03:16:09.037571",
     "status": "completed"
    },
    "tags": []
   },
   "outputs": [
    {
     "name": "stderr",
     "output_type": "stream",
     "text": [
      "/opt/conda/lib/python3.7/site-packages/sklearn/linear_model/_logistic.py:764: ConvergenceWarning:\n",
      "\n",
      "lbfgs failed to converge (status=1):\n",
      "STOP: TOTAL NO. of ITERATIONS REACHED LIMIT.\n",
      "\n",
      "Increase the number of iterations (max_iter) or scale the data as shown in:\n",
      "    https://scikit-learn.org/stable/modules/preprocessing.html\n",
      "Please also refer to the documentation for alternative solver options:\n",
      "    https://scikit-learn.org/stable/modules/linear_model.html#logistic-regression\n",
      "\n"
     ]
    },
    {
     "data": {
      "text/plain": [
       "LogisticRegression()"
      ]
     },
     "execution_count": 52,
     "metadata": {},
     "output_type": "execute_result"
    }
   ],
   "source": [
    "lr.fit(X_train, y_train)"
   ]
  },
  {
   "cell_type": "code",
   "execution_count": 53,
   "metadata": {
    "execution": {
     "iopub.execute_input": "2020-09-08T03:16:09.218744Z",
     "iopub.status.busy": "2020-09-08T03:16:09.217862Z",
     "iopub.status.idle": "2020-09-08T03:16:09.221479Z",
     "shell.execute_reply": "2020-09-08T03:16:09.220709Z"
    },
    "papermill": {
     "duration": 0.04748,
     "end_time": "2020-09-08T03:16:09.221608",
     "exception": false,
     "start_time": "2020-09-08T03:16:09.174128",
     "status": "completed"
    },
    "tags": []
   },
   "outputs": [],
   "source": [
    "lr_prediction=lr.predict(X_test)"
   ]
  },
  {
   "cell_type": "code",
   "execution_count": 54,
   "metadata": {
    "execution": {
     "iopub.execute_input": "2020-09-08T03:16:09.305929Z",
     "iopub.status.busy": "2020-09-08T03:16:09.304450Z",
     "iopub.status.idle": "2020-09-08T03:16:09.319854Z",
     "shell.execute_reply": "2020-09-08T03:16:09.321172Z"
    },
    "papermill": {
     "duration": 0.064783,
     "end_time": "2020-09-08T03:16:09.321445",
     "exception": false,
     "start_time": "2020-09-08T03:16:09.256662",
     "status": "completed"
    },
    "tags": []
   },
   "outputs": [
    {
     "name": "stdout",
     "output_type": "stream",
     "text": [
      "[[10 21]\n",
      " [ 0 78]]\n",
      "\n",
      "\n",
      "              precision    recall  f1-score   support\n",
      "\n",
      "           0       1.00      0.32      0.49        31\n",
      "           1       0.79      1.00      0.88        78\n",
      "\n",
      "    accuracy                           0.81       109\n",
      "   macro avg       0.89      0.66      0.68       109\n",
      "weighted avg       0.85      0.81      0.77       109\n",
      "\n",
      "\n",
      "\n",
      "Logistic Regression accuracy:  0.8073394495412844\n"
     ]
    }
   ],
   "source": [
    "print(confusion_matrix(y_test,lr_prediction))\n",
    "print('\\n')\n",
    "print(classification_report(y_test,lr_prediction))\n",
    "print('\\n')\n",
    "print('Logistic Regression accuracy: ', accuracy_score(y_test,lr_prediction))"
   ]
  },
  {
   "cell_type": "markdown",
   "execution_count": null,
   "metadata": {
    "papermill": {
     "duration": 0.036852,
     "end_time": "2020-09-08T03:16:09.395570",
     "exception": false,
     "start_time": "2020-09-08T03:16:09.358718",
     "status": "completed"
    },
    "tags": []
   },
   "source": [
    "### 4-2-Decision Tree "
   ]
  },
  {
   "cell_type": "code",
   "execution_count": 55,
   "metadata": {
    "execution": {
     "iopub.execute_input": "2020-09-08T03:16:09.472762Z",
     "iopub.status.busy": "2020-09-08T03:16:09.471994Z",
     "iopub.status.idle": "2020-09-08T03:16:09.475399Z",
     "shell.execute_reply": "2020-09-08T03:16:09.476025Z"
    },
    "papermill": {
     "duration": 0.045616,
     "end_time": "2020-09-08T03:16:09.476198",
     "exception": false,
     "start_time": "2020-09-08T03:16:09.430582",
     "status": "completed"
    },
    "tags": []
   },
   "outputs": [],
   "source": [
    "dt=DecisionTreeClassifier()"
   ]
  },
  {
   "cell_type": "code",
   "execution_count": 56,
   "metadata": {
    "execution": {
     "iopub.execute_input": "2020-09-08T03:16:09.554316Z",
     "iopub.status.busy": "2020-09-08T03:16:09.553517Z",
     "iopub.status.idle": "2020-09-08T03:16:09.562792Z",
     "shell.execute_reply": "2020-09-08T03:16:09.562036Z"
    },
    "papermill": {
     "duration": 0.051438,
     "end_time": "2020-09-08T03:16:09.562921",
     "exception": false,
     "start_time": "2020-09-08T03:16:09.511483",
     "status": "completed"
    },
    "tags": []
   },
   "outputs": [
    {
     "data": {
      "text/plain": [
       "DecisionTreeClassifier()"
      ]
     },
     "execution_count": 56,
     "metadata": {},
     "output_type": "execute_result"
    }
   ],
   "source": [
    "dt.fit(X_train, y_train)"
   ]
  },
  {
   "cell_type": "code",
   "execution_count": 57,
   "metadata": {
    "execution": {
     "iopub.execute_input": "2020-09-08T03:16:09.648972Z",
     "iopub.status.busy": "2020-09-08T03:16:09.647648Z",
     "iopub.status.idle": "2020-09-08T03:16:09.655685Z",
     "shell.execute_reply": "2020-09-08T03:16:09.654587Z"
    },
    "papermill": {
     "duration": 0.060434,
     "end_time": "2020-09-08T03:16:09.655936",
     "exception": false,
     "start_time": "2020-09-08T03:16:09.595502",
     "status": "completed"
    },
    "tags": []
   },
   "outputs": [],
   "source": [
    "dt_prediction=dt.predict(X_test)"
   ]
  },
  {
   "cell_type": "code",
   "execution_count": 58,
   "metadata": {
    "execution": {
     "iopub.execute_input": "2020-09-08T03:16:09.770198Z",
     "iopub.status.busy": "2020-09-08T03:16:09.768911Z",
     "iopub.status.idle": "2020-09-08T03:16:09.785597Z",
     "shell.execute_reply": "2020-09-08T03:16:09.786224Z"
    },
    "papermill": {
     "duration": 0.079809,
     "end_time": "2020-09-08T03:16:09.786410",
     "exception": false,
     "start_time": "2020-09-08T03:16:09.706601",
     "status": "completed"
    },
    "tags": []
   },
   "outputs": [
    {
     "name": "stdout",
     "output_type": "stream",
     "text": [
      "[[14 17]\n",
      " [15 63]]\n",
      "\n",
      "\n",
      "              precision    recall  f1-score   support\n",
      "\n",
      "           0       0.48      0.45      0.47        31\n",
      "           1       0.79      0.81      0.80        78\n",
      "\n",
      "    accuracy                           0.71       109\n",
      "   macro avg       0.64      0.63      0.63       109\n",
      "weighted avg       0.70      0.71      0.70       109\n",
      "\n",
      "\n",
      "\n",
      "Decision Tree Accuracy:  0.7064220183486238\n"
     ]
    }
   ],
   "source": [
    "print(confusion_matrix(y_test,dt_prediction))\n",
    "print('\\n')\n",
    "print(classification_report(y_test,dt_prediction))\n",
    "print('\\n')\n",
    "print('Decision Tree Accuracy: ', accuracy_score(y_test,dt_prediction))"
   ]
  },
  {
   "cell_type": "markdown",
   "execution_count": null,
   "metadata": {
    "papermill": {
     "duration": 0.033503,
     "end_time": "2020-09-08T03:16:09.861581",
     "exception": false,
     "start_time": "2020-09-08T03:16:09.828078",
     "status": "completed"
    },
    "tags": []
   },
   "source": [
    "##### 4-3-Random Forest"
   ]
  },
  {
   "cell_type": "code",
   "execution_count": 59,
   "metadata": {
    "execution": {
     "iopub.execute_input": "2020-09-08T03:16:09.935180Z",
     "iopub.status.busy": "2020-09-08T03:16:09.934364Z",
     "iopub.status.idle": "2020-09-08T03:16:09.938296Z",
     "shell.execute_reply": "2020-09-08T03:16:09.937543Z"
    },
    "papermill": {
     "duration": 0.043446,
     "end_time": "2020-09-08T03:16:09.938436",
     "exception": false,
     "start_time": "2020-09-08T03:16:09.894990",
     "status": "completed"
    },
    "tags": []
   },
   "outputs": [],
   "source": [
    "rf=RandomForestClassifier(n_estimators=200)"
   ]
  },
  {
   "cell_type": "code",
   "execution_count": 60,
   "metadata": {
    "execution": {
     "iopub.execute_input": "2020-09-08T03:16:10.023125Z",
     "iopub.status.busy": "2020-09-08T03:16:10.022288Z",
     "iopub.status.idle": "2020-09-08T03:16:10.553028Z",
     "shell.execute_reply": "2020-09-08T03:16:10.552196Z"
    },
    "papermill": {
     "duration": 0.581309,
     "end_time": "2020-09-08T03:16:10.553166",
     "exception": false,
     "start_time": "2020-09-08T03:16:09.971857",
     "status": "completed"
    },
    "tags": []
   },
   "outputs": [
    {
     "data": {
      "text/plain": [
       "RandomForestClassifier(n_estimators=200)"
      ]
     },
     "execution_count": 60,
     "metadata": {},
     "output_type": "execute_result"
    }
   ],
   "source": [
    "rf.fit(X_train, y_train)"
   ]
  },
  {
   "cell_type": "code",
   "execution_count": 61,
   "metadata": {
    "execution": {
     "iopub.execute_input": "2020-09-08T03:16:10.722199Z",
     "iopub.status.busy": "2020-09-08T03:16:10.721311Z",
     "iopub.status.idle": "2020-09-08T03:16:10.752617Z",
     "shell.execute_reply": "2020-09-08T03:16:10.751794Z"
    },
    "papermill": {
     "duration": 0.165155,
     "end_time": "2020-09-08T03:16:10.752749",
     "exception": false,
     "start_time": "2020-09-08T03:16:10.587594",
     "status": "completed"
    },
    "tags": []
   },
   "outputs": [],
   "source": [
    "rf_prediction=rf.predict(X_test)"
   ]
  },
  {
   "cell_type": "code",
   "execution_count": 62,
   "metadata": {
    "execution": {
     "iopub.execute_input": "2020-09-08T03:16:10.832579Z",
     "iopub.status.busy": "2020-09-08T03:16:10.831750Z",
     "iopub.status.idle": "2020-09-08T03:16:10.847098Z",
     "shell.execute_reply": "2020-09-08T03:16:10.846243Z"
    },
    "papermill": {
     "duration": 0.060092,
     "end_time": "2020-09-08T03:16:10.847243",
     "exception": false,
     "start_time": "2020-09-08T03:16:10.787151",
     "status": "completed"
    },
    "tags": []
   },
   "outputs": [
    {
     "name": "stdout",
     "output_type": "stream",
     "text": [
      "[[12 19]\n",
      " [ 5 73]]\n",
      "\n",
      "\n",
      "              precision    recall  f1-score   support\n",
      "\n",
      "           0       0.71      0.39      0.50        31\n",
      "           1       0.79      0.94      0.86        78\n",
      "\n",
      "    accuracy                           0.78       109\n",
      "   macro avg       0.75      0.66      0.68       109\n",
      "weighted avg       0.77      0.78      0.76       109\n",
      "\n",
      "\n",
      "\n",
      "Random Forest Accuracy:  0.7798165137614679\n"
     ]
    }
   ],
   "source": [
    "print(confusion_matrix(y_test,rf_prediction))\n",
    "print('\\n')\n",
    "print(classification_report(y_test,rf_prediction))\n",
    "print('\\n')\n",
    "print('Random Forest Accuracy: ', accuracy_score(y_test,rf_prediction))"
   ]
  },
  {
   "cell_type": "markdown",
   "execution_count": null,
   "metadata": {
    "papermill": {
     "duration": 0.034116,
     "end_time": "2020-09-08T03:16:10.916017",
     "exception": false,
     "start_time": "2020-09-08T03:16:10.881901",
     "status": "completed"
    },
    "tags": []
   },
   "source": [
    "##### 4-4-KNearest Neighbors"
   ]
  },
  {
   "cell_type": "code",
   "execution_count": 63,
   "metadata": {
    "execution": {
     "iopub.execute_input": "2020-09-08T03:16:10.999870Z",
     "iopub.status.busy": "2020-09-08T03:16:10.997521Z",
     "iopub.status.idle": "2020-09-08T03:16:11.536747Z",
     "shell.execute_reply": "2020-09-08T03:16:11.537673Z"
    },
    "papermill": {
     "duration": 0.5862,
     "end_time": "2020-09-08T03:16:11.537880",
     "exception": false,
     "start_time": "2020-09-08T03:16:10.951680",
     "status": "completed"
    },
    "tags": []
   },
   "outputs": [
    {
     "name": "stdout",
     "output_type": "stream",
     "text": [
      "[0.3853211009174312, 0.48623853211009177, 0.4036697247706422, 0.44954128440366975, 0.43119266055045874, 0.45871559633027525, 0.3486238532110092, 0.3669724770642202, 0.3302752293577982, 0.3302752293577982, 0.3119266055045872, 0.3394495412844037, 0.29357798165137616, 0.30275229357798167, 0.29357798165137616, 0.3119266055045872, 0.3211009174311927, 0.29357798165137616, 0.27522935779816515, 0.27522935779816515, 0.27522935779816515, 0.27522935779816515, 0.26605504587155965, 0.26605504587155965, 0.27522935779816515, 0.27522935779816515, 0.28440366972477066, 0.27522935779816515, 0.28440366972477066, 0.28440366972477066, 0.28440366972477066, 0.28440366972477066, 0.28440366972477066, 0.28440366972477066, 0.28440366972477066, 0.28440366972477066, 0.28440366972477066, 0.28440366972477066, 0.28440366972477066]\n"
     ]
    }
   ],
   "source": [
    "error_rate=[]\n",
    "for n in range(1,40):\n",
    "    knn=KNeighborsClassifier(n_neighbors=n)\n",
    "    knn.fit(X_train, y_train)\n",
    "    knn_prediction=knn.predict(X_test)\n",
    "    error_rate.append(np.mean(knn_prediction!=y_test))\n",
    "print(error_rate)"
   ]
  },
  {
   "cell_type": "code",
   "execution_count": 64,
   "metadata": {
    "execution": {
     "iopub.execute_input": "2020-09-08T03:16:11.638085Z",
     "iopub.status.busy": "2020-09-08T03:16:11.636111Z",
     "iopub.status.idle": "2020-09-08T03:16:12.063158Z",
     "shell.execute_reply": "2020-09-08T03:16:12.063821Z"
    },
    "papermill": {
     "duration": 0.486515,
     "end_time": "2020-09-08T03:16:12.064009",
     "exception": false,
     "start_time": "2020-09-08T03:16:11.577494",
     "status": "completed"
    },
    "tags": []
   },
   "outputs": [
    {
     "data": {
      "text/plain": [
       "Text(0.5, 1.0, 'Elbow Method')"
      ]
     },
     "execution_count": 64,
     "metadata": {},
     "output_type": "execute_result"
    },
    {
     "data": {
      "image/png": "[encoded data removed]",
      "text/plain": [
       "<Figure size 576x432 with 1 Axes>"
      ]
     },
     "metadata": {
      "needs_background": "light"
     },
     "output_type": "display_data"
    }
   ],
   "source": [
    "plt.figure(figsize=(8,6))\n",
    "sns.set_style('whitegrid')\n",
    "plt.plot(list(range(1,40)),error_rate,color='b', marker='o', linewidth=2, markersize=12, markerfacecolor='r', markeredgecolor='r')\n",
    "plt.xlabel('Number of Neighbors')\n",
    "plt.ylabel('Error Rate')\n",
    "plt.title('Elbow Method')"
   ]
  },
  {
   "cell_type": "code",
   "execution_count": 65,
   "metadata": {
    "execution": {
     "iopub.execute_input": "2020-09-08T03:16:12.147838Z",
     "iopub.status.busy": "2020-09-08T03:16:12.146539Z",
     "iopub.status.idle": "2020-09-08T03:16:12.150256Z",
     "shell.execute_reply": "2020-09-08T03:16:12.150944Z"
    },
    "papermill": {
     "duration": 0.048706,
     "end_time": "2020-09-08T03:16:12.151140",
     "exception": false,
     "start_time": "2020-09-08T03:16:12.102434",
     "status": "completed"
    },
    "tags": []
   },
   "outputs": [],
   "source": [
    "knn=KNeighborsClassifier(n_neighbors=23)"
   ]
  },
  {
   "cell_type": "code",
   "execution_count": 66,
   "metadata": {
    "execution": {
     "iopub.execute_input": "2020-09-08T03:16:12.242944Z",
     "iopub.status.busy": "2020-09-08T03:16:12.240283Z",
     "iopub.status.idle": "2020-09-08T03:16:12.247941Z",
     "shell.execute_reply": "2020-09-08T03:16:12.248518Z"
    },
    "papermill": {
     "duration": 0.058474,
     "end_time": "2020-09-08T03:16:12.248695",
     "exception": false,
     "start_time": "2020-09-08T03:16:12.190221",
     "status": "completed"
    },
    "tags": []
   },
   "outputs": [
    {
     "data": {
      "text/plain": [
       "KNeighborsClassifier(n_neighbors=23)"
      ]
     },
     "execution_count": 66,
     "metadata": {},
     "output_type": "execute_result"
    }
   ],
   "source": [
    "knn.fit(X_train, y_train)"
   ]
  },
  {
   "cell_type": "code",
   "execution_count": 67,
   "metadata": {
    "execution": {
     "iopub.execute_input": "2020-09-08T03:16:12.331602Z",
     "iopub.status.busy": "2020-09-08T03:16:12.330740Z",
     "iopub.status.idle": "2020-09-08T03:16:12.341936Z",
     "shell.execute_reply": "2020-09-08T03:16:12.341116Z"
    },
    "papermill": {
     "duration": 0.056219,
     "end_time": "2020-09-08T03:16:12.342067",
     "exception": false,
     "start_time": "2020-09-08T03:16:12.285848",
     "status": "completed"
    },
    "tags": []
   },
   "outputs": [],
   "source": [
    "knn_prediction=knn.predict(X_test)"
   ]
  },
  {
   "cell_type": "code",
   "execution_count": 68,
   "metadata": {
    "execution": {
     "iopub.execute_input": "2020-09-08T03:16:12.426316Z",
     "iopub.status.busy": "2020-09-08T03:16:12.425449Z",
     "iopub.status.idle": "2020-09-08T03:16:12.440260Z",
     "shell.execute_reply": "2020-09-08T03:16:12.439387Z"
    },
    "papermill": {
     "duration": 0.061825,
     "end_time": "2020-09-08T03:16:12.440401",
     "exception": false,
     "start_time": "2020-09-08T03:16:12.378576",
     "status": "completed"
    },
    "tags": []
   },
   "outputs": [
    {
     "name": "stdout",
     "output_type": "stream",
     "text": [
      "[[ 2 29]\n",
      " [ 0 78]]\n",
      "\n",
      "\n",
      "              precision    recall  f1-score   support\n",
      "\n",
      "           0       1.00      0.06      0.12        31\n",
      "           1       0.73      1.00      0.84        78\n",
      "\n",
      "    accuracy                           0.73       109\n",
      "   macro avg       0.86      0.53      0.48       109\n",
      "weighted avg       0.81      0.73      0.64       109\n",
      "\n",
      "\n",
      "\n",
      "KNN accuracy Accuracy:  0.7339449541284404\n"
     ]
    }
   ],
   "source": [
    "print(confusion_matrix(y_test,knn_prediction))\n",
    "print('\\n')\n",
    "print(classification_report(y_test,knn_prediction))\n",
    "print('\\n')\n",
    "print('KNN accuracy Accuracy: ', accuracy_score(y_test,knn_prediction))"
   ]
  },
  {
   "cell_type": "markdown",
   "execution_count": null,
   "metadata": {
    "papermill": {
     "duration": 0.035892,
     "end_time": "2020-09-08T03:16:12.515080",
     "exception": false,
     "start_time": "2020-09-08T03:16:12.479188",
     "status": "completed"
    },
    "tags": []
   },
   "source": [
    "##### 4-5-SVC"
   ]
  },
  {
   "cell_type": "code",
   "execution_count": 69,
   "metadata": {
    "execution": {
     "iopub.execute_input": "2020-09-08T03:16:12.592711Z",
     "iopub.status.busy": "2020-09-08T03:16:12.591334Z",
     "iopub.status.idle": "2020-09-08T03:16:12.595208Z",
     "shell.execute_reply": "2020-09-08T03:16:12.594346Z"
    },
    "papermill": {
     "duration": 0.04455,
     "end_time": "2020-09-08T03:16:12.595349",
     "exception": false,
     "start_time": "2020-09-08T03:16:12.550799",
     "status": "completed"
    },
    "tags": []
   },
   "outputs": [],
   "source": [
    "svc=SVC()"
   ]
  },
  {
   "cell_type": "code",
   "execution_count": 70,
   "metadata": {
    "execution": {
     "iopub.execute_input": "2020-09-08T03:16:12.685046Z",
     "iopub.status.busy": "2020-09-08T03:16:12.684189Z",
     "iopub.status.idle": "2020-09-08T03:16:12.705415Z",
     "shell.execute_reply": "2020-09-08T03:16:12.704457Z"
    },
    "papermill": {
     "duration": 0.069879,
     "end_time": "2020-09-08T03:16:12.705596",
     "exception": false,
     "start_time": "2020-09-08T03:16:12.635717",
     "status": "completed"
    },
    "tags": []
   },
   "outputs": [
    {
     "data": {
      "text/plain": [
       "SVC()"
      ]
     },
     "execution_count": 70,
     "metadata": {},
     "output_type": "execute_result"
    }
   ],
   "source": [
    "svc.fit(X_train, y_train)"
   ]
  },
  {
   "cell_type": "code",
   "execution_count": 71,
   "metadata": {
    "execution": {
     "iopub.execute_input": "2020-09-08T03:16:12.790520Z",
     "iopub.status.busy": "2020-09-08T03:16:12.789661Z",
     "iopub.status.idle": "2020-09-08T03:16:12.794409Z",
     "shell.execute_reply": "2020-09-08T03:16:12.795003Z"
    },
    "papermill": {
     "duration": 0.049784,
     "end_time": "2020-09-08T03:16:12.795179",
     "exception": false,
     "start_time": "2020-09-08T03:16:12.745395",
     "status": "completed"
    },
    "tags": []
   },
   "outputs": [],
   "source": [
    "svc_prediction=svc.predict(X_test)"
   ]
  },
  {
   "cell_type": "code",
   "execution_count": 72,
   "metadata": {
    "execution": {
     "iopub.execute_input": "2020-09-08T03:16:12.881214Z",
     "iopub.status.busy": "2020-09-08T03:16:12.880041Z",
     "iopub.status.idle": "2020-09-08T03:16:12.892392Z",
     "shell.execute_reply": "2020-09-08T03:16:12.891618Z"
    },
    "papermill": {
     "duration": 0.057881,
     "end_time": "2020-09-08T03:16:12.892529",
     "exception": false,
     "start_time": "2020-09-08T03:16:12.834648",
     "status": "completed"
    },
    "tags": []
   },
   "outputs": [
    {
     "name": "stdout",
     "output_type": "stream",
     "text": [
      "[[ 0 31]\n",
      " [ 1 77]]\n",
      "\n",
      "\n",
      "              precision    recall  f1-score   support\n",
      "\n",
      "           0       0.00      0.00      0.00        31\n",
      "           1       0.71      0.99      0.83        78\n",
      "\n",
      "    accuracy                           0.71       109\n",
      "   macro avg       0.36      0.49      0.41       109\n",
      "weighted avg       0.51      0.71      0.59       109\n",
      "\n",
      "\n",
      "\n",
      "SVC َAccuracy:  0.7064220183486238\n"
     ]
    }
   ],
   "source": [
    "print(confusion_matrix(y_test,svc_prediction))\n",
    "print('\\n')\n",
    "print(classification_report(y_test,svc_prediction))\n",
    "print('\\n')\n",
    "print('SVC َAccuracy: ', accuracy_score(y_test,svc_prediction))"
   ]
  },
  {
   "cell_type": "code",
   "execution_count": 73,
   "metadata": {
    "execution": {
     "iopub.execute_input": "2020-09-08T03:16:12.977135Z",
     "iopub.status.busy": "2020-09-08T03:16:12.975351Z",
     "iopub.status.idle": "2020-09-08T03:16:12.982336Z",
     "shell.execute_reply": "2020-09-08T03:16:12.980913Z"
    },
    "papermill": {
     "duration": 0.052385,
     "end_time": "2020-09-08T03:16:12.982521",
     "exception": false,
     "start_time": "2020-09-08T03:16:12.930136",
     "status": "completed"
    },
    "tags": []
   },
   "outputs": [
    {
     "name": "stdout",
     "output_type": "stream",
     "text": [
      "Logistic Regression Accuracy:  0.8073394495412844\n",
      "Decision Tree Accuracy:  0.7064220183486238\n",
      "Random Forest Accuracy:  0.7798165137614679\n",
      "KNN Accuracy:  0.7339449541284404\n",
      "SVC Accuracy:  0.7064220183486238\n"
     ]
    }
   ],
   "source": [
    "print('Logistic Regression Accuracy: ', accuracy_score(y_test,lr_prediction))\n",
    "print('Decision Tree Accuracy: ', accuracy_score(y_test,dt_prediction))\n",
    "print('Random Forest Accuracy: ', accuracy_score(y_test,rf_prediction))\n",
    "print('KNN Accuracy: ', accuracy_score(y_test,knn_prediction))\n",
    "print('SVC Accuracy: ', accuracy_score(y_test,svc_prediction))"
   ]
  },
  {
   "cell_type": "markdown",
   "execution_count": null,
   "metadata": {
    "papermill": {
     "duration": 0.039901,
     "end_time": "2020-09-08T03:16:13.061982",
     "exception": false,
     "start_time": "2020-09-08T03:16:13.022081",
     "status": "completed"
    },
    "tags": []
   },
   "source": [
    "### CONCLUSION\n",
    "\n",
    "The Loan Status is heavily dependent on the Credit History for Predictions.\n",
    "\n",
    "The Logistic Regression algorithm gives us the maximum Accuracy (80%) compared to the other 4 Machine Learning Classification Algorithms."
   ]
  }
 ],
 "metadata": {
  "kernelspec": {
   "display_name": "Python 3",
   "language": "python",
   "name": "python3"
  },
  "language_info": {
   "codemirror_mode": {
    "name": "ipython",
    "version": 3
   },
   "file_extension": ".py",
   "mimetype": "text/x-python",
   "name": "python",
   "nbconvert_exporter": "python",
   "pygments_lexer": "ipython3",
   "version": "3.7.6"
  },
  "papermill": {
   "duration": 23.464495,
   "end_time": "2020-09-08T03:16:13.213032",
   "environment_variables": {},
   "exception": null,
   "input_path": "__notebook__.ipynb",
   "output_path": "__notebook__.ipynb",
   "parameters": {},
   "start_time": "2020-09-08T03:15:49.748537",
   "version": "2.1.0"
  }
 },
 "nbformat": 4,
 "nbformat_minor": 4
}
