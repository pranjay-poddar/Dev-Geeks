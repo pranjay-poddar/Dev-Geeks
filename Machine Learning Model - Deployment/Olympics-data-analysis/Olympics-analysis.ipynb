{
 "cells": [
  {
   "cell_type": "code",
   "execution_count": null,
   "metadata": {},
   "outputs": [],
   "source": [
    "import numpy as np\n",
    "import pandas as pd\n",
    "\n",
    "import matplotlib.pyplot as plt\n",
    "import seaborn as sns\n",
    "import plotly.express as px\n",
    "import plotly.figure_factory as ff\n",
    "\n",
    "from typing import Union\n",
    "\n",
    "pd.options.mode.chained_assignment = None"
   ]
  },
  {
   "cell_type": "code",
   "execution_count": null,
   "metadata": {},
   "outputs": [],
   "source": [
    "df= pd.read_csv('athlete_events.csv')\n",
    "region_df = pd.read_csv('noc_regions.csv')"
   ]
  },
  {
   "cell_type": "code",
   "execution_count": null,
   "metadata": {},
   "outputs": [],
   "source": [
    "df.tail()"
   ]
  },
  {
   "cell_type": "code",
   "execution_count": null,
   "metadata": {},
   "outputs": [],
   "source": [
    "df.shape"
   ]
  },
  {
   "cell_type": "code",
   "execution_count": null,
   "metadata": {},
   "outputs": [],
   "source": [
    "df=df[df['Season']=='Summer']"
   ]
  },
  {
   "cell_type": "code",
   "execution_count": null,
   "metadata": {},
   "outputs": [],
   "source": [
    "df.shape"
   ]
  },
  {
   "cell_type": "code",
   "execution_count": null,
   "metadata": {},
   "outputs": [],
   "source": [
    "df.tail()"
   ]
  },
  {
   "cell_type": "code",
   "execution_count": null,
   "metadata": {},
   "outputs": [],
   "source": [
    "region_df.tail()"
   ]
  },
  {
   "cell_type": "code",
   "execution_count": null,
   "metadata": {},
   "outputs": [],
   "source": [
    "df.merge(region_df,on = 'NOC', how='left')"
   ]
  },
  {
   "cell_type": "code",
   "execution_count": null,
   "metadata": {},
   "outputs": [],
   "source": [
    "df.tail()"
   ]
  },
  {
   "cell_type": "code",
   "execution_count": null,
   "metadata": {},
   "outputs": [],
   "source": [
    "df['region'].unique()"
   ]
  },
  {
   "cell_type": "code",
   "execution_count": null,
   "metadata": {},
   "outputs": [],
   "source": [
    "df.isnull().sum()"
   ]
  },
  {
   "cell_type": "code",
   "execution_count": null,
   "metadata": {},
   "outputs": [],
   "source": [
    "df.duplicated().sum()"
   ]
  },
  {
   "cell_type": "code",
   "execution_count": null,
   "metadata": {},
   "outputs": [],
   "source": [
    "df.drop_duplicates(inplace=True)"
   ]
  },
  {
   "cell_type": "code",
   "execution_count": null,
   "metadata": {},
   "outputs": [],
   "source": [
    "df.duplicated().sum()"
   ]
  },
  {
   "cell_type": "code",
   "execution_count": null,
   "metadata": {},
   "outputs": [],
   "source": [
    "df['Medal'].value_counts()"
   ]
  },
  {
   "cell_type": "code",
   "execution_count": null,
   "metadata": {},
   "outputs": [],
   "source": [
    "pd.get_dummies(df['Medal'])"
   ]
  },
  {
   "cell_type": "code",
   "execution_count": null,
   "metadata": {},
   "outputs": [],
   "source": [
    "df.shape"
   ]
  },
  {
   "cell_type": "code",
   "execution_count": null,
   "metadata": {},
   "outputs": [],
   "source": [
    "df.tail()"
   ]
  },
  {
   "cell_type": "code",
   "execution_count": null,
   "metadata": {},
   "outputs": [],
   "source": [
    "df.groupby('NOC').sum()[['Gold','Silver','Bronze']]"
   ]
  },
  {
   "cell_type": "code",
   "execution_count": null,
   "metadata": {},
   "outputs": [],
   "source": [
    "# check duplicate rows\n",
    "total_duplicate_rows = df.duplicated().sum()\n",
    "print(f\"Total duplicated rows {total_duplicate_rows}\")\n",
    "\n",
    "# drop those duplicated rows\n",
    "df.drop_duplicates(inplace=True)"
   ]
  },
  {
   "cell_type": "code",
   "execution_count": null,
   "metadata": {},
   "outputs": [],
   "source": [
    "# now \"Medal\" column\n",
    "df[\"Medal\"].value_counts()"
   ]
  },
  {
   "cell_type": "code",
   "execution_count": null,
   "metadata": {},
   "outputs": [],
   "source": [
    "# create OneHotEncodded column for 3 medal types\n",
    "print(f\"Before OHE, the shape is {df.shape}\")\n",
    "df = pd.concat([df, pd.get_dummies(df[\"Medal\"])], axis=1)\n",
    "print(f\"After OHE, the shape is {df.shape}\")"
   ]
  },
  {
   "cell_type": "code",
   "execution_count": null,
   "metadata": {},
   "outputs": [],
   "source": [
    "df.groupby(\"NOC\").sum()[[\"Gold\", \"Silver\", \"Bronze\"]].sort_values(\"Gold\", ascending=False).reset_index()\n",
    "\n",
    "## Is there anything wrong with this data?"
   ]
  },
  {
   "cell_type": "code",
   "execution_count": null,
   "metadata": {},
   "outputs": [],
   "source": [
    "# If you get confused, then see this filter data\n",
    "df[(df[\"NOC\"] == \"IND\") & (df[\"Medal\"] == \"Gold\")].head(5)"
   ]
  },
  {
   "cell_type": "code",
   "execution_count": null,
   "metadata": {},
   "outputs": [],
   "source": [
    "# now time to solve this problem\n",
    "medal_tally = df.drop_duplicates(subset=[\"Team\", \"NOC\", \"Games\", \"Year\", \"City\", \"Sport\", \"Event\", \"Medal\"])\n",
    "medal_tally.shape"
   ]
  },
  {
   "cell_type": "code",
   "execution_count": null,
   "metadata": {},
   "outputs": [],
   "source": [
    "medal_tally = medal_tally.groupby(\"NOC\").sum()[[\"Gold\", \"Silver\", \"Bronze\"]].sort_values(\"Gold\", ascending=False).reset_index()\n",
    "medal_tally.head(5)\n",
    "# till now there is a problem but the data is close to real one."
   ]
  },
  {
   "cell_type": "code",
   "execution_count": null,
   "metadata": {},
   "outputs": [],
   "source": [
    "medal_tally[medal_tally[\"NOC\"] == \"IND\"]"
   ]
  },
  {
   "cell_type": "code",
   "execution_count": null,
   "metadata": {},
   "outputs": [],
   "source": [
    "medal_tally = df.drop_duplicates(subset=[\"Team\", \"NOC\", \"Games\", \"Year\", \"City\", \"Sport\", \"Event\", \"Medal\"])\n",
    "medal_tally = medal_tally.groupby(\"region\").sum()[[\"Gold\", \"Silver\", \"Bronze\"]].sort_values(\"Gold\", ascending=False).reset_index()\n",
    "medal_tally[\"total\"] = medal_tally[\"Gold\"] + medal_tally[\"Silver\"] + medal_tally[\"Bronze\"]\n",
    "medal_tally.head()"
   ]
  },
  {
   "cell_type": "code",
   "execution_count": null,
   "metadata": {},
   "outputs": [],
   "source": [
    "years = df[\"Year\"].unique().tolist()\n",
    "years.sort()\n",
    "years.insert(0, \"Overall\")\n",
    "years\n"
   ]
  },
  {
   "cell_type": "code",
   "execution_count": null,
   "metadata": {},
   "outputs": [],
   "source": [
    "country = np.unique(df[\"region\"].dropna().values).tolist()\n",
    "country.sort()\n",
    "country.insert(0, \"Overall\")"
   ]
  },
  {
   "cell_type": "code",
   "execution_count": null,
   "metadata": {},
   "outputs": [],
   "source": [
    "def fetch_medal_tally(df: pd.DataFrame, year: Union[int, str], country: Union[int, str]) -> pd.DataFrame:\n",
    "    flag = 0\n",
    "    medal_df = df.drop_duplicates(subset=[\"Team\", \"NOC\", \"Games\", \"Year\", \"City\", \"Sport\", \"Event\", \"Medal\"])\n",
    "    if year == \"Overall\" and country == \"Overall\":\n",
    "        temp_df = medal_df\n",
    "    elif year == \"Overall\" and country != \"Overall\":\n",
    "        flag = 1\n",
    "        temp_df = medal_df[medal_df[\"region\"] == country]\n",
    "    elif year != \"Overall\" and country == \"Overall\":\n",
    "        temp_df = medal_df[medal_df[\"Year\"] == year]\n",
    "    else:\n",
    "        temp_df = medal_df[(medal_df[\"Year\"] == year) & (medal_df[\"region\"] == country)]\n",
    "    \n",
    "    if flag == 1:\n",
    "        x = temp_df.groupby(\"Year\").sum()[[\"Gold\", \"Silver\", \"Bronze\"]].sort_values(\"Year\", ascending=True).reset_index()\n",
    "        x[\"total\"] = x[\"Gold\"] + x[\"Silver\"] + x[\"Bronze\"]\n",
    "    else:\n",
    "        x = temp_df.groupby(\"region\").sum()[[\"Gold\", \"Silver\", \"Bronze\"]].sort_values(\"Gold\", ascending=False).reset_index()\n",
    "        x[\"total\"] = x[\"Gold\"] + x[\"Silver\"] + x[\"Bronze\"]\n",
    "    \n",
    "    return x"
   ]
  },
  {
   "cell_type": "code",
   "execution_count": null,
   "metadata": {},
   "outputs": [],
   "source": [
    "fetch_medal_tally(df, year = 1900, country=\"India\")"
   ]
  },
  {
   "cell_type": "code",
   "execution_count": null,
   "metadata": {},
   "outputs": [],
   "source": [
    "df[\"Year\"].unique()"
   ]
  },
  {
   "cell_type": "code",
   "execution_count": null,
   "metadata": {},
   "outputs": [],
   "source": [
    "df[\"City\"].unique()"
   ]
  },
  {
   "cell_type": "code",
   "execution_count": null,
   "metadata": {},
   "outputs": [],
   "source": [
    "df[\"Sport\"].unique()"
   ]
  },
  {
   "cell_type": "code",
   "execution_count": null,
   "metadata": {},
   "outputs": [],
   "source": [
    "df[\"Event\"].unique().shape"
   ]
  },
  {
   "cell_type": "code",
   "execution_count": null,
   "metadata": {},
   "outputs": [],
   "source": [
    "df[\"Name\"].unique().shape"
   ]
  },
  {
   "cell_type": "code",
   "execution_count": null,
   "metadata": {},
   "outputs": [],
   "source": [
    "df[\"region\"].unique().shape"
   ]
  },
  {
   "cell_type": "code",
   "execution_count": null,
   "metadata": {},
   "outputs": [],
   "source": [
    "nations_over_time = df.drop_duplicates([\"Year\", \"region\"])[\"Year\"].value_counts().reset_index().sort_values(\"index\")\n",
    "nations_over_time.rename(columns = {\"index\": \"Edition\", \"Year\": \"No. of Countries\"})"
   ]
  },
  {
   "cell_type": "code",
   "execution_count": null,
   "metadata": {},
   "outputs": [],
   "source": [
    "fig = px.line(nations_over_time, x = \"Edition\", y = \"No. of Countries\")\n",
    "fig.show()"
   ]
  },
  {
   "cell_type": "code",
   "execution_count": null,
   "metadata": {},
   "outputs": [],
   "source": [
    "x = df.drop_duplicates([\"Year\", \"Sport\", \"Event\"])\n",
    "\n",
    "plt.figure(figsize = (16, 16))\n",
    "sns.heatmap(x.pivot_table(index=\"Sport\", columns=\"Year\", values=\"Event\", aggfunc=\"count\").fillna(0).astype(\"int\"), annot=True)\n",
    "plt.show()"
   ]
  },
  {
   "cell_type": "code",
   "execution_count": null,
   "metadata": {},
   "outputs": [],
   "source": [
    "def most_successful(df: pd.DataFrame, sport: str) -> pd.DataFrame:\n",
    "    temp_df = df.dropna(subset=[\"Medal\"])\n",
    "    \n",
    "    if sport != \"Overall\":\n",
    "        temp_df = temp_df[temp_df[\"Sport\"] == sport]\n",
    "    temp_df = temp_df[\"Name\"].value_counts().reset_index().head(15).merge(df, left_on=\"index\", right_on=\"Name\", how=\"left\")\n",
    "    x = temp_df[[\"index\", \"Name_x\", \"Sport\", \"region\"]].drop_duplicates(\"index\")\n",
    "    x.rename(columns = {\"index\": \"Name\", \"Name_x\": \"Medals\"}, inplace = True)\n",
    "    return x"
   ]
  },
  {
   "cell_type": "code",
   "execution_count": null,
   "metadata": {},
   "outputs": [],
   "source": [
    "most_successful(df, \"Fencing\")"
   ]
  },
  {
   "cell_type": "code",
   "execution_count": null,
   "metadata": {},
   "outputs": [],
   "source": [
    "temp_df = df.dropna(subset=[\"Medal\"])\n",
    "temp_df.drop_duplicates(subset=[\"Team\", \"NOC\", \"Games\", \"Year\", \"City\", \"Sport\", \"Event\", \"Medal\"], inplace=True)\n",
    "new_df   = temp_df[temp_df[\"region\"] == \"India\"]\n",
    "final_df = new_df.groupby(\"Year\").count()[\"Medal\"].reset_index()\n",
    "\n",
    "fig = px.line(final_df, x=\"Year\", y=\"Medal\")\n",
    "fig.show()"
   ]
  },
  {
   "cell_type": "code",
   "execution_count": null,
   "metadata": {},
   "outputs": [],
   "source": [
    "temp_df = df.dropna(subset=[\"Medal\"])\n",
    "temp_df.drop_duplicates(subset=[\"Team\", \"NOC\", \"Games\", \"Year\", \"City\", \"Sport\", \"Event\", \"Medal\"], inplace=True)\n",
    "new_df   = temp_df[temp_df[\"region\"] == \"UK\"]\n",
    "\n",
    "plt.figure(figsize=(16, 16))\n",
    "pivot_table = new_df.pivot_table(index=\"Sport\", columns=\"Year\", values=\"Medal\", aggfunc=\"count\").fillna(0)\n",
    "print(f\"Type of pivot table: {type(pivot_table)}\")\n",
    "sns.heatmap(pivot_table, annot=True)\n",
    "plt.show()"
   ]
  },
  {
   "cell_type": "code",
   "execution_count": null,
   "metadata": {},
   "outputs": [],
   "source": [
    "def most_successful(df: pd.DataFrame, country: str) -> pd.DataFrame:\n",
    "    temp_df = df.dropna(subset=[\"Medal\"])\n",
    "    \n",
    "    \n",
    "    temp_df = temp_df[temp_df[\"region\"] == country]\n",
    "    \n",
    "    temp_df = temp_df[\"Name\"].value_counts().reset_index().head(15).merge(df, left_on=\"index\", right_on=\"Name\", how=\"left\")\n",
    "    x = temp_df[[\"index\", \"Name_x\", \"Sport\"]].drop_duplicates(\"index\")\n",
    "    x.rename(columns = {\"index\": \"Name\", \"Name_x\": \"Medals\"}, inplace = True)\n",
    "    return x"
   ]
  },
  {
   "cell_type": "code",
   "execution_count": null,
   "metadata": {},
   "outputs": [],
   "source": [
    "most_successful(df, \"Jamaica\")\n",
    "Name\tMedals\tSport\n",
    "0\tMerlene Joyce Ottey-Page\t9\tAthletics\n",
    "19\tVeronica Angella Campbell-Brown\t8\tAthletics\n",
    "30\tUsain St. Leo Bolt\t8\tAthletics\n",
    "40\tShelly-Ann Fraser-Pryce\t6\tAthletics\n",
    "47\tDonald O'Reilly \"Don\" Quarrie\t4\tAthletics\n",
    "56\tHerbert Henry \"Herb\" McKenley\t4\tAthletics\n",
    "62\tArthur Stanley Wint\t4\tAthletics\n",
    "68\tNovlene Hilaire Williams-Mills\t4\tAthletics\n",
    "75\tYohan Blake\t4\tAthletics\n",
    "81\tSherone Anmarica Simpson\t3\tAthletics\n",
    "88\tJuliet Jean Cuthbert\t3\tAthletics\n",
    "98\tKerron Stewart\t3\tAthletics\n",
    "103\tElaine Thompson\t3\tAthletics\n",
    "106\tShericka Nicola Williams\t3\tAthletics\n",
    "109\tBeverly McDonald (-Stewart)\t3\tAthletics"
   ]
  },
  {
   "cell_type": "code",
   "execution_count": null,
   "metadata": {},
   "outputs": [],
   "source": [
    "athlete_df = df.drop_duplicates(subset=[\"Name\", \"region\"])\n",
    "x1 = athlete_df[\"Age\"].dropna()\n",
    "x2 = athlete_df[athlete_df[\"Medal\"] == \"Gold\"][\"Age\"].dropna()\n",
    "x3 = athlete_df[athlete_df[\"Medal\"] == \"Silver\"][\"Age\"].dropna()\n",
    "x4 = athlete_df[athlete_df[\"Medal\"] == \"Bronze\"][\"Age\"].dropna()\n",
    "\n",
    "fig = ff.create_distplot([x1, x2, x3, x4], [\"Overall Age\", \"Gold Medalist\", \"Silver Medalist\", \"Brownze Medalist\"], show_hist=False, show_rug=False)\n",
    "fig.show()"
   ]
  },
  {
   "cell_type": "code",
   "execution_count": null,
   "metadata": {},
   "outputs": [],
   "source": [
    "famous_sports = ['Basketball', 'Judo', 'Football', 'Tug-Of-War', 'Athletics',\n",
    "                     'Swimming', 'Badminton', 'Sailing', 'Gymnastics',\n",
    "                     'Art Competitions', 'Handball', 'Weightlifting', 'Wrestling',\n",
    "                     'Water Polo', 'Hockey', 'Rowing', 'Fencing',\n",
    "                     'Shooting', 'Boxing', 'Taekwondo', 'Cycling', 'Diving', 'Canoeing',\n",
    "                     'Tennis', 'Golf', 'Softball', 'Archery',\n",
    "                     'Volleyball', 'Synchronized Swimming', 'Table Tennis', 'Baseball',\n",
    "                     'Rhythmic Gymnastics', 'Rugby Sevens',\n",
    "                     'Beach Volleyball', 'Triathlon', 'Rugby', 'Polo', 'Ice Hockey']\n",
    "\n",
    "x    = []\n",
    "name = []\n",
    "\n",
    "for sport in famous_sports:\n",
    "    temp_df = athlete_df[athlete_df[\"Sport\"] == sport]\n",
    "    x.append(temp_df[temp_df[\"Medal\"] == \"Gold\"][\"Age\"].dropna())\n",
    "    name.append(sport)\n",
    "    \n",
    "fig = ff.create_distplot(x, name, show_hist=False, show_rug=False)\n",
    "fig.show()"
   ]
  },
  {
   "cell_type": "code",
   "execution_count": null,
   "metadata": {},
   "outputs": [],
   "source": [
    "athlete_df[\"Medal\"].fillna(\"No Medal\", inplace=True)\n",
    "\n",
    "plt.figure(figsize = (10, 10))\n",
    "temp_df = athlete_df[athlete_df[\"Sport\"] == \"Athletics\"]\n",
    "sns.scatterplot(x=temp_df[\"Weight\"], y=temp_df[\"Height\"], hue=temp_df[\"Medal\"], style=temp_df[\"Sex\"], s=100)\n",
    "plt.show()"
   ]
  },
  {
   "cell_type": "code",
   "execution_count": null,
   "metadata": {},
   "outputs": [],
   "source": [
    "men   = athlete_df[athlete_df[\"Sex\"] == \"M\"].groupby(\"Year\").count()[\"Name\"].reset_index()\n",
    "women = athlete_df[athlete_df[\"Sex\"] == \"F\"].groupby(\"Year\").count()[\"Name\"].reset_index()\n",
    "\n",
    "final = men.merge(women, on=\"Year\", how=\"left\").fillna(0)\n",
    "final.rename(columns={\"Name_x\":\"Male\", \"Name_y\":\"Female\"}, inplace=True)\n",
    "\n",
    "fig = px.line(final, x=\"Year\", y=[\"Male\", \"Female\"])\n",
    "fig.show()"
   ]
  },
  {
   "cell_type": "code",
   "execution_count": null,
   "metadata": {},
   "outputs": [],
   "source": []
  }
 ],
 "metadata": {
  "language_info": {
   "name": "python"
  },
  "orig_nbformat": 4
 },
 "nbformat": 4,
 "nbformat_minor": 2
}
