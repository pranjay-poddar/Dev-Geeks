{
 "cells": [
  {
   "cell_type": "code",
   "execution_count": 2,
   "metadata": {},
   "outputs": [
    {
     "name": "stdout",
     "output_type": "stream",
     "text": [
      "Welcome to the Lizard Spock game!\n",
      "Choices: rock, paper, scissors, lizard, spock\n",
      "Computer chooses: rock\n",
      "Computer wins!\n",
      "Computer chooses: paper\n",
      "Computer wins!\n",
      "Thanks for playing!\n"
     ]
    }
   ],
   "source": [
    "import random\n",
    "\n",
    "choices = ['rock', 'paper', 'scissors', 'lizard', 'spock']\n",
    "outcomes = {\n",
    "    'rock': {'scissors', 'lizard'},\n",
    "    'paper': {'rock', 'spock'},\n",
    "    'scissors': {'paper', 'lizard'},\n",
    "    'lizard': {'paper', 'spock'},\n",
    "    'spock': {'rock', 'scissors'}\n",
    "}\n",
    "\n",
    "def determine_winner(player_choice, computer_choice):\n",
    "    if player_choice == computer_choice:\n",
    "        return \"It's a tie!\"\n",
    "    elif computer_choice in outcomes[player_choice]:\n",
    "        return \"You win!\"\n",
    "    else:\n",
    "        return \"Computer wins!\"\n",
    "\n",
    "def play_game():\n",
    "    print(\"Welcome to the Lizard Spock game!\")\n",
    "    print(\"Choices: rock, paper, scissors, lizard, spock\")\n",
    "    \n",
    "    while True:\n",
    "        player_choice = input(\"Enter your choice: \").lower()\n",
    "        if player_choice not in choices:\n",
    "            print(\"Invalid choice. Try again.\")\n",
    "            continue\n",
    "\n",
    "        computer_choice = random.choice(choices)\n",
    "        print(f\"Computer chooses: {computer_choice}\")\n",
    "        \n",
    "        result = determine_winner(player_choice, computer_choice)\n",
    "        print(result)\n",
    "\n",
    "        play_again = input(\"Do you want to play again? (yes/no): \").lower()\n",
    "        if play_again != 'yes':\n",
    "            break\n",
    "\n",
    "    print(\"Thanks for playing!\")\n",
    "\n",
    "# Start the game\n",
    "play_game()"
   ]
  }
 ],
 "metadata": {
  "kernelspec": {
   "display_name": "Python 3",
   "language": "python",
   "name": "python3"
  },
  "language_info": {
   "codemirror_mode": {
    "name": "ipython",
    "version": 3
   },
   "file_extension": ".py",
   "mimetype": "text/x-python",
   "name": "python",
   "nbconvert_exporter": "python",
   "pygments_lexer": "ipython3",
   "version": "3.11.3"
  },
  "orig_nbformat": 4
 },
 "nbformat": 4,
 "nbformat_minor": 2
}
