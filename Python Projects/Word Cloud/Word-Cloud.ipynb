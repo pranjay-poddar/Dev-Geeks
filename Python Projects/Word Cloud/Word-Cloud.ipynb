{
 "cells": [
  {
   "cell_type": "markdown",
   "id": "b87edce7-b4e5-4daf-9494-bb5ece8c65fc",
   "metadata": {},
   "source": [
    "# WORD CLOUD\n",
    "Word Cloud is a data visualization technique used for representing text data in which the size of each word indicates its frequency or importance. Significant textual data points can be highlighted using a word cloud. Word Clouds are widely used for analyzing daata from social network websites.\n",
    "\n",
    "## Project Summary\n",
    "This project was the final project of Crash Course on Python by Google\n",
    "* Language Used - ***Python***\n",
    "* Code Editor - ***Jupyter Lab***\n",
    "* Date of Completion - ***21.07.22***"
   ]
  },
  {
   "cell_type": "markdown",
   "id": "b22efd29-f95f-4458-90a7-374589fdf8bc",
   "metadata": {},
   "source": [
    "### Import the Required Modules"
   ]
  },
  {
   "cell_type": "markdown",
   "id": "ba3f94ff-cba8-48a5-838d-a2405296441d",
   "metadata": {},
   "source": [
    "Firstly, We will be needing some modules and their attributes for initializing our work cloud"
   ]
  },
  {
   "cell_type": "code",
   "execution_count": 1,
   "id": "c5494627-55fe-436c-8de6-15eb33e0d8e4",
   "metadata": {
    "tags": []
   },
   "outputs": [],
   "source": [
    "from wordcloud import WordCloud, STOPWORDS\n",
    "import wikipedia\n",
    "from PIL import Image\n",
    "from IPython.display import Image"
   ]
  },
  {
   "cell_type": "markdown",
   "id": "006b025d-22e4-41ce-9433-e24ed21ce6ba",
   "metadata": {},
   "source": [
    "### Initialization of Variables"
   ]
  },
  {
   "cell_type": "markdown",
   "id": "1ea50e7b-8a4d-4966-9629-9cdd46ccae40",
   "metadata": {},
   "source": [
    "Secondly, We will store all the stopwords into a variable called `stop_words` which repeats frequently such as a, the, if, an, of, etc."
   ]
  },
  {
   "cell_type": "code",
   "execution_count": 3,
   "id": "4837beae-d498-46b9-b49c-1980c5796882",
   "metadata": {},
   "outputs": [],
   "source": [
    "stop_words = set(STOPWORDS)"
   ]
  },
  {
   "cell_type": "markdown",
   "id": "cd71abc4-1303-4443-b8bd-ffd964cd3acc",
   "metadata": {},
   "source": [
    "Then, we will get a summary about our favorite programming language, **JAVA** via wikipedia module using `summary()` method."
   ]
  },
  {
   "cell_type": "code",
   "execution_count": 4,
   "id": "b856aad8-3f0d-4c75-84bf-cc3670dd5265",
   "metadata": {},
   "outputs": [],
   "source": [
    "text = wikipedia.summary(\"Java Programming\",sentences=15)\n",
    "\n",
    "# To check whether our summary is generated or not we use print() function to print the text in console\n",
    "# print(text)"
   ]
  },
  {
   "cell_type": "markdown",
   "id": "0222cad9-1365-4b40-924e-ee3796fe81ea",
   "metadata": {},
   "source": [
    "Now we will generate a **WORD CLOUD** using imported attributes from modules."
   ]
  },
  {
   "cell_type": "code",
   "execution_count": 5,
   "id": "5dadddfa-95a0-49f0-97e9-13a959e530cc",
   "metadata": {},
   "outputs": [],
   "source": [
    "# Below lines of code will perform nothing as it only stores the generated word cloud to a variable in a textual form\n",
    "cloud = WordCloud(stopwords=stop_words).generate(text)"
   ]
  },
  {
   "cell_type": "markdown",
   "id": "3cdcbc1d-cd78-4898-a6ef-bf345de72508",
   "metadata": {},
   "source": [
    "Lastly, we will convert our generated Textual Word Cloud to an Image"
   ]
  },
  {
   "cell_type": "code",
   "execution_count": 6,
   "id": "9d850d28-20e7-4c42-98ef-ae04fccfe61d",
   "metadata": {},
   "outputs": [],
   "source": [
    "img = cloud.to_image()\n",
    "img.show()"
   ]
  },
  {
   "cell_type": "markdown",
   "id": "6b0ed403-05a3-4fdc-88eb-ab4a90a19b69",
   "metadata": {},
   "source": [
    "## OUTPUT"
   ]
  },
  {
   "cell_type": "markdown",
   "id": "922d56d2-3a01-4550-8874-7fbd0ee85c4e",
   "metadata": {},
   "source": [
    "This will be the output after hitting run after the above code cell"
   ]
  },
  {
   "cell_type": "markdown",
   "id": "7b583bbe-650d-4f19-a246-af8856c8aa72",
   "metadata": {},
   "source": [
    "\n",
    "![WORDCLOUD](output.png)"
   ]
  }
 ],
 "metadata": {
  "kernelspec": {
   "display_name": "Python 3.10.2 64-bit",
   "language": "python",
   "name": "python3"
  },
  "language_info": {
   "codemirror_mode": {
    "name": "ipython",
    "version": 3
   },
   "file_extension": ".py",
   "mimetype": "text/x-python",
   "name": "python",
   "nbconvert_exporter": "python",
   "pygments_lexer": "ipython3",
   "version": "3.10.2"
  },
  "vscode": {
   "interpreter": {
    "hash": "369f2c481f4da34e4445cda3fffd2e751bd1c4d706f27375911949ba6bb62e1c"
   }
  }
 },
 "nbformat": 4,
 "nbformat_minor": 5
}
