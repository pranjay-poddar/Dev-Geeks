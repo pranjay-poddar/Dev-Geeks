{
  "cells": [
    {
      "cell_type": "code",
      "execution_count": null,
      "metadata": {
        "id": "QxemKEGNcZOM"
      },
      "outputs": [],
      "source": [
        "import pandas as pd\n",
        "import smtplib\n",
        "from email.mime.multipart import MIMEMultipart\n",
        "from email.mime.application import MIMEApplication\n",
        "from email.mime.text import MIMEText\n",
        "from email.mime.image import MIMEImage"
      ]
    },
    {
      "cell_type": "code",
      "execution_count": null,
      "metadata": {
        "id": "VR27vOLtcZOY"
      },
      "outputs": [],
      "source": [
        "e = pd.read_excel('mailing_list.xlsx') # mailing list xlsx files\n",
        "emails = e['emails'].values\n",
        "completed = []"
      ]
    },
    {
      "cell_type": "code",
      "execution_count": null,
      "metadata": {
        "id": "fRMfV6RocZOa"
      },
      "outputs": [],
      "source": [
        "server = smtplib.SMTP('smtp.gmail.com', 587)\n",
        "server.starttls()\n",
        "server.login(\"youremail@gmail.com\", \"password\") # email and password"
      ]
    },
    {
      "cell_type": "code",
      "execution_count": null,
      "metadata": {
        "id": "MzPgNnJjcZOh"
      },
      "outputs": [],
      "source": [
        "msg =\"Dear Sir/Madam,\\n\\n   \\\n",
        "Greetings of the day!!!  \\n\\n  \\\n",
        "messag loruem ispum\"\n",
        "subject = \"Subject\""
      ]
    },
    {
      "cell_type": "code",
      "execution_count": null,
      "metadata": {
        "id": "XVswWdgXcZOk"
      },
      "outputs": [],
      "source": [
        "for email in emails:\n",
        "    m = MIMEMultipart()\n",
        "    m['Subject'] = subject\n",
        "    m['From'] = 'youremail@gmail.com'\n",
        "    with open(\"attachment.pdf\", \"rb\") as f: #attachment if you need\n",
        "        attach = MIMEApplication(f.read(),_subtype=\"pdf\")\n",
        "        attach.add_header('Content-Disposition','attachment',filename=str(\"ATTACHMENT_NAME.pdf\"))\n",
        "        m.attach(MIMEText(msg, \"plain\"))\n",
        "        m.attach(attach)\n",
        "    body = \"Subject: {}\\n\\n{}\".format(subject,msg).encode('utf-8')\n",
        "    m['To'] = email\n",
        "    server.send_message(m)\n",
        "server.quit()"
      ]
    },
    {
      "cell_type": "code",
      "execution_count": null,
      "metadata": {
        "id": "Fj4WZ9I1cZOm"
      },
      "outputs": [],
      "source": []
    }
  ],
  "metadata": {
    "kernelspec": {
      "display_name": "Python 3",
      "language": "python",
      "name": "python3"
    },
    "language_info": {
      "codemirror_mode": {
        "name": "ipython",
        "version": 3
      },
      "file_extension": ".py",
      "mimetype": "text/x-python",
      "name": "python",
      "nbconvert_exporter": "python",
      "pygments_lexer": "ipython3",
      "version": "3.7.3"
    },
    "colab": {
      "provenance": []
    }
  },
  "nbformat": 4,
  "nbformat_minor": 0
}