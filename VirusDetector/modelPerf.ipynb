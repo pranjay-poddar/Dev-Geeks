{
 "cells": [
  {
   "cell_type": "code",
   "execution_count": 1,
   "metadata": {},
   "outputs": [],
   "source": [
    "# importing the libraries\n",
    "import pandas as pd\n",
    "import numpy as np\n",
    "import joblib\n",
    "from sklearn.model_selection import train_test_split as tts\n",
    "import seaborn as sns\n",
    "import matplotlib.pyplot as plt"
   ]
  },
  {
   "cell_type": "code",
   "execution_count": 2,
   "metadata": {},
   "outputs": [],
   "source": [
    "data = pd.read_csv('data.csv', sep='|')"
   ]
  },
  {
   "cell_type": "code",
   "execution_count": 3,
   "metadata": {},
   "outputs": [
    {
     "data": {
      "text/html": [
       "<div>\n",
       "<style scoped>\n",
       "    .dataframe tbody tr th:only-of-type {\n",
       "        vertical-align: middle;\n",
       "    }\n",
       "\n",
       "    .dataframe tbody tr th {\n",
       "        vertical-align: top;\n",
       "    }\n",
       "\n",
       "    .dataframe thead th {\n",
       "        text-align: right;\n",
       "    }\n",
       "</style>\n",
       "<table border=\"1\" class=\"dataframe\">\n",
       "  <thead>\n",
       "    <tr style=\"text-align: right;\">\n",
       "      <th></th>\n",
       "      <th>Name</th>\n",
       "      <th>md5</th>\n",
       "      <th>Machine</th>\n",
       "      <th>SizeOfOptionalHeader</th>\n",
       "      <th>Characteristics</th>\n",
       "      <th>MajorLinkerVersion</th>\n",
       "      <th>MinorLinkerVersion</th>\n",
       "      <th>SizeOfCode</th>\n",
       "      <th>SizeOfInitializedData</th>\n",
       "      <th>SizeOfUninitializedData</th>\n",
       "      <th>...</th>\n",
       "      <th>ResourcesNb</th>\n",
       "      <th>ResourcesMeanEntropy</th>\n",
       "      <th>ResourcesMinEntropy</th>\n",
       "      <th>ResourcesMaxEntropy</th>\n",
       "      <th>ResourcesMeanSize</th>\n",
       "      <th>ResourcesMinSize</th>\n",
       "      <th>ResourcesMaxSize</th>\n",
       "      <th>LoadConfigurationSize</th>\n",
       "      <th>VersionInformationSize</th>\n",
       "      <th>legitimate</th>\n",
       "    </tr>\n",
       "  </thead>\n",
       "  <tbody>\n",
       "    <tr>\n",
       "      <th>0</th>\n",
       "      <td>memtest.exe</td>\n",
       "      <td>631ea355665f28d4707448e442fbf5b8</td>\n",
       "      <td>332</td>\n",
       "      <td>224</td>\n",
       "      <td>258</td>\n",
       "      <td>9</td>\n",
       "      <td>0</td>\n",
       "      <td>361984</td>\n",
       "      <td>115712</td>\n",
       "      <td>0</td>\n",
       "      <td>...</td>\n",
       "      <td>4</td>\n",
       "      <td>3.262823</td>\n",
       "      <td>2.568844</td>\n",
       "      <td>3.537939</td>\n",
       "      <td>8797.000000</td>\n",
       "      <td>216</td>\n",
       "      <td>18032</td>\n",
       "      <td>0</td>\n",
       "      <td>16</td>\n",
       "      <td>1</td>\n",
       "    </tr>\n",
       "    <tr>\n",
       "      <th>1</th>\n",
       "      <td>ose.exe</td>\n",
       "      <td>9d10f99a6712e28f8acd5641e3a7ea6b</td>\n",
       "      <td>332</td>\n",
       "      <td>224</td>\n",
       "      <td>3330</td>\n",
       "      <td>9</td>\n",
       "      <td>0</td>\n",
       "      <td>130560</td>\n",
       "      <td>19968</td>\n",
       "      <td>0</td>\n",
       "      <td>...</td>\n",
       "      <td>2</td>\n",
       "      <td>4.250461</td>\n",
       "      <td>3.420744</td>\n",
       "      <td>5.080177</td>\n",
       "      <td>837.000000</td>\n",
       "      <td>518</td>\n",
       "      <td>1156</td>\n",
       "      <td>72</td>\n",
       "      <td>18</td>\n",
       "      <td>1</td>\n",
       "    </tr>\n",
       "    <tr>\n",
       "      <th>2</th>\n",
       "      <td>setup.exe</td>\n",
       "      <td>4d92f518527353c0db88a70fddcfd390</td>\n",
       "      <td>332</td>\n",
       "      <td>224</td>\n",
       "      <td>3330</td>\n",
       "      <td>9</td>\n",
       "      <td>0</td>\n",
       "      <td>517120</td>\n",
       "      <td>621568</td>\n",
       "      <td>0</td>\n",
       "      <td>...</td>\n",
       "      <td>11</td>\n",
       "      <td>4.426324</td>\n",
       "      <td>2.846449</td>\n",
       "      <td>5.271813</td>\n",
       "      <td>31102.272727</td>\n",
       "      <td>104</td>\n",
       "      <td>270376</td>\n",
       "      <td>72</td>\n",
       "      <td>18</td>\n",
       "      <td>1</td>\n",
       "    </tr>\n",
       "    <tr>\n",
       "      <th>3</th>\n",
       "      <td>DW20.EXE</td>\n",
       "      <td>a41e524f8d45f0074fd07805ff0c9b12</td>\n",
       "      <td>332</td>\n",
       "      <td>224</td>\n",
       "      <td>258</td>\n",
       "      <td>9</td>\n",
       "      <td>0</td>\n",
       "      <td>585728</td>\n",
       "      <td>369152</td>\n",
       "      <td>0</td>\n",
       "      <td>...</td>\n",
       "      <td>10</td>\n",
       "      <td>4.364291</td>\n",
       "      <td>2.669314</td>\n",
       "      <td>6.400720</td>\n",
       "      <td>1457.000000</td>\n",
       "      <td>90</td>\n",
       "      <td>4264</td>\n",
       "      <td>72</td>\n",
       "      <td>18</td>\n",
       "      <td>1</td>\n",
       "    </tr>\n",
       "    <tr>\n",
       "      <th>4</th>\n",
       "      <td>dwtrig20.exe</td>\n",
       "      <td>c87e561258f2f8650cef999bf643a731</td>\n",
       "      <td>332</td>\n",
       "      <td>224</td>\n",
       "      <td>258</td>\n",
       "      <td>9</td>\n",
       "      <td>0</td>\n",
       "      <td>294912</td>\n",
       "      <td>247296</td>\n",
       "      <td>0</td>\n",
       "      <td>...</td>\n",
       "      <td>2</td>\n",
       "      <td>4.306100</td>\n",
       "      <td>3.421598</td>\n",
       "      <td>5.190603</td>\n",
       "      <td>1074.500000</td>\n",
       "      <td>849</td>\n",
       "      <td>1300</td>\n",
       "      <td>72</td>\n",
       "      <td>18</td>\n",
       "      <td>1</td>\n",
       "    </tr>\n",
       "  </tbody>\n",
       "</table>\n",
       "<p>5 rows × 57 columns</p>\n",
       "</div>"
      ],
      "text/plain": [
       "           Name                               md5  Machine  \\\n",
       "0   memtest.exe  631ea355665f28d4707448e442fbf5b8      332   \n",
       "1       ose.exe  9d10f99a6712e28f8acd5641e3a7ea6b      332   \n",
       "2     setup.exe  4d92f518527353c0db88a70fddcfd390      332   \n",
       "3      DW20.EXE  a41e524f8d45f0074fd07805ff0c9b12      332   \n",
       "4  dwtrig20.exe  c87e561258f2f8650cef999bf643a731      332   \n",
       "\n",
       "   SizeOfOptionalHeader  Characteristics  MajorLinkerVersion  \\\n",
       "0                   224              258                   9   \n",
       "1                   224             3330                   9   \n",
       "2                   224             3330                   9   \n",
       "3                   224              258                   9   \n",
       "4                   224              258                   9   \n",
       "\n",
       "   MinorLinkerVersion  SizeOfCode  SizeOfInitializedData  \\\n",
       "0                   0      361984                 115712   \n",
       "1                   0      130560                  19968   \n",
       "2                   0      517120                 621568   \n",
       "3                   0      585728                 369152   \n",
       "4                   0      294912                 247296   \n",
       "\n",
       "   SizeOfUninitializedData  ...  ResourcesNb  ResourcesMeanEntropy  \\\n",
       "0                        0  ...            4              3.262823   \n",
       "1                        0  ...            2              4.250461   \n",
       "2                        0  ...           11              4.426324   \n",
       "3                        0  ...           10              4.364291   \n",
       "4                        0  ...            2              4.306100   \n",
       "\n",
       "   ResourcesMinEntropy  ResourcesMaxEntropy  ResourcesMeanSize  \\\n",
       "0             2.568844             3.537939        8797.000000   \n",
       "1             3.420744             5.080177         837.000000   \n",
       "2             2.846449             5.271813       31102.272727   \n",
       "3             2.669314             6.400720        1457.000000   \n",
       "4             3.421598             5.190603        1074.500000   \n",
       "\n",
       "   ResourcesMinSize  ResourcesMaxSize  LoadConfigurationSize  \\\n",
       "0               216             18032                      0   \n",
       "1               518              1156                     72   \n",
       "2               104            270376                     72   \n",
       "3                90              4264                     72   \n",
       "4               849              1300                     72   \n",
       "\n",
       "   VersionInformationSize  legitimate  \n",
       "0                      16           1  \n",
       "1                      18           1  \n",
       "2                      18           1  \n",
       "3                      18           1  \n",
       "4                      18           1  \n",
       "\n",
       "[5 rows x 57 columns]"
      ]
     },
     "execution_count": 3,
     "metadata": {},
     "output_type": "execute_result"
    }
   ],
   "source": [
    "data.head()"
   ]
  },
  {
   "cell_type": "code",
   "execution_count": 4,
   "metadata": {},
   "outputs": [],
   "source": [
    "data=data.drop(['Name','md5'],axis=1)"
   ]
  },
  {
   "cell_type": "code",
   "execution_count": 5,
   "metadata": {},
   "outputs": [
    {
     "name": "stdout",
     "output_type": "stream",
     "text": [
      "<class 'pandas.core.frame.DataFrame'>\n",
      "RangeIndex: 138047 entries, 0 to 138046\n",
      "Data columns (total 55 columns):\n",
      " #   Column                       Non-Null Count   Dtype  \n",
      "---  ------                       --------------   -----  \n",
      " 0   Machine                      138047 non-null  int64  \n",
      " 1   SizeOfOptionalHeader         138047 non-null  int64  \n",
      " 2   Characteristics              138047 non-null  int64  \n",
      " 3   MajorLinkerVersion           138047 non-null  int64  \n",
      " 4   MinorLinkerVersion           138047 non-null  int64  \n",
      " 5   SizeOfCode                   138047 non-null  int64  \n",
      " 6   SizeOfInitializedData        138047 non-null  int64  \n",
      " 7   SizeOfUninitializedData      138047 non-null  int64  \n",
      " 8   AddressOfEntryPoint          138047 non-null  int64  \n",
      " 9   BaseOfCode                   138047 non-null  int64  \n",
      " 10  BaseOfData                   138047 non-null  int64  \n",
      " 11  ImageBase                    138047 non-null  float64\n",
      " 12  SectionAlignment             138047 non-null  int64  \n",
      " 13  FileAlignment                138047 non-null  int64  \n",
      " 14  MajorOperatingSystemVersion  138047 non-null  int64  \n",
      " 15  MinorOperatingSystemVersion  138047 non-null  int64  \n",
      " 16  MajorImageVersion            138047 non-null  int64  \n",
      " 17  MinorImageVersion            138047 non-null  int64  \n",
      " 18  MajorSubsystemVersion        138047 non-null  int64  \n",
      " 19  MinorSubsystemVersion        138047 non-null  int64  \n",
      " 20  SizeOfImage                  138047 non-null  int64  \n",
      " 21  SizeOfHeaders                138047 non-null  int64  \n",
      " 22  CheckSum                     138047 non-null  int64  \n",
      " 23  Subsystem                    138047 non-null  int64  \n",
      " 24  DllCharacteristics           138047 non-null  int64  \n",
      " 25  SizeOfStackReserve           138047 non-null  int64  \n",
      " 26  SizeOfStackCommit            138047 non-null  int64  \n",
      " 27  SizeOfHeapReserve            138047 non-null  int64  \n",
      " 28  SizeOfHeapCommit             138047 non-null  int64  \n",
      " 29  LoaderFlags                  138047 non-null  int64  \n",
      " 30  NumberOfRvaAndSizes          138047 non-null  int64  \n",
      " 31  SectionsNb                   138047 non-null  int64  \n",
      " 32  SectionsMeanEntropy          138047 non-null  float64\n",
      " 33  SectionsMinEntropy           138047 non-null  float64\n",
      " 34  SectionsMaxEntropy           138047 non-null  float64\n",
      " 35  SectionsMeanRawsize          138047 non-null  float64\n",
      " 36  SectionsMinRawsize           138047 non-null  int64  \n",
      " 37  SectionMaxRawsize            138047 non-null  int64  \n",
      " 38  SectionsMeanVirtualsize      138047 non-null  float64\n",
      " 39  SectionsMinVirtualsize       138047 non-null  int64  \n",
      " 40  SectionMaxVirtualsize        138047 non-null  int64  \n",
      " 41  ImportsNbDLL                 138047 non-null  int64  \n",
      " 42  ImportsNb                    138047 non-null  int64  \n",
      " 43  ImportsNbOrdinal             138047 non-null  int64  \n",
      " 44  ExportNb                     138047 non-null  int64  \n",
      " 45  ResourcesNb                  138047 non-null  int64  \n",
      " 46  ResourcesMeanEntropy         138047 non-null  float64\n",
      " 47  ResourcesMinEntropy          138047 non-null  float64\n",
      " 48  ResourcesMaxEntropy          138047 non-null  float64\n",
      " 49  ResourcesMeanSize            138047 non-null  float64\n",
      " 50  ResourcesMinSize             138047 non-null  int64  \n",
      " 51  ResourcesMaxSize             138047 non-null  int64  \n",
      " 52  LoadConfigurationSize        138047 non-null  int64  \n",
      " 53  VersionInformationSize       138047 non-null  int64  \n",
      " 54  legitimate                   138047 non-null  int64  \n",
      "dtypes: float64(10), int64(45)\n",
      "memory usage: 57.9 MB\n"
     ]
    }
   ],
   "source": [
    "## info of the data\n",
    "data.info()"
   ]
  },
  {
   "cell_type": "code",
   "execution_count": 6,
   "metadata": {},
   "outputs": [
    {
     "data": {
      "image/png": "[encoded data removed]",
      "text/plain": [
       "<Figure size 1080x720 with 1 Axes>"
      ]
     },
     "metadata": {
      "needs_background": "light"
     },
     "output_type": "display_data"
    }
   ],
   "source": [
    "plt.figure(figsize=(15,10))\n",
    "sns.countplot(x=data['legitimate'])\n",
    "plt.title('Countplot of Legitimate')\n",
    "plt.xlabel('LEGITIMATE')\n",
    "plt.ylabel('COUNT')\n",
    "plt.savefig('legitimate.jpg')\n",
    "plt.show()"
   ]
  },
  {
   "cell_type": "code",
   "execution_count": 7,
   "metadata": {},
   "outputs": [
    {
     "data": {
      "text/plain": [
       "(138047, 55)"
      ]
     },
     "execution_count": 7,
     "metadata": {},
     "output_type": "execute_result"
    }
   ],
   "source": [
    "## total records of the data\n",
    "data.shape"
   ]
  },
  {
   "cell_type": "code",
   "execution_count": 8,
   "metadata": {},
   "outputs": [
    {
     "data": {
      "text/html": [
       "<div>\n",
       "<style scoped>\n",
       "    .dataframe tbody tr th:only-of-type {\n",
       "        vertical-align: middle;\n",
       "    }\n",
       "\n",
       "    .dataframe tbody tr th {\n",
       "        vertical-align: top;\n",
       "    }\n",
       "\n",
       "    .dataframe thead th {\n",
       "        text-align: right;\n",
       "    }\n",
       "</style>\n",
       "<table border=\"1\" class=\"dataframe\">\n",
       "  <thead>\n",
       "    <tr style=\"text-align: right;\">\n",
       "      <th></th>\n",
       "      <th>Machine</th>\n",
       "      <th>SizeOfOptionalHeader</th>\n",
       "      <th>Characteristics</th>\n",
       "      <th>MajorLinkerVersion</th>\n",
       "      <th>MinorLinkerVersion</th>\n",
       "      <th>SizeOfCode</th>\n",
       "      <th>SizeOfInitializedData</th>\n",
       "      <th>SizeOfUninitializedData</th>\n",
       "      <th>AddressOfEntryPoint</th>\n",
       "      <th>BaseOfCode</th>\n",
       "      <th>...</th>\n",
       "      <th>ResourcesNb</th>\n",
       "      <th>ResourcesMeanEntropy</th>\n",
       "      <th>ResourcesMinEntropy</th>\n",
       "      <th>ResourcesMaxEntropy</th>\n",
       "      <th>ResourcesMeanSize</th>\n",
       "      <th>ResourcesMinSize</th>\n",
       "      <th>ResourcesMaxSize</th>\n",
       "      <th>LoadConfigurationSize</th>\n",
       "      <th>VersionInformationSize</th>\n",
       "      <th>legitimate</th>\n",
       "    </tr>\n",
       "  </thead>\n",
       "  <tbody>\n",
       "    <tr>\n",
       "      <th>count</th>\n",
       "      <td>138047.000000</td>\n",
       "      <td>138047.000000</td>\n",
       "      <td>138047.000000</td>\n",
       "      <td>138047.000000</td>\n",
       "      <td>138047.000000</td>\n",
       "      <td>1.380470e+05</td>\n",
       "      <td>1.380470e+05</td>\n",
       "      <td>1.380470e+05</td>\n",
       "      <td>1.380470e+05</td>\n",
       "      <td>1.380470e+05</td>\n",
       "      <td>...</td>\n",
       "      <td>138047.000000</td>\n",
       "      <td>138047.000000</td>\n",
       "      <td>138047.000000</td>\n",
       "      <td>138047.000000</td>\n",
       "      <td>1.380470e+05</td>\n",
       "      <td>1.380470e+05</td>\n",
       "      <td>1.380470e+05</td>\n",
       "      <td>1.380470e+05</td>\n",
       "      <td>138047.000000</td>\n",
       "      <td>138047.000000</td>\n",
       "    </tr>\n",
       "    <tr>\n",
       "      <th>mean</th>\n",
       "      <td>4259.069274</td>\n",
       "      <td>225.845632</td>\n",
       "      <td>4444.145994</td>\n",
       "      <td>8.619774</td>\n",
       "      <td>3.819286</td>\n",
       "      <td>2.425956e+05</td>\n",
       "      <td>4.504867e+05</td>\n",
       "      <td>1.009525e+05</td>\n",
       "      <td>1.719561e+05</td>\n",
       "      <td>5.779845e+04</td>\n",
       "      <td>...</td>\n",
       "      <td>22.050700</td>\n",
       "      <td>4.000127</td>\n",
       "      <td>2.434541</td>\n",
       "      <td>5.521610</td>\n",
       "      <td>5.545093e+04</td>\n",
       "      <td>1.818082e+04</td>\n",
       "      <td>2.465903e+05</td>\n",
       "      <td>4.656750e+05</td>\n",
       "      <td>12.363115</td>\n",
       "      <td>0.299340</td>\n",
       "    </tr>\n",
       "    <tr>\n",
       "      <th>std</th>\n",
       "      <td>10880.347245</td>\n",
       "      <td>5.121399</td>\n",
       "      <td>8186.782524</td>\n",
       "      <td>4.088757</td>\n",
       "      <td>11.862675</td>\n",
       "      <td>5.754485e+06</td>\n",
       "      <td>2.101599e+07</td>\n",
       "      <td>1.635288e+07</td>\n",
       "      <td>3.430553e+06</td>\n",
       "      <td>5.527658e+06</td>\n",
       "      <td>...</td>\n",
       "      <td>136.494244</td>\n",
       "      <td>1.112981</td>\n",
       "      <td>0.815577</td>\n",
       "      <td>1.597403</td>\n",
       "      <td>7.799163e+06</td>\n",
       "      <td>6.502369e+06</td>\n",
       "      <td>2.124860e+07</td>\n",
       "      <td>2.608987e+07</td>\n",
       "      <td>6.798878</td>\n",
       "      <td>0.457971</td>\n",
       "    </tr>\n",
       "    <tr>\n",
       "      <th>min</th>\n",
       "      <td>332.000000</td>\n",
       "      <td>224.000000</td>\n",
       "      <td>2.000000</td>\n",
       "      <td>0.000000</td>\n",
       "      <td>0.000000</td>\n",
       "      <td>0.000000e+00</td>\n",
       "      <td>0.000000e+00</td>\n",
       "      <td>0.000000e+00</td>\n",
       "      <td>0.000000e+00</td>\n",
       "      <td>0.000000e+00</td>\n",
       "      <td>...</td>\n",
       "      <td>0.000000</td>\n",
       "      <td>0.000000</td>\n",
       "      <td>0.000000</td>\n",
       "      <td>0.000000</td>\n",
       "      <td>0.000000e+00</td>\n",
       "      <td>0.000000e+00</td>\n",
       "      <td>0.000000e+00</td>\n",
       "      <td>0.000000e+00</td>\n",
       "      <td>0.000000</td>\n",
       "      <td>0.000000</td>\n",
       "    </tr>\n",
       "    <tr>\n",
       "      <th>25%</th>\n",
       "      <td>332.000000</td>\n",
       "      <td>224.000000</td>\n",
       "      <td>258.000000</td>\n",
       "      <td>8.000000</td>\n",
       "      <td>0.000000</td>\n",
       "      <td>3.020800e+04</td>\n",
       "      <td>2.457600e+04</td>\n",
       "      <td>0.000000e+00</td>\n",
       "      <td>1.272100e+04</td>\n",
       "      <td>4.096000e+03</td>\n",
       "      <td>...</td>\n",
       "      <td>5.000000</td>\n",
       "      <td>3.458505</td>\n",
       "      <td>2.178748</td>\n",
       "      <td>4.828706</td>\n",
       "      <td>9.560000e+02</td>\n",
       "      <td>4.800000e+01</td>\n",
       "      <td>2.216000e+03</td>\n",
       "      <td>0.000000e+00</td>\n",
       "      <td>13.000000</td>\n",
       "      <td>0.000000</td>\n",
       "    </tr>\n",
       "    <tr>\n",
       "      <th>50%</th>\n",
       "      <td>332.000000</td>\n",
       "      <td>224.000000</td>\n",
       "      <td>258.000000</td>\n",
       "      <td>9.000000</td>\n",
       "      <td>0.000000</td>\n",
       "      <td>1.136640e+05</td>\n",
       "      <td>2.631680e+05</td>\n",
       "      <td>0.000000e+00</td>\n",
       "      <td>5.288300e+04</td>\n",
       "      <td>4.096000e+03</td>\n",
       "      <td>...</td>\n",
       "      <td>6.000000</td>\n",
       "      <td>3.729824</td>\n",
       "      <td>2.458492</td>\n",
       "      <td>5.317552</td>\n",
       "      <td>2.708154e+03</td>\n",
       "      <td>4.800000e+01</td>\n",
       "      <td>9.640000e+03</td>\n",
       "      <td>7.200000e+01</td>\n",
       "      <td>15.000000</td>\n",
       "      <td>0.000000</td>\n",
       "    </tr>\n",
       "    <tr>\n",
       "      <th>75%</th>\n",
       "      <td>332.000000</td>\n",
       "      <td>224.000000</td>\n",
       "      <td>8226.000000</td>\n",
       "      <td>10.000000</td>\n",
       "      <td>0.000000</td>\n",
       "      <td>1.203200e+05</td>\n",
       "      <td>3.850240e+05</td>\n",
       "      <td>0.000000e+00</td>\n",
       "      <td>6.157800e+04</td>\n",
       "      <td>4.096000e+03</td>\n",
       "      <td>...</td>\n",
       "      <td>13.000000</td>\n",
       "      <td>4.233051</td>\n",
       "      <td>2.696833</td>\n",
       "      <td>6.502239</td>\n",
       "      <td>6.558429e+03</td>\n",
       "      <td>1.320000e+02</td>\n",
       "      <td>2.378000e+04</td>\n",
       "      <td>7.200000e+01</td>\n",
       "      <td>16.000000</td>\n",
       "      <td>1.000000</td>\n",
       "    </tr>\n",
       "    <tr>\n",
       "      <th>max</th>\n",
       "      <td>34404.000000</td>\n",
       "      <td>352.000000</td>\n",
       "      <td>49551.000000</td>\n",
       "      <td>255.000000</td>\n",
       "      <td>255.000000</td>\n",
       "      <td>1.818587e+09</td>\n",
       "      <td>4.294966e+09</td>\n",
       "      <td>4.294941e+09</td>\n",
       "      <td>1.074484e+09</td>\n",
       "      <td>2.028711e+09</td>\n",
       "      <td>...</td>\n",
       "      <td>7694.000000</td>\n",
       "      <td>7.999723</td>\n",
       "      <td>7.999723</td>\n",
       "      <td>8.000000</td>\n",
       "      <td>2.415919e+09</td>\n",
       "      <td>2.415919e+09</td>\n",
       "      <td>4.294903e+09</td>\n",
       "      <td>4.294967e+09</td>\n",
       "      <td>26.000000</td>\n",
       "      <td>1.000000</td>\n",
       "    </tr>\n",
       "  </tbody>\n",
       "</table>\n",
       "<p>8 rows × 55 columns</p>\n",
       "</div>"
      ],
      "text/plain": [
       "             Machine  SizeOfOptionalHeader  Characteristics  \\\n",
       "count  138047.000000         138047.000000    138047.000000   \n",
       "mean     4259.069274            225.845632      4444.145994   \n",
       "std     10880.347245              5.121399      8186.782524   \n",
       "min       332.000000            224.000000         2.000000   \n",
       "25%       332.000000            224.000000       258.000000   \n",
       "50%       332.000000            224.000000       258.000000   \n",
       "75%       332.000000            224.000000      8226.000000   \n",
       "max     34404.000000            352.000000     49551.000000   \n",
       "\n",
       "       MajorLinkerVersion  MinorLinkerVersion    SizeOfCode  \\\n",
       "count       138047.000000       138047.000000  1.380470e+05   \n",
       "mean             8.619774            3.819286  2.425956e+05   \n",
       "std              4.088757           11.862675  5.754485e+06   \n",
       "min              0.000000            0.000000  0.000000e+00   \n",
       "25%              8.000000            0.000000  3.020800e+04   \n",
       "50%              9.000000            0.000000  1.136640e+05   \n",
       "75%             10.000000            0.000000  1.203200e+05   \n",
       "max            255.000000          255.000000  1.818587e+09   \n",
       "\n",
       "       SizeOfInitializedData  SizeOfUninitializedData  AddressOfEntryPoint  \\\n",
       "count           1.380470e+05             1.380470e+05         1.380470e+05   \n",
       "mean            4.504867e+05             1.009525e+05         1.719561e+05   \n",
       "std             2.101599e+07             1.635288e+07         3.430553e+06   \n",
       "min             0.000000e+00             0.000000e+00         0.000000e+00   \n",
       "25%             2.457600e+04             0.000000e+00         1.272100e+04   \n",
       "50%             2.631680e+05             0.000000e+00         5.288300e+04   \n",
       "75%             3.850240e+05             0.000000e+00         6.157800e+04   \n",
       "max             4.294966e+09             4.294941e+09         1.074484e+09   \n",
       "\n",
       "         BaseOfCode  ...    ResourcesNb  ResourcesMeanEntropy  \\\n",
       "count  1.380470e+05  ...  138047.000000         138047.000000   \n",
       "mean   5.779845e+04  ...      22.050700              4.000127   \n",
       "std    5.527658e+06  ...     136.494244              1.112981   \n",
       "min    0.000000e+00  ...       0.000000              0.000000   \n",
       "25%    4.096000e+03  ...       5.000000              3.458505   \n",
       "50%    4.096000e+03  ...       6.000000              3.729824   \n",
       "75%    4.096000e+03  ...      13.000000              4.233051   \n",
       "max    2.028711e+09  ...    7694.000000              7.999723   \n",
       "\n",
       "       ResourcesMinEntropy  ResourcesMaxEntropy  ResourcesMeanSize  \\\n",
       "count        138047.000000        138047.000000       1.380470e+05   \n",
       "mean              2.434541             5.521610       5.545093e+04   \n",
       "std               0.815577             1.597403       7.799163e+06   \n",
       "min               0.000000             0.000000       0.000000e+00   \n",
       "25%               2.178748             4.828706       9.560000e+02   \n",
       "50%               2.458492             5.317552       2.708154e+03   \n",
       "75%               2.696833             6.502239       6.558429e+03   \n",
       "max               7.999723             8.000000       2.415919e+09   \n",
       "\n",
       "       ResourcesMinSize  ResourcesMaxSize  LoadConfigurationSize  \\\n",
       "count      1.380470e+05      1.380470e+05           1.380470e+05   \n",
       "mean       1.818082e+04      2.465903e+05           4.656750e+05   \n",
       "std        6.502369e+06      2.124860e+07           2.608987e+07   \n",
       "min        0.000000e+00      0.000000e+00           0.000000e+00   \n",
       "25%        4.800000e+01      2.216000e+03           0.000000e+00   \n",
       "50%        4.800000e+01      9.640000e+03           7.200000e+01   \n",
       "75%        1.320000e+02      2.378000e+04           7.200000e+01   \n",
       "max        2.415919e+09      4.294903e+09           4.294967e+09   \n",
       "\n",
       "       VersionInformationSize     legitimate  \n",
       "count           138047.000000  138047.000000  \n",
       "mean                12.363115       0.299340  \n",
       "std                  6.798878       0.457971  \n",
       "min                  0.000000       0.000000  \n",
       "25%                 13.000000       0.000000  \n",
       "50%                 15.000000       0.000000  \n",
       "75%                 16.000000       1.000000  \n",
       "max                 26.000000       1.000000  \n",
       "\n",
       "[8 rows x 55 columns]"
      ]
     },
     "execution_count": 8,
     "metadata": {},
     "output_type": "execute_result"
    }
   ],
   "source": [
    "data.describe()"
   ]
  },
  {
   "cell_type": "code",
   "execution_count": 9,
   "metadata": {},
   "outputs": [],
   "source": [
    "X=data.drop(['legitimate'],axis=1)\n",
    "y=data['legitimate']"
   ]
  },
  {
   "cell_type": "code",
   "execution_count": 10,
   "metadata": {},
   "outputs": [
    {
     "name": "stdout",
     "output_type": "stream",
     "text": [
      "(138047, 54) (138047,)\n"
     ]
    }
   ],
   "source": [
    "print(X.shape,y.shape)"
   ]
  },
  {
   "cell_type": "code",
   "execution_count": 11,
   "metadata": {},
   "outputs": [
    {
     "name": "stdout",
     "output_type": "stream",
     "text": [
      "Researching important feature based on 54 total features\n",
      "\n"
     ]
    }
   ],
   "source": [
    "print('Researching important feature based on %i total features\\n' % X.shape[1])"
   ]
  },
  {
   "cell_type": "code",
   "execution_count": 12,
   "metadata": {},
   "outputs": [
    {
     "name": "stdout",
     "output_type": "stream",
     "text": [
      "(110437, 54) (110437,)\n",
      "(27610, 54) (27610,)\n"
     ]
    }
   ],
   "source": [
    "xtrain,xtest,ytrain,ytest=tts(X,y,test_size=0.2,random_state=42,stratify=y)\n",
    "print(xtrain.shape,ytrain.shape)\n",
    "print(xtest.shape,ytest.shape)"
   ]
  },
  {
   "cell_type": "code",
   "execution_count": 13,
   "metadata": {},
   "outputs": [],
   "source": [
    "from sklearn.preprocessing import StandardScaler\n",
    "sc=StandardScaler()\n",
    "xtrain=sc.fit_transform(xtrain)\n",
    "xtest=sc.transform(xtest)"
   ]
  },
  {
   "cell_type": "code",
   "execution_count": 14,
   "metadata": {},
   "outputs": [
    {
     "name": "stdout",
     "output_type": "stream",
     "text": [
      "Accuracy of the Logistic Regression model is:  98.0043462513582  % !!!\n",
      "The Classification Report is               precision    recall  f1-score   support\n",
      "\n",
      "           0       0.98      0.99      0.99     19345\n",
      "           1       0.97      0.96      0.97      8265\n",
      "\n",
      "    accuracy                           0.98     27610\n",
      "   macro avg       0.98      0.97      0.98     27610\n",
      "weighted avg       0.98      0.98      0.98     27610\n",
      "\n"
     ]
    },
    {
     "data": {
      "image/png": "[encoded data removed]",
      "text/plain": [
       "<Figure size 1080x720 with 2 Axes>"
      ]
     },
     "metadata": {
      "needs_background": "light"
     },
     "output_type": "display_data"
    }
   ],
   "source": [
    "from sklearn.metrics import accuracy_score,classification_report,confusion_matrix\n",
    "from sklearn.linear_model import LogisticRegression\n",
    "clf0=LogisticRegression(max_iter=300)\n",
    "clf0.fit(xtrain,ytrain)\n",
    "ypred=clf0.predict(xtest)\n",
    "score=[]\n",
    "score.append(accuracy_score(ytest,ypred))\n",
    "print(\"Accuracy of the Logistic Regression model is: \",score[0]*100,\" % !!!\")\n",
    "print(\"The Classification Report is\",classification_report(ytest,ypred))\n",
    "cf=confusion_matrix(ytest,ypred)\n",
    "plt.figure(figsize=(15,10))\n",
    "sns.heatmap(cf,annot=True,cmap='Blues')\n",
    "plt.title('Confusion Matrix for Logistic Regression')\n",
    "plt.savefig('logosticReg.jpg')\n",
    "plt.show()"
   ]
  },
  {
   "cell_type": "code",
   "execution_count": 15,
   "metadata": {},
   "outputs": [
    {
     "name": "stdout",
     "output_type": "stream",
     "text": [
      "Accuracy of the Decision Tree model is:  99.04744657732707  % !!!\n",
      "The Classification Report is               precision    recall  f1-score   support\n",
      "\n",
      "           0       0.99      0.99      0.99     19345\n",
      "           1       0.99      0.98      0.98      8265\n",
      "\n",
      "    accuracy                           0.99     27610\n",
      "   macro avg       0.99      0.99      0.99     27610\n",
      "weighted avg       0.99      0.99      0.99     27610\n",
      "\n"
     ]
    },
    {
     "data": {
      "image/png": "[encoded data removed]",
      "text/plain": [
       "<Figure size 1080x720 with 2 Axes>"
      ]
     },
     "metadata": {
      "needs_background": "light"
     },
     "output_type": "display_data"
    }
   ],
   "source": [
    "from sklearn.tree import DecisionTreeClassifier\n",
    "clf1=DecisionTreeClassifier(max_depth=10)\n",
    "clf1.fit(xtrain,ytrain)\n",
    "ypred=clf1.predict(xtest)\n",
    "score.append(accuracy_score(ytest,ypred))\n",
    "print(\"Accuracy of the Decision Tree model is: \",score[1]*100,\" % !!!\")\n",
    "print(\"The Classification Report is\",classification_report(ytest,ypred))\n",
    "cf=confusion_matrix(ytest,ypred)\n",
    "plt.figure(figsize=(15,10))\n",
    "sns.heatmap(cf,annot=True,cmap='Blues')\n",
    "plt.title('Confusion Matrix for Decision Tree')\n",
    "plt.savefig('dTree.jpg')\n",
    "plt.show()"
   ]
  },
  {
   "cell_type": "code",
   "execution_count": 16,
   "metadata": {},
   "outputs": [
    {
     "name": "stdout",
     "output_type": "stream",
     "text": [
      "Accuracy of the Random Forest model is:  99.54002173125679  % !!!\n",
      "The Classification Report is               precision    recall  f1-score   support\n",
      "\n",
      "           0       1.00      1.00      1.00     19345\n",
      "           1       0.99      0.99      0.99      8265\n",
      "\n",
      "    accuracy                           1.00     27610\n",
      "   macro avg       0.99      0.99      0.99     27610\n",
      "weighted avg       1.00      1.00      1.00     27610\n",
      "\n"
     ]
    },
    {
     "data": {
      "image/png": "[encoded data removed]",
      "text/plain": [
       "<Figure size 1080x720 with 2 Axes>"
      ]
     },
     "metadata": {
      "needs_background": "light"
     },
     "output_type": "display_data"
    }
   ],
   "source": [
    "from sklearn.ensemble import RandomForestClassifier\n",
    "clf2=RandomForestClassifier(n_estimators=50,n_jobs=-1)\n",
    "clf2.fit(xtrain,ytrain)\n",
    "ypred=clf2.predict(xtest)\n",
    "score.append(accuracy_score(ytest,ypred))\n",
    "print(\"Accuracy of the Random Forest model is: \",score[2]*100,\" % !!!\")\n",
    "print(\"The Classification Report is\",classification_report(ytest,ypred))\n",
    "cf=confusion_matrix(ytest,ypred)\n",
    "plt.figure(figsize=(15,10))\n",
    "sns.heatmap(cf,annot=True,cmap='Blues')\n",
    "plt.title('Confusion Matrix for Random Forest')\n",
    "plt.savefig('randomForest.jpg')\n",
    "plt.show()"
   ]
  },
  {
   "cell_type": "code",
   "execution_count": 17,
   "metadata": {},
   "outputs": [
    {
     "name": "stdout",
     "output_type": "stream",
     "text": [
      "Accuracy of the MLP Classifier model is:  99.00760593987685  % !!!\n",
      "The Classification Report is               precision    recall  f1-score   support\n",
      "\n",
      "           0       0.99      0.99      0.99     19345\n",
      "           1       0.98      0.98      0.98      8265\n",
      "\n",
      "    accuracy                           0.99     27610\n",
      "   macro avg       0.99      0.99      0.99     27610\n",
      "weighted avg       0.99      0.99      0.99     27610\n",
      "\n"
     ]
    },
    {
     "data": {
      "image/png": "[encoded data removed]",
      "text/plain": [
       "<Figure size 1080x720 with 2 Axes>"
      ]
     },
     "metadata": {
      "needs_background": "light"
     },
     "output_type": "display_data"
    }
   ],
   "source": [
    "from sklearn.neural_network import MLPClassifier\n",
    "clf3=MLPClassifier(hidden_layer_sizes=(16,16))\n",
    "clf3.fit(xtrain,ytrain)\n",
    "ypred=clf3.predict(xtest)\n",
    "score.append(accuracy_score(ytest,ypred))\n",
    "print(\"Accuracy of the MLP Classifier model is: \",score[3]*100,\" % !!!\")\n",
    "print(\"The Classification Report is\",classification_report(ytest,ypred))\n",
    "cf=confusion_matrix(ytest,ypred)\n",
    "plt.figure(figsize=(15,10))\n",
    "sns.heatmap(cf,annot=True,cmap='Blues')\n",
    "plt.title('Confusion Matrix for MLP Classifier')\n",
    "plt.savefig('MLPClassifier.jpg')\n",
    "plt.show()"
   ]
  },
  {
   "cell_type": "code",
   "execution_count": 18,
   "metadata": {},
   "outputs": [
    {
     "name": "stdout",
     "output_type": "stream",
     "text": [
      "Accuracy of the Gradient Boosting model is:  98.88446215139443  % !!!\n",
      "The Classification Report is               precision    recall  f1-score   support\n",
      "\n",
      "           0       0.99      0.99      0.99     19345\n",
      "           1       0.98      0.98      0.98      8265\n",
      "\n",
      "    accuracy                           0.99     27610\n",
      "   macro avg       0.99      0.99      0.99     27610\n",
      "weighted avg       0.99      0.99      0.99     27610\n",
      "\n"
     ]
    },
    {
     "data": {
      "image/png": "[encoded data removed]",
      "text/plain": [
       "<Figure size 1080x720 with 2 Axes>"
      ]
     },
     "metadata": {
      "needs_background": "light"
     },
     "output_type": "display_data"
    }
   ],
   "source": [
    "from sklearn.ensemble import GradientBoostingClassifier\n",
    "clf4=GradientBoostingClassifier(n_estimators=50)\n",
    "clf4.fit(xtrain,ytrain)\n",
    "ypred=clf4.predict(xtest)\n",
    "score.append(accuracy_score(ytest,ypred))\n",
    "print(\"Accuracy of the Gradient Boosting model is: \",score[4]*100,\" % !!!\")\n",
    "print(\"The Classification Report is\",classification_report(ytest,ypred))\n",
    "cf=confusion_matrix(ytest,ypred)\n",
    "plt.figure(figsize=(15,10))\n",
    "sns.heatmap(cf,annot=True,cmap='Blues')\n",
    "plt.title('Confusion Matrix for Gradient Boosting')\n",
    "plt.savefig('GradientBoosting.jpg')\n",
    "plt.show()"
   ]
  },
  {
   "cell_type": "code",
   "execution_count": 19,
   "metadata": {},
   "outputs": [
    {
     "data": {
      "text/plain": [
       "['model.pkl']"
      ]
     },
     "execution_count": 19,
     "metadata": {},
     "output_type": "execute_result"
    }
   ],
   "source": [
    "import joblib\n",
    "joblib.dump(sc,'scaler.pkl')\n",
    "joblib.dump(clf2,'model.pkl')"
   ]
  },
  {
   "cell_type": "code",
   "execution_count": null,
   "metadata": {},
   "outputs": [],
   "source": []
  }
 ],
 "metadata": {
  "kernelspec": {
   "display_name": "Python 3",
   "language": "python",
   "name": "python3"
  },
  "language_info": {
   "codemirror_mode": {
    "name": "ipython",
    "version": 3
   },
   "file_extension": ".py",
   "mimetype": "text/x-python",
   "name": "python",
   "nbconvert_exporter": "python",
   "pygments_lexer": "ipython3",
   "version": "3.7.9"
  }
 },
 "nbformat": 4,
 "nbformat_minor": 4
}
